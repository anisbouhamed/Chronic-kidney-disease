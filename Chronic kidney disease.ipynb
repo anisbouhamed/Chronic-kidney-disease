{
 "cells": [
  {
   "cell_type": "markdown",
   "id": "d1c51bb1",
   "metadata": {},
   "source": [
    "# Importation des librairies à utiliser"
   ]
  },
  {
   "cell_type": "code",
   "execution_count": 1,
   "id": "259a6754",
   "metadata": {},
   "outputs": [],
   "source": [
    "import pandas as pd\n",
    "import io\n",
    "import numpy as np\n",
    "import matplotlib.pyplot as plt\n",
    "import seaborn as sns "
   ]
  },
  {
   "cell_type": "markdown",
   "id": "f63bb9bd",
   "metadata": {},
   "source": [
    "# Chargement des données"
   ]
  },
  {
   "cell_type": "code",
   "execution_count": 2,
   "id": "bffc1fbb",
   "metadata": {},
   "outputs": [],
   "source": [
    "import pandas as pd\n",
    "\n",
    "data = []\n",
    "with open('C:/Users/user/Downloads/chronic_kidney_disease.arff', \"r\") as f:\n",
    "    for line in f:\n",
    "        line = line.replace('\\n', '')\n",
    "        data.append(line.split(','))\n",
    "\n",
    "\n",
    "names = ['age', 'bp', 'sg', 'al', 'su', 'rbc', 'pc', 'pcc', 'ba',\n",
    "         'bgr', 'bu',  'sc', 'sod', 'pot', 'hemo', 'pcv', 'wbcc',\n",
    "         'rbcc', 'htn', 'dm', 'cad', 'appet', 'pe', 'ane',\n",
    "         'class', 'no_name']\n",
    "    \n",
    "df = pd.DataFrame(data, columns=names)"
   ]
  },
  {
   "cell_type": "markdown",
   "id": "f0ddd535",
   "metadata": {},
   "source": [
    "# Exploration des données"
   ]
  },
  {
   "cell_type": "code",
   "execution_count": 3,
   "id": "cdc9aebb",
   "metadata": {},
   "outputs": [
    {
     "data": {
      "text/plain": [
       "(400, 26)"
      ]
     },
     "execution_count": 3,
     "metadata": {},
     "output_type": "execute_result"
    }
   ],
   "source": [
    "df.shape"
   ]
  },
  {
   "cell_type": "markdown",
   "id": "dec73f3b",
   "metadata": {},
   "source": [
    "#### Afficher les noms des features\n"
   ]
  },
  {
   "cell_type": "code",
   "execution_count": 4,
   "id": "5613d4a2",
   "metadata": {},
   "outputs": [
    {
     "data": {
      "text/plain": [
       "Index(['age', 'bp', 'sg', 'al', 'su', 'rbc', 'pc', 'pcc', 'ba', 'bgr', 'bu',\n",
       "       'sc', 'sod', 'pot', 'hemo', 'pcv', 'wbcc', 'rbcc', 'htn', 'dm', 'cad',\n",
       "       'appet', 'pe', 'ane', 'class', 'no_name'],\n",
       "      dtype='object')"
      ]
     },
     "execution_count": 4,
     "metadata": {},
     "output_type": "execute_result"
    }
   ],
   "source": [
    "df.columns"
   ]
  },
  {
   "cell_type": "markdown",
   "id": "447a0f59",
   "metadata": {},
   "source": [
    "#### Afficher les 5 premières lignes. "
   ]
  },
  {
   "cell_type": "code",
   "execution_count": 5,
   "id": "e18f5e88",
   "metadata": {},
   "outputs": [
    {
     "data": {
      "text/html": [
       "<div>\n",
       "<style scoped>\n",
       "    .dataframe tbody tr th:only-of-type {\n",
       "        vertical-align: middle;\n",
       "    }\n",
       "\n",
       "    .dataframe tbody tr th {\n",
       "        vertical-align: top;\n",
       "    }\n",
       "\n",
       "    .dataframe thead th {\n",
       "        text-align: right;\n",
       "    }\n",
       "</style>\n",
       "<table border=\"1\" class=\"dataframe\">\n",
       "  <thead>\n",
       "    <tr style=\"text-align: right;\">\n",
       "      <th></th>\n",
       "      <th>age</th>\n",
       "      <th>bp</th>\n",
       "      <th>sg</th>\n",
       "      <th>al</th>\n",
       "      <th>su</th>\n",
       "      <th>rbc</th>\n",
       "      <th>pc</th>\n",
       "      <th>pcc</th>\n",
       "      <th>ba</th>\n",
       "      <th>bgr</th>\n",
       "      <th>...</th>\n",
       "      <th>wbcc</th>\n",
       "      <th>rbcc</th>\n",
       "      <th>htn</th>\n",
       "      <th>dm</th>\n",
       "      <th>cad</th>\n",
       "      <th>appet</th>\n",
       "      <th>pe</th>\n",
       "      <th>ane</th>\n",
       "      <th>class</th>\n",
       "      <th>no_name</th>\n",
       "    </tr>\n",
       "  </thead>\n",
       "  <tbody>\n",
       "    <tr>\n",
       "      <th>0</th>\n",
       "      <td>48</td>\n",
       "      <td>80</td>\n",
       "      <td>1.020</td>\n",
       "      <td>1</td>\n",
       "      <td>0</td>\n",
       "      <td>?</td>\n",
       "      <td>normal</td>\n",
       "      <td>notpresent</td>\n",
       "      <td>notpresent</td>\n",
       "      <td>121</td>\n",
       "      <td>...</td>\n",
       "      <td>7800</td>\n",
       "      <td>5.2</td>\n",
       "      <td>yes</td>\n",
       "      <td>yes</td>\n",
       "      <td>no</td>\n",
       "      <td>good</td>\n",
       "      <td>no</td>\n",
       "      <td>no</td>\n",
       "      <td>ckd</td>\n",
       "      <td>None</td>\n",
       "    </tr>\n",
       "    <tr>\n",
       "      <th>1</th>\n",
       "      <td>7</td>\n",
       "      <td>50</td>\n",
       "      <td>1.020</td>\n",
       "      <td>4</td>\n",
       "      <td>0</td>\n",
       "      <td>?</td>\n",
       "      <td>normal</td>\n",
       "      <td>notpresent</td>\n",
       "      <td>notpresent</td>\n",
       "      <td>?</td>\n",
       "      <td>...</td>\n",
       "      <td>6000</td>\n",
       "      <td>?</td>\n",
       "      <td>no</td>\n",
       "      <td>no</td>\n",
       "      <td>no</td>\n",
       "      <td>good</td>\n",
       "      <td>no</td>\n",
       "      <td>no</td>\n",
       "      <td>ckd</td>\n",
       "      <td>None</td>\n",
       "    </tr>\n",
       "    <tr>\n",
       "      <th>2</th>\n",
       "      <td>62</td>\n",
       "      <td>80</td>\n",
       "      <td>1.010</td>\n",
       "      <td>2</td>\n",
       "      <td>3</td>\n",
       "      <td>normal</td>\n",
       "      <td>normal</td>\n",
       "      <td>notpresent</td>\n",
       "      <td>notpresent</td>\n",
       "      <td>423</td>\n",
       "      <td>...</td>\n",
       "      <td>7500</td>\n",
       "      <td>?</td>\n",
       "      <td>no</td>\n",
       "      <td>yes</td>\n",
       "      <td>no</td>\n",
       "      <td>poor</td>\n",
       "      <td>no</td>\n",
       "      <td>yes</td>\n",
       "      <td>ckd</td>\n",
       "      <td>None</td>\n",
       "    </tr>\n",
       "    <tr>\n",
       "      <th>3</th>\n",
       "      <td>48</td>\n",
       "      <td>70</td>\n",
       "      <td>1.005</td>\n",
       "      <td>4</td>\n",
       "      <td>0</td>\n",
       "      <td>normal</td>\n",
       "      <td>abnormal</td>\n",
       "      <td>present</td>\n",
       "      <td>notpresent</td>\n",
       "      <td>117</td>\n",
       "      <td>...</td>\n",
       "      <td>6700</td>\n",
       "      <td>3.9</td>\n",
       "      <td>yes</td>\n",
       "      <td>no</td>\n",
       "      <td>no</td>\n",
       "      <td>poor</td>\n",
       "      <td>yes</td>\n",
       "      <td>yes</td>\n",
       "      <td>ckd</td>\n",
       "      <td>None</td>\n",
       "    </tr>\n",
       "    <tr>\n",
       "      <th>4</th>\n",
       "      <td>51</td>\n",
       "      <td>80</td>\n",
       "      <td>1.010</td>\n",
       "      <td>2</td>\n",
       "      <td>0</td>\n",
       "      <td>normal</td>\n",
       "      <td>normal</td>\n",
       "      <td>notpresent</td>\n",
       "      <td>notpresent</td>\n",
       "      <td>106</td>\n",
       "      <td>...</td>\n",
       "      <td>7300</td>\n",
       "      <td>4.6</td>\n",
       "      <td>no</td>\n",
       "      <td>no</td>\n",
       "      <td>no</td>\n",
       "      <td>good</td>\n",
       "      <td>no</td>\n",
       "      <td>no</td>\n",
       "      <td>ckd</td>\n",
       "      <td>None</td>\n",
       "    </tr>\n",
       "  </tbody>\n",
       "</table>\n",
       "<p>5 rows × 26 columns</p>\n",
       "</div>"
      ],
      "text/plain": [
       "  age  bp     sg al su     rbc        pc         pcc          ba  bgr  ...  \\\n",
       "0  48  80  1.020  1  0       ?    normal  notpresent  notpresent  121  ...   \n",
       "1   7  50  1.020  4  0       ?    normal  notpresent  notpresent    ?  ...   \n",
       "2  62  80  1.010  2  3  normal    normal  notpresent  notpresent  423  ...   \n",
       "3  48  70  1.005  4  0  normal  abnormal     present  notpresent  117  ...   \n",
       "4  51  80  1.010  2  0  normal    normal  notpresent  notpresent  106  ...   \n",
       "\n",
       "   wbcc rbcc  htn   dm cad appet   pe  ane class no_name  \n",
       "0  7800  5.2  yes  yes  no  good   no   no   ckd    None  \n",
       "1  6000    ?   no   no  no  good   no   no   ckd    None  \n",
       "2  7500    ?   no  yes  no  poor   no  yes   ckd    None  \n",
       "3  6700  3.9  yes   no  no  poor  yes  yes   ckd    None  \n",
       "4  7300  4.6   no   no  no  good   no   no   ckd    None  \n",
       "\n",
       "[5 rows x 26 columns]"
      ]
     },
     "execution_count": 5,
     "metadata": {},
     "output_type": "execute_result"
    }
   ],
   "source": [
    "df.head()"
   ]
  },
  {
   "cell_type": "markdown",
   "id": "40419e86",
   "metadata": {},
   "source": [
    "#### Afficher les 5 dérnieres lignes. "
   ]
  },
  {
   "cell_type": "code",
   "execution_count": 6,
   "id": "3af4355a",
   "metadata": {},
   "outputs": [
    {
     "data": {
      "text/html": [
       "<div>\n",
       "<style scoped>\n",
       "    .dataframe tbody tr th:only-of-type {\n",
       "        vertical-align: middle;\n",
       "    }\n",
       "\n",
       "    .dataframe tbody tr th {\n",
       "        vertical-align: top;\n",
       "    }\n",
       "\n",
       "    .dataframe thead th {\n",
       "        text-align: right;\n",
       "    }\n",
       "</style>\n",
       "<table border=\"1\" class=\"dataframe\">\n",
       "  <thead>\n",
       "    <tr style=\"text-align: right;\">\n",
       "      <th></th>\n",
       "      <th>age</th>\n",
       "      <th>bp</th>\n",
       "      <th>sg</th>\n",
       "      <th>al</th>\n",
       "      <th>su</th>\n",
       "      <th>rbc</th>\n",
       "      <th>pc</th>\n",
       "      <th>pcc</th>\n",
       "      <th>ba</th>\n",
       "      <th>bgr</th>\n",
       "      <th>...</th>\n",
       "      <th>wbcc</th>\n",
       "      <th>rbcc</th>\n",
       "      <th>htn</th>\n",
       "      <th>dm</th>\n",
       "      <th>cad</th>\n",
       "      <th>appet</th>\n",
       "      <th>pe</th>\n",
       "      <th>ane</th>\n",
       "      <th>class</th>\n",
       "      <th>no_name</th>\n",
       "    </tr>\n",
       "  </thead>\n",
       "  <tbody>\n",
       "    <tr>\n",
       "      <th>395</th>\n",
       "      <td>55</td>\n",
       "      <td>80</td>\n",
       "      <td>1.020</td>\n",
       "      <td>0</td>\n",
       "      <td>0</td>\n",
       "      <td>normal</td>\n",
       "      <td>normal</td>\n",
       "      <td>notpresent</td>\n",
       "      <td>notpresent</td>\n",
       "      <td>140</td>\n",
       "      <td>...</td>\n",
       "      <td>6700</td>\n",
       "      <td>4.9</td>\n",
       "      <td>no</td>\n",
       "      <td>no</td>\n",
       "      <td>no</td>\n",
       "      <td>good</td>\n",
       "      <td>no</td>\n",
       "      <td>no</td>\n",
       "      <td>notckd</td>\n",
       "      <td>None</td>\n",
       "    </tr>\n",
       "    <tr>\n",
       "      <th>396</th>\n",
       "      <td>42</td>\n",
       "      <td>70</td>\n",
       "      <td>1.025</td>\n",
       "      <td>0</td>\n",
       "      <td>0</td>\n",
       "      <td>normal</td>\n",
       "      <td>normal</td>\n",
       "      <td>notpresent</td>\n",
       "      <td>notpresent</td>\n",
       "      <td>75</td>\n",
       "      <td>...</td>\n",
       "      <td>7800</td>\n",
       "      <td>6.2</td>\n",
       "      <td>no</td>\n",
       "      <td>no</td>\n",
       "      <td>no</td>\n",
       "      <td>good</td>\n",
       "      <td>no</td>\n",
       "      <td>no</td>\n",
       "      <td>notckd</td>\n",
       "      <td>None</td>\n",
       "    </tr>\n",
       "    <tr>\n",
       "      <th>397</th>\n",
       "      <td>12</td>\n",
       "      <td>80</td>\n",
       "      <td>1.020</td>\n",
       "      <td>0</td>\n",
       "      <td>0</td>\n",
       "      <td>normal</td>\n",
       "      <td>normal</td>\n",
       "      <td>notpresent</td>\n",
       "      <td>notpresent</td>\n",
       "      <td>100</td>\n",
       "      <td>...</td>\n",
       "      <td>6600</td>\n",
       "      <td>5.4</td>\n",
       "      <td>no</td>\n",
       "      <td>no</td>\n",
       "      <td>no</td>\n",
       "      <td>good</td>\n",
       "      <td>no</td>\n",
       "      <td>no</td>\n",
       "      <td>notckd</td>\n",
       "      <td>None</td>\n",
       "    </tr>\n",
       "    <tr>\n",
       "      <th>398</th>\n",
       "      <td>17</td>\n",
       "      <td>60</td>\n",
       "      <td>1.025</td>\n",
       "      <td>0</td>\n",
       "      <td>0</td>\n",
       "      <td>normal</td>\n",
       "      <td>normal</td>\n",
       "      <td>notpresent</td>\n",
       "      <td>notpresent</td>\n",
       "      <td>114</td>\n",
       "      <td>...</td>\n",
       "      <td>7200</td>\n",
       "      <td>5.9</td>\n",
       "      <td>no</td>\n",
       "      <td>no</td>\n",
       "      <td>no</td>\n",
       "      <td>good</td>\n",
       "      <td>no</td>\n",
       "      <td>no</td>\n",
       "      <td>notckd</td>\n",
       "      <td>None</td>\n",
       "    </tr>\n",
       "    <tr>\n",
       "      <th>399</th>\n",
       "      <td>58</td>\n",
       "      <td>80</td>\n",
       "      <td>1.025</td>\n",
       "      <td>0</td>\n",
       "      <td>0</td>\n",
       "      <td>normal</td>\n",
       "      <td>normal</td>\n",
       "      <td>notpresent</td>\n",
       "      <td>notpresent</td>\n",
       "      <td>131</td>\n",
       "      <td>...</td>\n",
       "      <td>6800</td>\n",
       "      <td>6.1</td>\n",
       "      <td>no</td>\n",
       "      <td>no</td>\n",
       "      <td>no</td>\n",
       "      <td>good</td>\n",
       "      <td>no</td>\n",
       "      <td>no</td>\n",
       "      <td>notckd</td>\n",
       "      <td>None</td>\n",
       "    </tr>\n",
       "  </tbody>\n",
       "</table>\n",
       "<p>5 rows × 26 columns</p>\n",
       "</div>"
      ],
      "text/plain": [
       "    age  bp     sg al su     rbc      pc         pcc          ba  bgr  ...  \\\n",
       "395  55  80  1.020  0  0  normal  normal  notpresent  notpresent  140  ...   \n",
       "396  42  70  1.025  0  0  normal  normal  notpresent  notpresent   75  ...   \n",
       "397  12  80  1.020  0  0  normal  normal  notpresent  notpresent  100  ...   \n",
       "398  17  60  1.025  0  0  normal  normal  notpresent  notpresent  114  ...   \n",
       "399  58  80  1.025  0  0  normal  normal  notpresent  notpresent  131  ...   \n",
       "\n",
       "     wbcc rbcc htn  dm cad appet  pe ane   class no_name  \n",
       "395  6700  4.9  no  no  no  good  no  no  notckd    None  \n",
       "396  7800  6.2  no  no  no  good  no  no  notckd    None  \n",
       "397  6600  5.4  no  no  no  good  no  no  notckd    None  \n",
       "398  7200  5.9  no  no  no  good  no  no  notckd    None  \n",
       "399  6800  6.1  no  no  no  good  no  no  notckd    None  \n",
       "\n",
       "[5 rows x 26 columns]"
      ]
     },
     "execution_count": 6,
     "metadata": {},
     "output_type": "execute_result"
    }
   ],
   "source": [
    "df.tail()"
   ]
  },
  {
   "cell_type": "markdown",
   "id": "928839d6",
   "metadata": {},
   "source": [
    "#### Afficher des informations sur le Dataframe"
   ]
  },
  {
   "cell_type": "code",
   "execution_count": 7,
   "id": "6002c95b",
   "metadata": {},
   "outputs": [
    {
     "name": "stdout",
     "output_type": "stream",
     "text": [
      "<class 'pandas.core.frame.DataFrame'>\n",
      "RangeIndex: 400 entries, 0 to 399\n",
      "Data columns (total 26 columns):\n",
      " #   Column   Non-Null Count  Dtype \n",
      "---  ------   --------------  ----- \n",
      " 0   age      400 non-null    object\n",
      " 1   bp       400 non-null    object\n",
      " 2   sg       400 non-null    object\n",
      " 3   al       400 non-null    object\n",
      " 4   su       400 non-null    object\n",
      " 5   rbc      400 non-null    object\n",
      " 6   pc       400 non-null    object\n",
      " 7   pcc      400 non-null    object\n",
      " 8   ba       400 non-null    object\n",
      " 9   bgr      400 non-null    object\n",
      " 10  bu       400 non-null    object\n",
      " 11  sc       400 non-null    object\n",
      " 12  sod      400 non-null    object\n",
      " 13  pot      400 non-null    object\n",
      " 14  hemo     400 non-null    object\n",
      " 15  pcv      400 non-null    object\n",
      " 16  wbcc     400 non-null    object\n",
      " 17  rbcc     400 non-null    object\n",
      " 18  htn      400 non-null    object\n",
      " 19  dm       400 non-null    object\n",
      " 20  cad      400 non-null    object\n",
      " 21  appet    400 non-null    object\n",
      " 22  pe       400 non-null    object\n",
      " 23  ane      400 non-null    object\n",
      " 24  class    400 non-null    object\n",
      " 25  no_name  3 non-null      object\n",
      "dtypes: object(26)\n",
      "memory usage: 81.4+ KB\n"
     ]
    }
   ],
   "source": [
    "df.info()"
   ]
  },
  {
   "cell_type": "markdown",
   "id": "1d09cd39",
   "metadata": {},
   "source": [
    "#### On remarque que tout les variables sont de type object alors que la plupart de nos features sont des réels et des entiers.\n",
    "#### Meme les valeurs nulles sont tapés comme chaine de caractéres ('?') c'est pourquoi on trouve qu'il y a 0 valeur nulles.\n",
    "#### la variable 'no_name' n'a que 3 valeurs non nulles. C'est une colonne générée à cause d'une faute de saisie des données."
   ]
  },
  {
   "cell_type": "markdown",
   "id": "f3ac0b12",
   "metadata": {},
   "source": [
    "####   "
   ]
  },
  {
   "cell_type": "markdown",
   "id": "36ea1905",
   "metadata": {},
   "source": [
    "#### Extraire toutes les valeurs utilisées pour chaque colonnes pour mieux comprendre les défauts de notre dataset:"
   ]
  },
  {
   "cell_type": "code",
   "execution_count": 8,
   "id": "bd091f47",
   "metadata": {
    "scrolled": false
   },
   "outputs": [
    {
     "name": "stdout",
     "output_type": "stream",
     "text": [
      "unique values in \"age\":\n",
      " ['48' '7' '62' '51' '60' '68' '24' '52' '53' '50' '63' '40' '47' '61' '21'\n",
      " '42' '75' '69' '?' '73' '70' '65' '76' '72' '82' '46' '45' '35' '54' '11'\n",
      " '59' '67' '15' '55' '44' '26' '64' '56' '5' '74' '38' '58' '71' '34' '17'\n",
      " '12' '43' '41' '57' '8' '39' '66' '81' '14' '27' '83' '30' '4' '3' '6'\n",
      " '32' '80' '49' '90' '78' '19' '2' '33' '36' '37' '23' '25' '20' '29' '28'\n",
      " '22' '79']\n",
      "unique values in \"bp\":\n",
      " ['80' '50' '70' '90' '?' '100' '60' '110' '140' '180' '120']\n",
      "unique values in \"sg\":\n",
      " ['1.020' '1.010' '1.005' '1.015' '?' '1.025']\n",
      "unique values in \"al\":\n",
      " ['1' '4' '2' '3' '0' '?' '5']\n",
      "unique values in \"su\":\n",
      " ['0' '3' '4' '1' '?' '2' '5']\n",
      "unique values in \"rbc\":\n",
      " ['?' 'normal' 'abnormal']\n",
      "unique values in \"pc\":\n",
      " ['normal' 'abnormal' '?']\n",
      "unique values in \"pcc\":\n",
      " ['notpresent' 'present' '?']\n",
      "unique values in \"ba\":\n",
      " ['notpresent' 'present' '?']\n",
      "unique values in \"bgr\":\n",
      " ['121' '?' '423' '117' '106' '74' '100' '410' '138' '70' '490' '380' '208'\n",
      " '98' '157' '76' '99' '114' '263' '173' '95' '108' '156' '264' '123' '93'\n",
      " '107' '159' '140' '171' '270' '92' '137' '204' '79' '207' '124' '144'\n",
      " '91' '162' '246' '253' '141' '182' '86' '150' '146' '425' '112' '250'\n",
      " '360' '163' '129' '133' '102' '158' '165' '132' '104' '127' '415' '169'\n",
      " '251' '109' '280' '210' '219' '295' '94' '172' '101' '298' '153' '88'\n",
      " '226' '143' '115' '89' '297' '233' '294' '323' '125' '90' '308' '118'\n",
      " '224' '128' '122' '214' '213' '268' '256' '84' '105' '288' '139' '78'\n",
      " '273' '242' '424' '303' '148' '160' '192' '307' '220' '447' '309' '22'\n",
      " '111' '261' '215' '234' '131' '352' '80' '239' '110' '130' '184' '252'\n",
      " '113' '230' '341' '255' '103' '238' '248' '120' '241' '269' '201' '203'\n",
      " '463' '176' '82' '119' '97' '96' '81' '116' '134' '85' '83' '87' '75']\n",
      "unique values in \"bu\":\n",
      " ['36' '18' '53' '56' '26' '25' '54' '31' '60' '107' '55' '72' '86' '90'\n",
      " '162' '46' '87' '27' '148' '180' '163' '?' '50' '75' '45' '28' '155' '33'\n",
      " '39' '153' '29' '65' '103' '70' '80' '20' '202' '77' '89' '24' '17' '32'\n",
      " '114' '66' '38' '164' '142' '96' '391' '15' '111' '73' '19' '92' '35'\n",
      " '16' '139' '48' '85' '98' '186' '37' '47' '52' '82' '51' '106' '22' '217'\n",
      " '88' '118' '50.1' '71' '34' '40' '21' '219' '30' '125' '166' '49' '208'\n",
      " '176' '68' '145' '165' '322' '23' '235' '132' '76' '42' '44' '41' '113'\n",
      " '1.5' '146' '58' '133' '137' '67' '115' '223' '98.6' '158' '94' '74'\n",
      " '150' '61' '57' '95' '191' '93' '241' '64' '79' '215' '309' '10']\n",
      "unique values in \"sc\":\n",
      " ['1.2' '0.8' '1.8' '3.8' '1.4' '1.1' '24.0' '1.9' '7.2' '4.0' '2.7' '2.1'\n",
      " '4.6' '4.1' '9.6' '2.2' '5.2' '1.3' '1.6' '3.9' '76' '7.7' '?' '2.4'\n",
      " '7.3' '1.5' '2.5' '2.0' '3.4' '0.7' '1.0' '10.8' '6.3' '5.9' '0.9' '3.0'\n",
      " '3.25' '9.7' '6.4' '3.2' '32.0' '0.6' '6.1' '3.3' '6.7' '8.5' '2.8' '15'\n",
      " '2.9' '1.7' '3.6' '5.6' '6.5' '4.4' '10.2' '11.5' '0.5' '12.2' '5.3'\n",
      " '9.2' '13.8' '16.9' '6.0' '7.1' '18.0' '2.3' '13.0' '48.1' '14.2' '16.4'\n",
      " '2' '2.6' '7.5' '4.3' '18.1' '11.8' '9.3' '6.8' '13.5' '12.8' '11.9'\n",
      " '12.0' '13.4' '15.2' '13.3' '1' '0.4']\n",
      "unique values in \"sod\":\n",
      " ['?' '111' '142' '104' '114' '131' '138' '135' '130' '141' '139' '4.5'\n",
      " '136' '129' '140' '132' '133' '134' '125' '163' '137' '128' '143' '127'\n",
      " '146' '126' '122' '147' '124' '115' '145' '113' '120' '150' '144']\n",
      "unique values in \"pot\":\n",
      " ['?' '2.5' '3.2' '4.0' '3.7' '4.2' '5.8' '3.4' '6.4' '4.9' '4.1' '4.3'\n",
      " '5.2' '3.8' '4.6' '3.9' '4.7' '5.9' '4.8' '4.4' '6.6' '39.0' '5.5' '5.0'\n",
      " '3.5' '3.6' '7.6' '2.9' '4.5' '5.7' '5.4' '5.3' '47' '6.3' '5.1' '5.6'\n",
      " '4' '3.0' '2.8' '2.7' '6.5' '3.3' '5']\n",
      "unique values in \"hemo\":\n",
      " ['15.4' '11.3' '9.6' '11.2' '11.6' '12.2' '12.4' '10.8' '9.5' '9.4' '9.7'\n",
      " '9.8' '5.6' '7.6' '12.6' '12.1' '12.7' '10.3' '7.7' '10.9' '?' '11.1'\n",
      " '9.9' '12.5' '12.9' '10.1' '12.0' '13.0' '7.9' '9.3' '15.0' '10.0' '8.6'\n",
      " '13.6' '10.2' '10.5' '6.6' '11.0' '7.5' '15.6' '15.2' '4.8' '9.1' '8.1'\n",
      " '11.9' '13.5' '8.3' '7.1' '16.1' '10.4' '9.2' '6.2' '13.9' '14.1' '6.0'\n",
      " '11.8' '11.7' '11.4' '14.0' '8.2' '13.2' '6.1' '8.0' '12.3' '8.4' '14.3'\n",
      " '9.0' '8.7' '10.6' '13.1' '12' '10.7' '5.5' '5.8' '6.8' '8.8' '8.5'\n",
      " '13.8' '11.5' '7.3' '13.7' '12.8' '13.4' '6.3' '3.1' '17.0' '15.9' '14.5'\n",
      " '15.5' '16.2' '14.4' '14.2' '16.3' '14.8' '16.5' '15.7' '13.3' '14.6'\n",
      " '16.4' '16.9' '16.0' '14.7' '16.6' '14.9' '16.7' '16.8' '15.8' '15.1'\n",
      " '17.1' '17.2' '15.3' '17.3' '17.4' '17.7' '17.8' '17.5' '15' '13' '17.6']\n",
      "unique values in \"pcv\":\n",
      " ['44' '38' '31' '32' '35' '39' '36' '33' '29' '28' '?' '16' '24' '37' '30'\n",
      " '34' '40' '45' '27' '48' '\\t?' '52' '14' '22' '18' '42' '17' '46' '23'\n",
      " '19' '25' '41' '26' '15' '21' '43' '20' '\\t43' '47' '9' '49' '50' '53'\n",
      " '51' '54']\n",
      "unique values in \"wbcc\":\n",
      " ['7800' '6000' '7500' '6700' '7300' '?' '6900' '9600' '12100' '4500'\n",
      " '12200' '11000' '3800' '11400' '5300' '9200' '6200' '8300' '8400' '10300'\n",
      " '9800' '9100' '7900' '6400' '8600' '18900' '21600' '4300' '8500' '11300'\n",
      " '7200' '7700' '14600' '6300' '\\t6200' '7100' '11800' '9400' '5500' '5800'\n",
      " '13200' '12500' '5600' '7000' '11900' '10400' '10700' '12700' '6800'\n",
      " '6500' '13600' '10200' '9000' '14900' '8200' '15200' '5000' '16300'\n",
      " '12400' '\\t8400' '10500' '4200' '4700' '10900' '8100' '9500' '2200'\n",
      " '12800' '11200' '19100' '\\t?' '12300' '16700' '2600' '26400' '8800'\n",
      " '7400' '4900' '8000' '12000' '15700' '4100' '5700' '11500' '5400' '10800'\n",
      " '9900' '5200' '5900' '9300' '9700' '5100' '6600']\n",
      "unique values in \"rbcc\":\n",
      " ['5.2' '?' '3.9' '4.6' '4.4' '5' '4.0' '3.7' '3.8' '3.4' '2.6' '2.8' '4.3'\n",
      " '3.2' '3.6' '4' '4.1' '4.9' '2.5' '4.2' '4.5' '3.1' '4.7' '3.5' '6.0'\n",
      " '5.0' '2.1' '5.6' '2.3' '2.9' '2.7' '8.0' '3.3' '3.0' '3' '2.4' '4.8'\n",
      " '\\t?' '5.4' '6.1' '6.2' '6.3' '5.1' '5.8' '5.5' '5.3' '6.4' '5.7' '5.9'\n",
      " '6.5']\n",
      "unique values in \"htn\":\n",
      " ['yes' 'no' '?']\n",
      "unique values in \"dm\":\n",
      " ['yes' 'no' ' yes' '\\tno' '\\tyes' '?' '']\n",
      "unique values in \"cad\":\n",
      " ['no' 'yes' '\\tno' '?']\n",
      "unique values in \"appet\":\n",
      " ['good' 'poor' '?' 'no']\n",
      "unique values in \"pe\":\n",
      " ['no' 'yes' '?' 'good']\n",
      "unique values in \"ane\":\n",
      " ['no' 'yes' '?']\n",
      "unique values in \"class\":\n",
      " ['ckd' 'ckd\\t' 'notckd' 'no']\n",
      "unique values in \"no_name\":\n",
      " [None '' 'notckd']\n"
     ]
    }
   ],
   "source": [
    "for i in df.columns:\n",
    "    print('unique values in \"{}\":\\n'.format(i),df[i].unique())"
   ]
  },
  {
   "cell_type": "markdown",
   "id": "ddc4c211",
   "metadata": {},
   "source": [
    "#### On remarque que toutes les variables sont entrés sous forme de chaine de caractéres (meme les entiers et les floats).\n",
    "#### Aussi, des espaces ont été tapées avant ou aprés l'entré des valeurs de quelques exemples."
   ]
  },
  {
   "cell_type": "markdown",
   "id": "8d5b5d47",
   "metadata": {},
   "source": [
    " #### "
   ]
  },
  {
   "cell_type": "markdown",
   "id": "6595483f",
   "metadata": {},
   "source": [
    "##### On a décidé alors de convertir les '?' et '\\t?' en Nan dés le debut pour mieux visualizer les données dans cette phase d'exploration."
   ]
  },
  {
   "cell_type": "code",
   "execution_count": 9,
   "id": "b83c568c",
   "metadata": {},
   "outputs": [],
   "source": [
    "df=df.replace('?', np.nan)"
   ]
  },
  {
   "cell_type": "code",
   "execution_count": 10,
   "id": "4d946e6b",
   "metadata": {},
   "outputs": [],
   "source": [
    "df=df.replace('\\t?', np.nan)"
   ]
  },
  {
   "cell_type": "code",
   "execution_count": 11,
   "id": "314f5b18",
   "metadata": {
    "scrolled": false
   },
   "outputs": [
    {
     "name": "stdout",
     "output_type": "stream",
     "text": [
      "<class 'pandas.core.frame.DataFrame'>\n",
      "RangeIndex: 400 entries, 0 to 399\n",
      "Data columns (total 26 columns):\n",
      " #   Column   Non-Null Count  Dtype \n",
      "---  ------   --------------  ----- \n",
      " 0   age      391 non-null    object\n",
      " 1   bp       388 non-null    object\n",
      " 2   sg       353 non-null    object\n",
      " 3   al       354 non-null    object\n",
      " 4   su       351 non-null    object\n",
      " 5   rbc      248 non-null    object\n",
      " 6   pc       335 non-null    object\n",
      " 7   pcc      396 non-null    object\n",
      " 8   ba       396 non-null    object\n",
      " 9   bgr      356 non-null    object\n",
      " 10  bu       381 non-null    object\n",
      " 11  sc       383 non-null    object\n",
      " 12  sod      313 non-null    object\n",
      " 13  pot      312 non-null    object\n",
      " 14  hemo     348 non-null    object\n",
      " 15  pcv      329 non-null    object\n",
      " 16  wbcc     294 non-null    object\n",
      " 17  rbcc     269 non-null    object\n",
      " 18  htn      398 non-null    object\n",
      " 19  dm       398 non-null    object\n",
      " 20  cad      398 non-null    object\n",
      " 21  appet    399 non-null    object\n",
      " 22  pe       399 non-null    object\n",
      " 23  ane      399 non-null    object\n",
      " 24  class    400 non-null    object\n",
      " 25  no_name  3 non-null      object\n",
      "dtypes: object(26)\n",
      "memory usage: 81.4+ KB\n"
     ]
    }
   ],
   "source": [
    "#affiche des informations sur le Dataframe\n",
    "df.info()"
   ]
  },
  {
   "cell_type": "markdown",
   "id": "c6f63251",
   "metadata": {},
   "source": [
    "## interpretation de .info():\n",
    "#### On constate qu'il y a plusieurs valeurs nulles qui doivent être transformer en Mean ou en Mode."
   ]
  },
  {
   "cell_type": "markdown",
   "id": "64779b04",
   "metadata": {},
   "source": [
    "#### On peut Afficher le nombre des valeurs nulles qu'on a"
   ]
  },
  {
   "cell_type": "code",
   "execution_count": 12,
   "id": "03658c26",
   "metadata": {
    "scrolled": true
   },
   "outputs": [
    {
     "data": {
      "text/plain": [
       "1409"
      ]
     },
     "execution_count": 12,
     "metadata": {},
     "output_type": "execute_result"
    }
   ],
   "source": [
    "df.isnull().sum().sum()"
   ]
  },
  {
   "cell_type": "code",
   "execution_count": 13,
   "id": "a62a053b",
   "metadata": {},
   "outputs": [
    {
     "data": {
      "text/plain": [
       "array([None, '', 'notckd'], dtype=object)"
      ]
     },
     "execution_count": 13,
     "metadata": {},
     "output_type": "execute_result"
    }
   ],
   "source": [
    "df[\"no_name\"].unique()"
   ]
  },
  {
   "cell_type": "markdown",
   "id": "a62450a9",
   "metadata": {},
   "source": [
    "#### On remarque qu'il y a une colonne qui n'a que 3 lignes non nulles ( \"no_name\")"
   ]
  },
  {
   "cell_type": "code",
   "execution_count": 14,
   "id": "5ebdd173",
   "metadata": {},
   "outputs": [
    {
     "data": {
      "text/html": [
       "<div>\n",
       "<style scoped>\n",
       "    .dataframe tbody tr th:only-of-type {\n",
       "        vertical-align: middle;\n",
       "    }\n",
       "\n",
       "    .dataframe tbody tr th {\n",
       "        vertical-align: top;\n",
       "    }\n",
       "\n",
       "    .dataframe thead th {\n",
       "        text-align: right;\n",
       "    }\n",
       "</style>\n",
       "<table border=\"1\" class=\"dataframe\">\n",
       "  <thead>\n",
       "    <tr style=\"text-align: right;\">\n",
       "      <th></th>\n",
       "      <th>age</th>\n",
       "      <th>bp</th>\n",
       "      <th>sg</th>\n",
       "      <th>al</th>\n",
       "      <th>su</th>\n",
       "      <th>rbc</th>\n",
       "      <th>pc</th>\n",
       "      <th>pcc</th>\n",
       "      <th>ba</th>\n",
       "      <th>bgr</th>\n",
       "      <th>...</th>\n",
       "      <th>wbcc</th>\n",
       "      <th>rbcc</th>\n",
       "      <th>htn</th>\n",
       "      <th>dm</th>\n",
       "      <th>cad</th>\n",
       "      <th>appet</th>\n",
       "      <th>pe</th>\n",
       "      <th>ane</th>\n",
       "      <th>class</th>\n",
       "      <th>no_name</th>\n",
       "    </tr>\n",
       "  </thead>\n",
       "  <tbody>\n",
       "    <tr>\n",
       "      <th>69</th>\n",
       "      <td>26</td>\n",
       "      <td>70</td>\n",
       "      <td>1.015</td>\n",
       "      <td>0</td>\n",
       "      <td>4</td>\n",
       "      <td>NaN</td>\n",
       "      <td>normal</td>\n",
       "      <td>notpresent</td>\n",
       "      <td>notpresent</td>\n",
       "      <td>250</td>\n",
       "      <td>...</td>\n",
       "      <td>6900</td>\n",
       "      <td>6.0</td>\n",
       "      <td>no</td>\n",
       "      <td>yes</td>\n",
       "      <td>no</td>\n",
       "      <td>good</td>\n",
       "      <td>no</td>\n",
       "      <td>no</td>\n",
       "      <td>ckd</td>\n",
       "      <td></td>\n",
       "    </tr>\n",
       "    <tr>\n",
       "      <th>72</th>\n",
       "      <td>64</td>\n",
       "      <td>90</td>\n",
       "      <td>1.010</td>\n",
       "      <td>3</td>\n",
       "      <td>3</td>\n",
       "      <td>NaN</td>\n",
       "      <td>abnormal</td>\n",
       "      <td>present</td>\n",
       "      <td>notpresent</td>\n",
       "      <td>NaN</td>\n",
       "      <td>...</td>\n",
       "      <td>NaN</td>\n",
       "      <td>NaN</td>\n",
       "      <td>yes</td>\n",
       "      <td>yes</td>\n",
       "      <td>no</td>\n",
       "      <td>good</td>\n",
       "      <td>yes</td>\n",
       "      <td>no</td>\n",
       "      <td>ckd</td>\n",
       "      <td></td>\n",
       "    </tr>\n",
       "    <tr>\n",
       "      <th>369</th>\n",
       "      <td>75</td>\n",
       "      <td>70</td>\n",
       "      <td>1.020</td>\n",
       "      <td>0</td>\n",
       "      <td>0</td>\n",
       "      <td>normal</td>\n",
       "      <td>normal</td>\n",
       "      <td>notpresent</td>\n",
       "      <td>notpresent</td>\n",
       "      <td>107</td>\n",
       "      <td>...</td>\n",
       "      <td>10300</td>\n",
       "      <td>4.8</td>\n",
       "      <td>no</td>\n",
       "      <td></td>\n",
       "      <td>no</td>\n",
       "      <td>no</td>\n",
       "      <td>good</td>\n",
       "      <td>no</td>\n",
       "      <td>no</td>\n",
       "      <td>notckd</td>\n",
       "    </tr>\n",
       "  </tbody>\n",
       "</table>\n",
       "<p>3 rows × 26 columns</p>\n",
       "</div>"
      ],
      "text/plain": [
       "    age  bp     sg al su     rbc        pc         pcc          ba  bgr  ...  \\\n",
       "69   26  70  1.015  0  4     NaN    normal  notpresent  notpresent  250  ...   \n",
       "72   64  90  1.010  3  3     NaN  abnormal     present  notpresent  NaN  ...   \n",
       "369  75  70  1.020  0  0  normal    normal  notpresent  notpresent  107  ...   \n",
       "\n",
       "      wbcc rbcc  htn   dm cad appet    pe ane class no_name  \n",
       "69    6900  6.0   no  yes  no  good    no  no   ckd          \n",
       "72     NaN  NaN  yes  yes  no  good   yes  no   ckd          \n",
       "369  10300  4.8   no       no    no  good  no    no  notckd  \n",
       "\n",
       "[3 rows x 26 columns]"
      ]
     },
     "execution_count": 14,
     "metadata": {},
     "output_type": "execute_result"
    }
   ],
   "source": [
    "df[df[\"no_name\"].notnull()]"
   ]
  },
  {
   "cell_type": "markdown",
   "id": "ced25213",
   "metadata": {},
   "source": [
    "#### On remarque que 2 lignes parmis les 3 sont inutiles (juste des espaces ajoutés par faute) et pour la troisiéme, on constate qu'il y a un décalage de remplissage des colonnes a partir de la variable \"dm\" (une faute commise lors du remplissage). "
   ]
  },
  {
   "cell_type": "markdown",
   "id": "24e3b143",
   "metadata": {},
   "source": [
    "### Vérifier s'il y a une ligne redandante"
   ]
  },
  {
   "cell_type": "code",
   "execution_count": 15,
   "id": "b4acacd7",
   "metadata": {},
   "outputs": [
    {
     "data": {
      "text/plain": [
       "False"
      ]
     },
     "execution_count": 15,
     "metadata": {},
     "output_type": "execute_result"
    }
   ],
   "source": [
    "df.duplicated().any()"
   ]
  },
  {
   "cell_type": "markdown",
   "id": "126c6f95",
   "metadata": {},
   "source": [
    "### Afficher un résumé des statistiques descriptives\n"
   ]
  },
  {
   "cell_type": "code",
   "execution_count": 16,
   "id": "bacd4843",
   "metadata": {
    "scrolled": true
   },
   "outputs": [
    {
     "data": {
      "text/html": [
       "<div>\n",
       "<style scoped>\n",
       "    .dataframe tbody tr th:only-of-type {\n",
       "        vertical-align: middle;\n",
       "    }\n",
       "\n",
       "    .dataframe tbody tr th {\n",
       "        vertical-align: top;\n",
       "    }\n",
       "\n",
       "    .dataframe thead th {\n",
       "        text-align: right;\n",
       "    }\n",
       "</style>\n",
       "<table border=\"1\" class=\"dataframe\">\n",
       "  <thead>\n",
       "    <tr style=\"text-align: right;\">\n",
       "      <th></th>\n",
       "      <th>age</th>\n",
       "      <th>bp</th>\n",
       "      <th>sg</th>\n",
       "      <th>al</th>\n",
       "      <th>su</th>\n",
       "      <th>rbc</th>\n",
       "      <th>pc</th>\n",
       "      <th>pcc</th>\n",
       "      <th>ba</th>\n",
       "      <th>bgr</th>\n",
       "      <th>...</th>\n",
       "      <th>wbcc</th>\n",
       "      <th>rbcc</th>\n",
       "      <th>htn</th>\n",
       "      <th>dm</th>\n",
       "      <th>cad</th>\n",
       "      <th>appet</th>\n",
       "      <th>pe</th>\n",
       "      <th>ane</th>\n",
       "      <th>class</th>\n",
       "      <th>no_name</th>\n",
       "    </tr>\n",
       "  </thead>\n",
       "  <tbody>\n",
       "    <tr>\n",
       "      <th>count</th>\n",
       "      <td>391</td>\n",
       "      <td>388</td>\n",
       "      <td>353</td>\n",
       "      <td>354</td>\n",
       "      <td>351</td>\n",
       "      <td>248</td>\n",
       "      <td>335</td>\n",
       "      <td>396</td>\n",
       "      <td>396</td>\n",
       "      <td>356</td>\n",
       "      <td>...</td>\n",
       "      <td>294</td>\n",
       "      <td>269</td>\n",
       "      <td>398</td>\n",
       "      <td>398</td>\n",
       "      <td>398</td>\n",
       "      <td>399</td>\n",
       "      <td>399</td>\n",
       "      <td>399</td>\n",
       "      <td>400</td>\n",
       "      <td>3</td>\n",
       "    </tr>\n",
       "    <tr>\n",
       "      <th>unique</th>\n",
       "      <td>76</td>\n",
       "      <td>10</td>\n",
       "      <td>5</td>\n",
       "      <td>6</td>\n",
       "      <td>6</td>\n",
       "      <td>2</td>\n",
       "      <td>2</td>\n",
       "      <td>2</td>\n",
       "      <td>2</td>\n",
       "      <td>146</td>\n",
       "      <td>...</td>\n",
       "      <td>91</td>\n",
       "      <td>48</td>\n",
       "      <td>2</td>\n",
       "      <td>6</td>\n",
       "      <td>3</td>\n",
       "      <td>3</td>\n",
       "      <td>3</td>\n",
       "      <td>2</td>\n",
       "      <td>4</td>\n",
       "      <td>2</td>\n",
       "    </tr>\n",
       "    <tr>\n",
       "      <th>top</th>\n",
       "      <td>60</td>\n",
       "      <td>80</td>\n",
       "      <td>1.020</td>\n",
       "      <td>0</td>\n",
       "      <td>0</td>\n",
       "      <td>normal</td>\n",
       "      <td>normal</td>\n",
       "      <td>notpresent</td>\n",
       "      <td>notpresent</td>\n",
       "      <td>99</td>\n",
       "      <td>...</td>\n",
       "      <td>9800</td>\n",
       "      <td>5.2</td>\n",
       "      <td>no</td>\n",
       "      <td>no</td>\n",
       "      <td>no</td>\n",
       "      <td>good</td>\n",
       "      <td>no</td>\n",
       "      <td>no</td>\n",
       "      <td>ckd</td>\n",
       "      <td></td>\n",
       "    </tr>\n",
       "    <tr>\n",
       "      <th>freq</th>\n",
       "      <td>19</td>\n",
       "      <td>116</td>\n",
       "      <td>106</td>\n",
       "      <td>199</td>\n",
       "      <td>290</td>\n",
       "      <td>201</td>\n",
       "      <td>259</td>\n",
       "      <td>354</td>\n",
       "      <td>374</td>\n",
       "      <td>10</td>\n",
       "      <td>...</td>\n",
       "      <td>11</td>\n",
       "      <td>18</td>\n",
       "      <td>251</td>\n",
       "      <td>257</td>\n",
       "      <td>362</td>\n",
       "      <td>316</td>\n",
       "      <td>322</td>\n",
       "      <td>339</td>\n",
       "      <td>248</td>\n",
       "      <td>2</td>\n",
       "    </tr>\n",
       "  </tbody>\n",
       "</table>\n",
       "<p>4 rows × 26 columns</p>\n",
       "</div>"
      ],
      "text/plain": [
       "        age   bp     sg   al   su     rbc      pc         pcc          ba  \\\n",
       "count   391  388    353  354  351     248     335         396         396   \n",
       "unique   76   10      5    6    6       2       2           2           2   \n",
       "top      60   80  1.020    0    0  normal  normal  notpresent  notpresent   \n",
       "freq     19  116    106  199  290     201     259         354         374   \n",
       "\n",
       "        bgr  ...  wbcc rbcc  htn   dm  cad appet   pe  ane class no_name  \n",
       "count   356  ...   294  269  398  398  398   399  399  399   400       3  \n",
       "unique  146  ...    91   48    2    6    3     3    3    2     4       2  \n",
       "top      99  ...  9800  5.2   no   no   no  good   no   no   ckd          \n",
       "freq     10  ...    11   18  251  257  362   316  322  339   248       2  \n",
       "\n",
       "[4 rows x 26 columns]"
      ]
     },
     "execution_count": 16,
     "metadata": {},
     "output_type": "execute_result"
    }
   ],
   "source": [
    "df.describe()"
   ]
  },
  {
   "cell_type": "code",
   "execution_count": 17,
   "id": "603b4f74",
   "metadata": {},
   "outputs": [
    {
     "name": "stderr",
     "output_type": "stream",
     "text": [
      "C:\\Users\\MSI\\anaconda3\\lib\\site-packages\\seaborn\\axisgrid.py:88: UserWarning: Glyph 9 (\t) missing from current font.\n",
      "  self._figure.tight_layout(*args, **kwargs)\n"
     ]
    },
    {
     "data": {
      "text/plain": [
       "<seaborn.axisgrid.FacetGrid at 0x15b9535e550>"
      ]
     },
     "execution_count": 17,
     "metadata": {},
     "output_type": "execute_result"
    },
    {
     "name": "stderr",
     "output_type": "stream",
     "text": [
      "C:\\Users\\MSI\\anaconda3\\lib\\site-packages\\IPython\\core\\pylabtools.py:151: UserWarning: Glyph 9 (\t) missing from current font.\n",
      "  fig.canvas.print_figure(bytes_io, **kw)\n"
     ]
    },
    {
     "data": {
      "image/png": "[encoded data removed]",
      "text/plain": [
       "<Figure size 360x360 with 1 Axes>"
      ]
     },
     "metadata": {
      "needs_background": "light"
     },
     "output_type": "display_data"
    }
   ],
   "source": [
    "sns.catplot(x='class',data=df,kind=\"count\")"
   ]
  },
  {
   "cell_type": "markdown",
   "id": "034d96f0",
   "metadata": {},
   "source": [
    "#### On remarque donc que notre dataset n'est pas équilibré. 37.5% des observations ont la valeur de class = 0 et 62.5% ont une valeur = 1."
   ]
  },
  {
   "cell_type": "markdown",
   "id": "2763e350",
   "metadata": {},
   "source": [
    "## Exploration de la variation de chaque feature avec la variable cible"
   ]
  },
  {
   "cell_type": "code",
   "execution_count": 18,
   "id": "cdb12a64",
   "metadata": {},
   "outputs": [
    {
     "name": "stderr",
     "output_type": "stream",
     "text": [
      "C:\\Users\\MSI\\anaconda3\\lib\\site-packages\\seaborn\\utils.py:95: UserWarning: Glyph 9 (\t) missing from current font.\n",
      "  fig.canvas.draw()\n"
     ]
    },
    {
     "data": {
      "text/plain": [
       "<seaborn.axisgrid.FacetGrid at 0x15b95a89c10>"
      ]
     },
     "execution_count": 18,
     "metadata": {},
     "output_type": "execute_result"
    },
    {
     "name": "stderr",
     "output_type": "stream",
     "text": [
      "C:\\Users\\MSI\\anaconda3\\lib\\site-packages\\IPython\\core\\pylabtools.py:151: UserWarning: Glyph 9 (\t) missing from current font.\n",
      "  fig.canvas.print_figure(bytes_io, **kw)\n"
     ]
    },
    {
     "data": {
      "image/png": "[encoded data removed]",
      "text/plain": [
       "<Figure size 429.875x360 with 1 Axes>"
      ]
     },
     "metadata": {
      "needs_background": "light"
     },
     "output_type": "display_data"
    }
   ],
   "source": [
    "sns.catplot(x='htn',hue='class',data=df,kind=\"count\")"
   ]
  },
  {
   "cell_type": "markdown",
   "id": "737cef41",
   "metadata": {},
   "source": [
    "#### On remarque que la valeur 'ckd' et'notckd' pour la colonne class était parfois mal écrite (en ajoutant un espace ou en écrivant 'no' seulement au lieu de notckd) \n",
    "#### La plupart des cas qui ont une valeur égale a 'yes' pour la variable htn ont la maladie ckd "
   ]
  },
  {
   "cell_type": "code",
   "execution_count": 19,
   "id": "1eea6102",
   "metadata": {},
   "outputs": [
    {
     "name": "stderr",
     "output_type": "stream",
     "text": [
      "C:\\Users\\MSI\\anaconda3\\lib\\site-packages\\seaborn\\axisgrid.py:88: UserWarning: Glyph 9 (\t) missing from current font.\n",
      "  self._figure.tight_layout(*args, **kwargs)\n",
      "C:\\Users\\MSI\\anaconda3\\lib\\site-packages\\seaborn\\utils.py:95: UserWarning: Glyph 9 (\t) missing from current font.\n",
      "  fig.canvas.draw()\n"
     ]
    },
    {
     "data": {
      "text/plain": [
       "<seaborn.axisgrid.FacetGrid at 0x15b95bd8730>"
      ]
     },
     "execution_count": 19,
     "metadata": {},
     "output_type": "execute_result"
    },
    {
     "name": "stderr",
     "output_type": "stream",
     "text": [
      "C:\\Users\\MSI\\anaconda3\\lib\\site-packages\\IPython\\core\\pylabtools.py:151: UserWarning: Glyph 9 (\t) missing from current font.\n",
      "  fig.canvas.print_figure(bytes_io, **kw)\n"
     ]
    },
    {
     "data": {
      "image/png": "[encoded data removed]",
      "text/plain": [
       "<Figure size 429.875x360 with 1 Axes>"
      ]
     },
     "metadata": {
      "needs_background": "light"
     },
     "output_type": "display_data"
    }
   ],
   "source": [
    "sns.catplot(x='dm',hue='class',data=df,kind=\"count\")"
   ]
  },
  {
   "cell_type": "markdown",
   "id": "7435dbd9",
   "metadata": {},
   "source": [
    "#### La plupart des observations qui ont une valeur de 'dm' égale à 'yes' ont la maladie ckd.\n",
    "#### On remarque aussi que 'yes' et 'no' sont quelquefois mal écrites en ajoutant un espace. "
   ]
  },
  {
   "cell_type": "code",
   "execution_count": 20,
   "id": "4e7aa6f1",
   "metadata": {},
   "outputs": [
    {
     "name": "stderr",
     "output_type": "stream",
     "text": [
      "C:\\Users\\MSI\\anaconda3\\lib\\site-packages\\seaborn\\utils.py:95: UserWarning: Glyph 9 (\t) missing from current font.\n",
      "  fig.canvas.draw()\n"
     ]
    },
    {
     "data": {
      "text/plain": [
       "<seaborn.axisgrid.FacetGrid at 0x15b95bd8970>"
      ]
     },
     "execution_count": 20,
     "metadata": {},
     "output_type": "execute_result"
    },
    {
     "name": "stderr",
     "output_type": "stream",
     "text": [
      "C:\\Users\\MSI\\anaconda3\\lib\\site-packages\\IPython\\core\\pylabtools.py:151: UserWarning: Glyph 9 (\t) missing from current font.\n",
      "  fig.canvas.print_figure(bytes_io, **kw)\n"
     ]
    },
    {
     "data": {
      "image/png": "[encoded data removed]",
      "text/plain": [
       "<Figure size 429.875x360 with 1 Axes>"
      ]
     },
     "metadata": {
      "needs_background": "light"
     },
     "output_type": "display_data"
    }
   ],
   "source": [
    "sns.catplot(x='al',hue='class',data=df,kind=\"count\")"
   ]
  },
  {
   "cell_type": "markdown",
   "id": "1f7d5c0e",
   "metadata": {},
   "source": [
    "#### La plupart des observations qui n'ont pas la maladie ckd ont une valeur de 'al' égale à 0."
   ]
  },
  {
   "cell_type": "code",
   "execution_count": 21,
   "id": "3b59cd4d",
   "metadata": {},
   "outputs": [
    {
     "name": "stderr",
     "output_type": "stream",
     "text": [
      "C:\\Users\\MSI\\anaconda3\\lib\\site-packages\\seaborn\\utils.py:95: UserWarning: Glyph 9 (\t) missing from current font.\n",
      "  fig.canvas.draw()\n"
     ]
    },
    {
     "data": {
      "text/plain": [
       "<seaborn.axisgrid.FacetGrid at 0x15b95bd87c0>"
      ]
     },
     "execution_count": 21,
     "metadata": {},
     "output_type": "execute_result"
    },
    {
     "name": "stderr",
     "output_type": "stream",
     "text": [
      "C:\\Users\\MSI\\anaconda3\\lib\\site-packages\\IPython\\core\\pylabtools.py:151: UserWarning: Glyph 9 (\t) missing from current font.\n",
      "  fig.canvas.print_figure(bytes_io, **kw)\n"
     ]
    },
    {
     "data": {
      "image/png": "[encoded data removed]",
      "text/plain": [
       "<Figure size 429.875x360 with 1 Axes>"
      ]
     },
     "metadata": {
      "needs_background": "light"
     },
     "output_type": "display_data"
    }
   ],
   "source": [
    "sns.catplot(x='su',hue='class',data=df,kind=\"count\")"
   ]
  },
  {
   "cell_type": "markdown",
   "id": "81aff661",
   "metadata": {},
   "source": [
    "#### La totalité des cas qui ont une valeur de su > 0 ont la maladie ckd."
   ]
  },
  {
   "cell_type": "code",
   "execution_count": 22,
   "id": "44d80e0f",
   "metadata": {},
   "outputs": [
    {
     "name": "stderr",
     "output_type": "stream",
     "text": [
      "C:\\Users\\MSI\\anaconda3\\lib\\site-packages\\seaborn\\utils.py:95: UserWarning: Glyph 9 (\t) missing from current font.\n",
      "  fig.canvas.draw()\n"
     ]
    },
    {
     "data": {
      "text/plain": [
       "<seaborn.axisgrid.FacetGrid at 0x15b95c5fc10>"
      ]
     },
     "execution_count": 22,
     "metadata": {},
     "output_type": "execute_result"
    },
    {
     "name": "stderr",
     "output_type": "stream",
     "text": [
      "C:\\Users\\MSI\\anaconda3\\lib\\site-packages\\IPython\\core\\pylabtools.py:151: UserWarning: Glyph 9 (\t) missing from current font.\n",
      "  fig.canvas.print_figure(bytes_io, **kw)\n"
     ]
    },
    {
     "data": {
      "image/png": "[encoded data removed]",
      "text/plain": [
       "<Figure size 429.875x360 with 1 Axes>"
      ]
     },
     "metadata": {
      "needs_background": "light"
     },
     "output_type": "display_data"
    }
   ],
   "source": [
    "sns.catplot(x='sg',hue='class',data=df,kind=\"count\")"
   ]
  },
  {
   "cell_type": "code",
   "execution_count": 23,
   "id": "5d757fe7",
   "metadata": {},
   "outputs": [
    {
     "name": "stderr",
     "output_type": "stream",
     "text": [
      "C:\\Users\\MSI\\anaconda3\\lib\\site-packages\\seaborn\\axisgrid.py:88: UserWarning: Glyph 9 (\t) missing from current font.\n",
      "  self._figure.tight_layout(*args, **kwargs)\n",
      "C:\\Users\\MSI\\anaconda3\\lib\\site-packages\\seaborn\\utils.py:95: UserWarning: Glyph 9 (\t) missing from current font.\n",
      "  fig.canvas.draw()\n"
     ]
    },
    {
     "data": {
      "text/plain": [
       "<seaborn.axisgrid.FacetGrid at 0x15b95e75700>"
      ]
     },
     "execution_count": 23,
     "metadata": {},
     "output_type": "execute_result"
    },
    {
     "name": "stderr",
     "output_type": "stream",
     "text": [
      "C:\\Users\\MSI\\anaconda3\\lib\\site-packages\\IPython\\core\\pylabtools.py:151: UserWarning: Glyph 9 (\t) missing from current font.\n",
      "  fig.canvas.print_figure(bytes_io, **kw)\n"
     ]
    },
    {
     "data": {
      "image/png": "[encoded data removed]",
      "text/plain": [
       "<Figure size 429.875x360 with 1 Axes>"
      ]
     },
     "metadata": {
      "needs_background": "light"
     },
     "output_type": "display_data"
    }
   ],
   "source": [
    "sns.catplot(x='cad',hue='class',data=df,kind=\"count\")"
   ]
  },
  {
   "cell_type": "code",
   "execution_count": 24,
   "id": "18e0815b",
   "metadata": {},
   "outputs": [
    {
     "name": "stderr",
     "output_type": "stream",
     "text": [
      "C:\\Users\\MSI\\anaconda3\\lib\\site-packages\\seaborn\\utils.py:95: UserWarning: Glyph 9 (\t) missing from current font.\n",
      "  fig.canvas.draw()\n"
     ]
    },
    {
     "data": {
      "text/plain": [
       "<seaborn.axisgrid.FacetGrid at 0x15b96ed44c0>"
      ]
     },
     "execution_count": 24,
     "metadata": {},
     "output_type": "execute_result"
    },
    {
     "name": "stderr",
     "output_type": "stream",
     "text": [
      "C:\\Users\\MSI\\anaconda3\\lib\\site-packages\\IPython\\core\\pylabtools.py:151: UserWarning: Glyph 9 (\t) missing from current font.\n",
      "  fig.canvas.print_figure(bytes_io, **kw)\n"
     ]
    },
    {
     "data": {
      "image/png": "[encoded data removed]",
      "text/plain": [
       "<Figure size 429.875x360 with 1 Axes>"
      ]
     },
     "metadata": {
      "needs_background": "light"
     },
     "output_type": "display_data"
    }
   ],
   "source": [
    "sns.catplot(x='pe',hue='class',data=df,kind=\"count\")"
   ]
  },
  {
   "cell_type": "code",
   "execution_count": 25,
   "id": "8bc09c47",
   "metadata": {},
   "outputs": [
    {
     "name": "stderr",
     "output_type": "stream",
     "text": [
      "C:\\Users\\MSI\\anaconda3\\lib\\site-packages\\seaborn\\utils.py:95: UserWarning: Glyph 9 (\t) missing from current font.\n",
      "  fig.canvas.draw()\n"
     ]
    },
    {
     "data": {
      "text/plain": [
       "<seaborn.axisgrid.FacetGrid at 0x15b96f42520>"
      ]
     },
     "execution_count": 25,
     "metadata": {},
     "output_type": "execute_result"
    },
    {
     "name": "stderr",
     "output_type": "stream",
     "text": [
      "C:\\Users\\MSI\\anaconda3\\lib\\site-packages\\IPython\\core\\pylabtools.py:151: UserWarning: Glyph 9 (\t) missing from current font.\n",
      "  fig.canvas.print_figure(bytes_io, **kw)\n"
     ]
    },
    {
     "data": {
      "image/png": "[encoded data removed]",
      "text/plain": [
       "<Figure size 429.875x360 with 1 Axes>"
      ]
     },
     "metadata": {
      "needs_background": "light"
     },
     "output_type": "display_data"
    }
   ],
   "source": [
    "sns.catplot(x='appet',hue='class',data=df,kind=\"count\")"
   ]
  },
  {
   "cell_type": "code",
   "execution_count": 26,
   "id": "ad2d117c",
   "metadata": {},
   "outputs": [
    {
     "name": "stderr",
     "output_type": "stream",
     "text": [
      "C:\\Users\\MSI\\anaconda3\\lib\\site-packages\\seaborn\\utils.py:95: UserWarning: Glyph 9 (\t) missing from current font.\n",
      "  fig.canvas.draw()\n"
     ]
    },
    {
     "data": {
      "text/plain": [
       "<seaborn.axisgrid.FacetGrid at 0x15b96ef4c40>"
      ]
     },
     "execution_count": 26,
     "metadata": {},
     "output_type": "execute_result"
    },
    {
     "name": "stderr",
     "output_type": "stream",
     "text": [
      "C:\\Users\\MSI\\anaconda3\\lib\\site-packages\\IPython\\core\\pylabtools.py:151: UserWarning: Glyph 9 (\t) missing from current font.\n",
      "  fig.canvas.print_figure(bytes_io, **kw)\n"
     ]
    },
    {
     "data": {
      "image/png": "[encoded data removed]",
      "text/plain": [
       "<Figure size 429.875x360 with 1 Axes>"
      ]
     },
     "metadata": {
      "needs_background": "light"
     },
     "output_type": "display_data"
    }
   ],
   "source": [
    "sns.catplot(x='ane',hue='class',data=df,kind=\"count\")"
   ]
  },
  {
   "cell_type": "markdown",
   "id": "11329db9",
   "metadata": {},
   "source": [
    "#### Les valeurs numériques sont tous des chaines de caractéres, donc on a décidé de faire une conversion pour pour mieux visualizer les variables numériques."
   ]
  },
  {
   "cell_type": "code",
   "execution_count": 27,
   "id": "ae5514e0",
   "metadata": {},
   "outputs": [],
   "source": [
    "NumericCols=[\"age\",\"bp\",\"bgr\",\"bu\",\"sc\",\"sod\",\"pot\",\"hemo\",\"pcv\",\"wbcc\",\"rbcc\"]\n",
    "for col in NumericCols:\n",
    "    df[col]=df[col].astype('float')"
   ]
  },
  {
   "cell_type": "code",
   "execution_count": 28,
   "id": "a49dd535",
   "metadata": {
    "scrolled": false
   },
   "outputs": [
    {
     "name": "stdout",
     "output_type": "stream",
     "text": [
      "unique values in \"age\":\n",
      " [48.  7. 62. 51. 60. 68. 24. 52. 53. 50. 63. 40. 47. 61. 21. 42. 75. 69.\n",
      " nan 73. 70. 65. 76. 72. 82. 46. 45. 35. 54. 11. 59. 67. 15. 55. 44. 26.\n",
      " 64. 56.  5. 74. 38. 58. 71. 34. 17. 12. 43. 41. 57.  8. 39. 66. 81. 14.\n",
      " 27. 83. 30.  4.  3.  6. 32. 80. 49. 90. 78. 19.  2. 33. 36. 37. 23. 25.\n",
      " 20. 29. 28. 22. 79.]\n",
      "unique values in \"bp\":\n",
      " [ 80.  50.  70.  90.  nan 100.  60. 110. 140. 180. 120.]\n",
      "unique values in \"sg\":\n",
      " ['1.020' '1.010' '1.005' '1.015' nan '1.025']\n",
      "unique values in \"al\":\n",
      " ['1' '4' '2' '3' '0' nan '5']\n",
      "unique values in \"su\":\n",
      " ['0' '3' '4' '1' nan '2' '5']\n",
      "unique values in \"rbc\":\n",
      " [nan 'normal' 'abnormal']\n",
      "unique values in \"pc\":\n",
      " ['normal' 'abnormal' nan]\n",
      "unique values in \"pcc\":\n",
      " ['notpresent' 'present' nan]\n",
      "unique values in \"ba\":\n",
      " ['notpresent' 'present' nan]\n",
      "unique values in \"bgr\":\n",
      " [121.  nan 423. 117. 106.  74. 100. 410. 138.  70. 490. 380. 208.  98.\n",
      " 157.  76.  99. 114. 263. 173.  95. 108. 156. 264. 123.  93. 107. 159.\n",
      " 140. 171. 270.  92. 137. 204.  79. 207. 124. 144.  91. 162. 246. 253.\n",
      " 141. 182.  86. 150. 146. 425. 112. 250. 360. 163. 129. 133. 102. 158.\n",
      " 165. 132. 104. 127. 415. 169. 251. 109. 280. 210. 219. 295.  94. 172.\n",
      " 101. 298. 153.  88. 226. 143. 115.  89. 297. 233. 294. 323. 125.  90.\n",
      " 308. 118. 224. 128. 122. 214. 213. 268. 256.  84. 105. 288. 139.  78.\n",
      " 273. 242. 424. 303. 148. 160. 192. 307. 220. 447. 309.  22. 111. 261.\n",
      " 215. 234. 131. 352.  80. 239. 110. 130. 184. 252. 113. 230. 341. 255.\n",
      " 103. 238. 248. 120. 241. 269. 201. 203. 463. 176.  82. 119.  97.  96.\n",
      "  81. 116. 134.  85.  83.  87.  75.]\n",
      "unique values in \"bu\":\n",
      " [ 36.   18.   53.   56.   26.   25.   54.   31.   60.  107.   55.   72.\n",
      "  86.   90.  162.   46.   87.   27.  148.  180.  163.    nan  50.   75.\n",
      "  45.   28.  155.   33.   39.  153.   29.   65.  103.   70.   80.   20.\n",
      " 202.   77.   89.   24.   17.   32.  114.   66.   38.  164.  142.   96.\n",
      " 391.   15.  111.   73.   19.   92.   35.   16.  139.   48.   85.   98.\n",
      " 186.   37.   47.   52.   82.   51.  106.   22.  217.   88.  118.   50.1\n",
      "  71.   34.   40.   21.  219.   30.  125.  166.   49.  208.  176.   68.\n",
      " 145.  165.  322.   23.  235.  132.   76.   42.   44.   41.  113.    1.5\n",
      " 146.   58.  133.  137.   67.  115.  223.   98.6 158.   94.   74.  150.\n",
      "  61.   57.   95.  191.   93.  241.   64.   79.  215.  309.   10. ]\n",
      "unique values in \"sc\":\n",
      " [ 1.2   0.8   1.8   3.8   1.4   1.1  24.    1.9   7.2   4.    2.7   2.1\n",
      "  4.6   4.1   9.6   2.2   5.2   1.3   1.6   3.9  76.    7.7    nan  2.4\n",
      "  7.3   1.5   2.5   2.    3.4   0.7   1.   10.8   6.3   5.9   0.9   3.\n",
      "  3.25  9.7   6.4   3.2  32.    0.6   6.1   3.3   6.7   8.5   2.8  15.\n",
      "  2.9   1.7   3.6   5.6   6.5   4.4  10.2  11.5   0.5  12.2   5.3   9.2\n",
      " 13.8  16.9   6.    7.1  18.    2.3  13.   48.1  14.2  16.4   2.6   7.5\n",
      "  4.3  18.1  11.8   9.3   6.8  13.5  12.8  11.9  12.   13.4  15.2  13.3\n",
      "  0.4 ]\n",
      "unique values in \"sod\":\n",
      " [  nan 111.  142.  104.  114.  131.  138.  135.  130.  141.  139.    4.5\n",
      " 136.  129.  140.  132.  133.  134.  125.  163.  137.  128.  143.  127.\n",
      " 146.  126.  122.  147.  124.  115.  145.  113.  120.  150.  144. ]\n",
      "unique values in \"pot\":\n",
      " [ nan  2.5  3.2  4.   3.7  4.2  5.8  3.4  6.4  4.9  4.1  4.3  5.2  3.8\n",
      "  4.6  3.9  4.7  5.9  4.8  4.4  6.6 39.   5.5  5.   3.5  3.6  7.6  2.9\n",
      "  4.5  5.7  5.4  5.3 47.   6.3  5.1  5.6  3.   2.8  2.7  6.5  3.3]\n",
      "unique values in \"hemo\":\n",
      " [15.4 11.3  9.6 11.2 11.6 12.2 12.4 10.8  9.5  9.4  9.7  9.8  5.6  7.6\n",
      " 12.6 12.1 12.7 10.3  7.7 10.9  nan 11.1  9.9 12.5 12.9 10.1 12.  13.\n",
      "  7.9  9.3 15.  10.   8.6 13.6 10.2 10.5  6.6 11.   7.5 15.6 15.2  4.8\n",
      "  9.1  8.1 11.9 13.5  8.3  7.1 16.1 10.4  9.2  6.2 13.9 14.1  6.  11.8\n",
      " 11.7 11.4 14.   8.2 13.2  6.1  8.  12.3  8.4 14.3  9.   8.7 10.6 13.1\n",
      " 10.7  5.5  5.8  6.8  8.8  8.5 13.8 11.5  7.3 13.7 12.8 13.4  6.3  3.1\n",
      " 17.  15.9 14.5 15.5 16.2 14.4 14.2 16.3 14.8 16.5 15.7 13.3 14.6 16.4\n",
      " 16.9 16.  14.7 16.6 14.9 16.7 16.8 15.8 15.1 17.1 17.2 15.3 17.3 17.4\n",
      " 17.7 17.8 17.5 17.6]\n",
      "unique values in \"pcv\":\n",
      " [44. 38. 31. 32. 35. 39. 36. 33. 29. 28. nan 16. 24. 37. 30. 34. 40. 45.\n",
      " 27. 48. 52. 14. 22. 18. 42. 17. 46. 23. 19. 25. 41. 26. 15. 21. 43. 20.\n",
      " 47.  9. 49. 50. 53. 51. 54.]\n",
      "unique values in \"wbcc\":\n",
      " [ 7800.  6000.  7500.  6700.  7300.    nan  6900.  9600. 12100.  4500.\n",
      " 12200. 11000.  3800. 11400.  5300.  9200.  6200.  8300.  8400. 10300.\n",
      "  9800.  9100.  7900.  6400.  8600. 18900. 21600.  4300.  8500. 11300.\n",
      "  7200.  7700. 14600.  6300.  7100. 11800.  9400.  5500.  5800. 13200.\n",
      " 12500.  5600.  7000. 11900. 10400. 10700. 12700.  6800.  6500. 13600.\n",
      " 10200.  9000. 14900.  8200. 15200.  5000. 16300. 12400. 10500.  4200.\n",
      "  4700. 10900.  8100.  9500.  2200. 12800. 11200. 19100. 12300. 16700.\n",
      "  2600. 26400.  8800.  7400.  4900.  8000. 12000. 15700.  4100.  5700.\n",
      " 11500.  5400. 10800.  9900.  5200.  5900.  9300.  9700.  5100.  6600.]\n",
      "unique values in \"rbcc\":\n",
      " [5.2 nan 3.9 4.6 4.4 5.  4.  3.7 3.8 3.4 2.6 2.8 4.3 3.2 3.6 4.1 4.9 2.5\n",
      " 4.2 4.5 3.1 4.7 3.5 6.  2.1 5.6 2.3 2.9 2.7 8.  3.3 3.  2.4 4.8 5.4 6.1\n",
      " 6.2 6.3 5.1 5.8 5.5 5.3 6.4 5.7 5.9 6.5]\n",
      "unique values in \"htn\":\n",
      " ['yes' 'no' nan]\n",
      "unique values in \"dm\":\n",
      " ['yes' 'no' ' yes' '\\tno' '\\tyes' nan '']\n",
      "unique values in \"cad\":\n",
      " ['no' 'yes' '\\tno' nan]\n",
      "unique values in \"appet\":\n",
      " ['good' 'poor' nan 'no']\n",
      "unique values in \"pe\":\n",
      " ['no' 'yes' nan 'good']\n",
      "unique values in \"ane\":\n",
      " ['no' 'yes' nan]\n",
      "unique values in \"class\":\n",
      " ['ckd' 'ckd\\t' 'notckd' 'no']\n",
      "unique values in \"no_name\":\n",
      " [None '' 'notckd']\n"
     ]
    }
   ],
   "source": [
    "for i in df.columns:\n",
    "    print('unique values in \"{}\":\\n'.format(i),df[i].unique())"
   ]
  },
  {
   "cell_type": "code",
   "execution_count": 29,
   "id": "2eba9aff",
   "metadata": {},
   "outputs": [
    {
     "name": "stderr",
     "output_type": "stream",
     "text": [
      "C:\\Users\\MSI\\anaconda3\\lib\\site-packages\\IPython\\core\\pylabtools.py:151: UserWarning: Glyph 9 (\t) missing from current font.\n",
      "  fig.canvas.print_figure(bytes_io, **kw)\n"
     ]
    },
    {
     "data": {
      "image/png": "[encoded data removed]",
      "text/plain": [
       "<Figure size 576x576 with 1 Axes>"
      ]
     },
     "metadata": {
      "needs_background": "light"
     },
     "output_type": "display_data"
    }
   ],
   "source": [
    "plt.figure(figsize=(8,8))\n",
    "ax=sns.boxplot(data=df, x=\"class\", y=\"age\", hue=\"class\", dodge=False)"
   ]
  },
  {
   "cell_type": "code",
   "execution_count": 30,
   "id": "2fec2676",
   "metadata": {},
   "outputs": [
    {
     "name": "stderr",
     "output_type": "stream",
     "text": [
      "C:\\Users\\MSI\\anaconda3\\lib\\site-packages\\IPython\\core\\pylabtools.py:151: UserWarning: Glyph 9 (\t) missing from current font.\n",
      "  fig.canvas.print_figure(bytes_io, **kw)\n"
     ]
    },
    {
     "data": {
      "image/png": "[encoded data removed]",
      "text/plain": [
       "<Figure size 576x576 with 1 Axes>"
      ]
     },
     "metadata": {
      "needs_background": "light"
     },
     "output_type": "display_data"
    }
   ],
   "source": [
    "plt.figure(figsize=(8,8))\n",
    "ax=sns.boxplot(data=df, x=\"class\", y=\"rbcc\", hue=\"class\", dodge=False)"
   ]
  },
  {
   "cell_type": "markdown",
   "id": "7ae95cd4",
   "metadata": {},
   "source": [
    "#### Les cas qui ont une valeur de 'red blood cell count' < 4.2 sont tous malades.\n",
    "#### On remarque aussi l'existance d'une valeur abérante irréelle lorsque rbcc = 8 (aprés avoir discuter avec un expert métier)"
   ]
  },
  {
   "cell_type": "code",
   "execution_count": 31,
   "id": "19f5bc5c",
   "metadata": {},
   "outputs": [
    {
     "name": "stderr",
     "output_type": "stream",
     "text": [
      "C:\\Users\\MSI\\anaconda3\\lib\\site-packages\\IPython\\core\\pylabtools.py:151: UserWarning: Glyph 9 (\t) missing from current font.\n",
      "  fig.canvas.print_figure(bytes_io, **kw)\n"
     ]
    },
    {
     "data": {
      "image/png": "[encoded data removed]",
      "text/plain": [
       "<Figure size 576x576 with 1 Axes>"
      ]
     },
     "metadata": {
      "needs_background": "light"
     },
     "output_type": "display_data"
    }
   ],
   "source": [
    "plt.figure(figsize=(8,8))\n",
    "ax=sns.boxplot(data=df, x=\"class\", y=\"age\", hue=\"class\", dodge=False)"
   ]
  },
  {
   "cell_type": "markdown",
   "id": "e4045d3f",
   "metadata": {},
   "source": [
    "##### Aprés avoir parler à un expert métier (médecins), on constate qu'une valeur de potassium > 30 est irréelle."
   ]
  },
  {
   "cell_type": "code",
   "execution_count": 32,
   "id": "14d2b600",
   "metadata": {},
   "outputs": [
    {
     "name": "stderr",
     "output_type": "stream",
     "text": [
      "C:\\Users\\MSI\\anaconda3\\lib\\site-packages\\IPython\\core\\pylabtools.py:151: UserWarning: Glyph 9 (\t) missing from current font.\n",
      "  fig.canvas.print_figure(bytes_io, **kw)\n"
     ]
    },
    {
     "data": {
      "image/png": "[encoded data removed]",
      "text/plain": [
       "<Figure size 576x576 with 1 Axes>"
      ]
     },
     "metadata": {
      "needs_background": "light"
     },
     "output_type": "display_data"
    }
   ],
   "source": [
    "plt.figure(figsize=(8,8))\n",
    "ax=sns.boxplot(data=df, x=\"class\", y=\"pcv\", hue=\"class\", dodge=False)"
   ]
  },
  {
   "cell_type": "markdown",
   "id": "4cdd068e",
   "metadata": {},
   "source": [
    "#### On constate que les cas qui ont pcv < 40 ont la maladies ckd"
   ]
  },
  {
   "cell_type": "code",
   "execution_count": 33,
   "id": "192042f7",
   "metadata": {},
   "outputs": [
    {
     "name": "stderr",
     "output_type": "stream",
     "text": [
      "C:\\Users\\MSI\\anaconda3\\lib\\site-packages\\IPython\\core\\pylabtools.py:151: UserWarning: Glyph 9 (\t) missing from current font.\n",
      "  fig.canvas.print_figure(bytes_io, **kw)\n"
     ]
    },
    {
     "data": {
      "image/png": "[encoded data removed]",
      "text/plain": [
       "<Figure size 576x576 with 1 Axes>"
      ]
     },
     "metadata": {
      "needs_background": "light"
     },
     "output_type": "display_data"
    }
   ],
   "source": [
    "plt.figure(figsize=(8,8))\n",
    "ax=sns.boxplot(data=df, x=\"class\", y=\"wbcc\", hue=\"class\", dodge=False)"
   ]
  },
  {
   "cell_type": "code",
   "execution_count": 34,
   "id": "58d88103",
   "metadata": {},
   "outputs": [
    {
     "name": "stderr",
     "output_type": "stream",
     "text": [
      "C:\\Users\\MSI\\anaconda3\\lib\\site-packages\\IPython\\core\\pylabtools.py:151: UserWarning: Glyph 9 (\t) missing from current font.\n",
      "  fig.canvas.print_figure(bytes_io, **kw)\n"
     ]
    },
    {
     "data": {
      "image/png": "[encoded data removed]",
      "text/plain": [
       "<Figure size 576x576 with 1 Axes>"
      ]
     },
     "metadata": {
      "needs_background": "light"
     },
     "output_type": "display_data"
    }
   ],
   "source": [
    "plt.figure(figsize=(8,8))\n",
    "ax=sns.boxplot(data=df, x=\"class\", y=\"hemo\", hue=\"class\", dodge=False)"
   ]
  },
  {
   "cell_type": "markdown",
   "id": "779bc7ff",
   "metadata": {},
   "source": [
    "#### Si le niveau de l'hemoglobine est assez bas (<12.5) il est fort probable que ce cas a la maladie ckd."
   ]
  },
  {
   "cell_type": "code",
   "execution_count": 35,
   "id": "5637f173",
   "metadata": {
    "scrolled": false
   },
   "outputs": [
    {
     "name": "stderr",
     "output_type": "stream",
     "text": [
      "C:\\Users\\MSI\\anaconda3\\lib\\site-packages\\IPython\\core\\pylabtools.py:151: UserWarning: Glyph 9 (\t) missing from current font.\n",
      "  fig.canvas.print_figure(bytes_io, **kw)\n"
     ]
    },
    {
     "data": {
      "image/png": "[encoded data removed]",
      "text/plain": [
       "<Figure size 576x576 with 1 Axes>"
      ]
     },
     "metadata": {
      "needs_background": "light"
     },
     "output_type": "display_data"
    }
   ],
   "source": [
    "plt.figure(figsize=(8,8))\n",
    "ax=sns.boxplot(data=df, x=\"class\", y=\"sc\", hue=\"class\", dodge=False)"
   ]
  },
  {
   "cell_type": "code",
   "execution_count": 36,
   "id": "87a21d28",
   "metadata": {},
   "outputs": [
    {
     "name": "stderr",
     "output_type": "stream",
     "text": [
      "C:\\Users\\MSI\\anaconda3\\lib\\site-packages\\IPython\\core\\pylabtools.py:151: UserWarning: Glyph 9 (\t) missing from current font.\n",
      "  fig.canvas.print_figure(bytes_io, **kw)\n"
     ]
    },
    {
     "data": {
      "image/png": "[encoded data removed]",
      "text/plain": [
       "<Figure size 576x576 with 1 Axes>"
      ]
     },
     "metadata": {
      "needs_background": "light"
     },
     "output_type": "display_data"
    }
   ],
   "source": [
    "plt.figure(figsize=(8,8))\n",
    "ax=sns.boxplot(data=df, x=\"class\", y=\"bu\", hue=\"class\", dodge=False)"
   ]
  },
  {
   "cell_type": "markdown",
   "id": "7ff0dc90",
   "metadata": {},
   "source": [
    "## Exploration multivariée"
   ]
  },
  {
   "cell_type": "markdown",
   "id": "7cc0a729",
   "metadata": {},
   "source": [
    "### Matrice de corrélation"
   ]
  },
  {
   "cell_type": "code",
   "execution_count": 37,
   "id": "ec232ce3",
   "metadata": {},
   "outputs": [
    {
     "data": {
      "image/png": "[encoded data removed]",
      "text/plain": [
       "<Figure size 864x648 with 2 Axes>"
      ]
     },
     "metadata": {
      "needs_background": "light"
     },
     "output_type": "display_data"
    }
   ],
   "source": [
    "corrmat = df.corr()\n",
    "f, ax = plt.subplots(figsize=(12, 9))\n",
    "sns.heatmap(corrmat, vmax=1, square=True,annot=True);"
   ]
  },
  {
   "cell_type": "markdown",
   "id": "06bbf911",
   "metadata": {},
   "source": [
    "#### On remarque que 'pcv' et 'hemo' sont les deux positivement corrélées avec la variables 'rbcc'.\n",
    "#### La variable hemo est fortement corrélée avec la variable pcv"
   ]
  },
  {
   "cell_type": "code",
   "execution_count": 38,
   "id": "bc4e53a9",
   "metadata": {},
   "outputs": [
    {
     "name": "stderr",
     "output_type": "stream",
     "text": [
      "C:\\Users\\MSI\\anaconda3\\lib\\site-packages\\seaborn\\axisgrid.py:2076: UserWarning: The `size` parameter has been renamed to `height`; please update your code.\n",
      "  warnings.warn(msg, UserWarning)\n"
     ]
    },
    {
     "data": {
      "image/png": "[encoded data removed]",
      "text/plain": [
       "<Figure size 720x720 with 30 Axes>"
      ]
     },
     "metadata": {},
     "output_type": "display_data"
    }
   ],
   "source": [
    "sns.set()\n",
    "NumericCols=[\"pot\",\"hemo\",\"pcv\",\"wbcc\",\"rbcc\"]\n",
    "sns.pairplot(df[NumericCols], size = 2)\n",
    "plt.show();"
   ]
  },
  {
   "cell_type": "markdown",
   "id": "01100bfb",
   "metadata": {},
   "source": [
    "# Préparation des données"
   ]
  },
  {
   "cell_type": "markdown",
   "id": "5b9f33d7",
   "metadata": {},
   "source": [
    "## Nettoyage des données"
   ]
  },
  {
   "cell_type": "markdown",
   "id": "7a02f502",
   "metadata": {},
   "source": [
    "### Valeurs abérantes (irréelles)"
   ]
  },
  {
   "cell_type": "markdown",
   "id": "11a3f7a3",
   "metadata": {},
   "source": [
    "#### Pour les exemples de pot:"
   ]
  },
  {
   "cell_type": "code",
   "execution_count": 39,
   "id": "2e8c1ba5",
   "metadata": {},
   "outputs": [
    {
     "data": {
      "text/html": [
       "<div>\n",
       "<style scoped>\n",
       "    .dataframe tbody tr th:only-of-type {\n",
       "        vertical-align: middle;\n",
       "    }\n",
       "\n",
       "    .dataframe tbody tr th {\n",
       "        vertical-align: top;\n",
       "    }\n",
       "\n",
       "    .dataframe thead th {\n",
       "        text-align: right;\n",
       "    }\n",
       "</style>\n",
       "<table border=\"1\" class=\"dataframe\">\n",
       "  <thead>\n",
       "    <tr style=\"text-align: right;\">\n",
       "      <th></th>\n",
       "      <th>age</th>\n",
       "      <th>bp</th>\n",
       "      <th>sg</th>\n",
       "      <th>al</th>\n",
       "      <th>su</th>\n",
       "      <th>rbc</th>\n",
       "      <th>pc</th>\n",
       "      <th>pcc</th>\n",
       "      <th>ba</th>\n",
       "      <th>bgr</th>\n",
       "      <th>...</th>\n",
       "      <th>wbcc</th>\n",
       "      <th>rbcc</th>\n",
       "      <th>htn</th>\n",
       "      <th>dm</th>\n",
       "      <th>cad</th>\n",
       "      <th>appet</th>\n",
       "      <th>pe</th>\n",
       "      <th>ane</th>\n",
       "      <th>class</th>\n",
       "      <th>no_name</th>\n",
       "    </tr>\n",
       "  </thead>\n",
       "  <tbody>\n",
       "    <tr>\n",
       "      <th>61</th>\n",
       "      <td>67.0</td>\n",
       "      <td>80.0</td>\n",
       "      <td>1.010</td>\n",
       "      <td>1</td>\n",
       "      <td>3</td>\n",
       "      <td>normal</td>\n",
       "      <td>abnormal</td>\n",
       "      <td>notpresent</td>\n",
       "      <td>notpresent</td>\n",
       "      <td>182.0</td>\n",
       "      <td>...</td>\n",
       "      <td>NaN</td>\n",
       "      <td>NaN</td>\n",
       "      <td>no</td>\n",
       "      <td>no</td>\n",
       "      <td>no</td>\n",
       "      <td>good</td>\n",
       "      <td>yes</td>\n",
       "      <td>no</td>\n",
       "      <td>ckd</td>\n",
       "      <td>None</td>\n",
       "    </tr>\n",
       "    <tr>\n",
       "      <th>128</th>\n",
       "      <td>52.0</td>\n",
       "      <td>90.0</td>\n",
       "      <td>1.015</td>\n",
       "      <td>4</td>\n",
       "      <td>3</td>\n",
       "      <td>normal</td>\n",
       "      <td>abnormal</td>\n",
       "      <td>notpresent</td>\n",
       "      <td>notpresent</td>\n",
       "      <td>224.0</td>\n",
       "      <td>...</td>\n",
       "      <td>5000.0</td>\n",
       "      <td>2.9</td>\n",
       "      <td>yes</td>\n",
       "      <td>yes</td>\n",
       "      <td>no</td>\n",
       "      <td>good</td>\n",
       "      <td>no</td>\n",
       "      <td>yes</td>\n",
       "      <td>ckd</td>\n",
       "      <td>None</td>\n",
       "    </tr>\n",
       "  </tbody>\n",
       "</table>\n",
       "<p>2 rows × 26 columns</p>\n",
       "</div>"
      ],
      "text/plain": [
       "      age    bp     sg al su     rbc        pc         pcc          ba    bgr  \\\n",
       "61   67.0  80.0  1.010  1  3  normal  abnormal  notpresent  notpresent  182.0   \n",
       "128  52.0  90.0  1.015  4  3  normal  abnormal  notpresent  notpresent  224.0   \n",
       "\n",
       "     ...    wbcc  rbcc  htn   dm  cad  appet   pe  ane class no_name  \n",
       "61   ...     NaN   NaN   no   no   no   good  yes   no   ckd    None  \n",
       "128  ...  5000.0   2.9  yes  yes   no   good   no  yes   ckd    None  \n",
       "\n",
       "[2 rows x 26 columns]"
      ]
     },
     "execution_count": 39,
     "metadata": {},
     "output_type": "execute_result"
    }
   ],
   "source": [
    "df.query(\"pot>30\")"
   ]
  },
  {
   "cell_type": "code",
   "execution_count": 40,
   "id": "822a25b1",
   "metadata": {},
   "outputs": [
    {
     "name": "stderr",
     "output_type": "stream",
     "text": [
      "C:\\Users\\MSI\\AppData\\Local\\Temp\\ipykernel_10952\\2172103341.py:1: SettingWithCopyWarning: \n",
      "A value is trying to be set on a copy of a slice from a DataFrame.\n",
      "Try using .loc[row_indexer,col_indexer] = value instead\n",
      "\n",
      "See the caveats in the documentation: https://pandas.pydata.org/pandas-docs/stable/user_guide/indexing.html#returning-a-view-versus-a-copy\n",
      "  df[61:62][['pot']]=df['pot'].mean()\n",
      "C:\\Users\\MSI\\AppData\\Local\\Temp\\ipykernel_10952\\2172103341.py:2: SettingWithCopyWarning: \n",
      "A value is trying to be set on a copy of a slice from a DataFrame.\n",
      "Try using .loc[row_indexer,col_indexer] = value instead\n",
      "\n",
      "See the caveats in the documentation: https://pandas.pydata.org/pandas-docs/stable/user_guide/indexing.html#returning-a-view-versus-a-copy\n",
      "  df[128:129][['pot']]=df['pot'].mean()\n"
     ]
    }
   ],
   "source": [
    "df[61:62][['pot']]=df['pot'].mean()\n",
    "df[128:129][['pot']]=df['pot'].mean()"
   ]
  },
  {
   "cell_type": "markdown",
   "id": "a1b0c6f0",
   "metadata": {},
   "source": [
    "Verification que les valeurs ont été changées:"
   ]
  },
  {
   "cell_type": "code",
   "execution_count": 41,
   "id": "fe357faf",
   "metadata": {},
   "outputs": [
    {
     "name": "stdout",
     "output_type": "stream",
     "text": [
      "      pot\n",
      "128  47.0\n",
      "     pot\n",
      "61  39.0\n"
     ]
    }
   ],
   "source": [
    "print(df[128:129][['pot']])\n",
    "print(df[61:62][['pot']])"
   ]
  },
  {
   "cell_type": "markdown",
   "id": "e7aa6d20",
   "metadata": {},
   "source": [
    "#### Pour l'exemple de la variable 'rbcc':"
   ]
  },
  {
   "cell_type": "code",
   "execution_count": 42,
   "id": "d0657f6e",
   "metadata": {},
   "outputs": [
    {
     "data": {
      "text/html": [
       "<div>\n",
       "<style scoped>\n",
       "    .dataframe tbody tr th:only-of-type {\n",
       "        vertical-align: middle;\n",
       "    }\n",
       "\n",
       "    .dataframe tbody tr th {\n",
       "        vertical-align: top;\n",
       "    }\n",
       "\n",
       "    .dataframe thead th {\n",
       "        text-align: right;\n",
       "    }\n",
       "</style>\n",
       "<table border=\"1\" class=\"dataframe\">\n",
       "  <thead>\n",
       "    <tr style=\"text-align: right;\">\n",
       "      <th></th>\n",
       "      <th>age</th>\n",
       "      <th>bp</th>\n",
       "      <th>sg</th>\n",
       "      <th>al</th>\n",
       "      <th>su</th>\n",
       "      <th>rbc</th>\n",
       "      <th>pc</th>\n",
       "      <th>pcc</th>\n",
       "      <th>ba</th>\n",
       "      <th>bgr</th>\n",
       "      <th>...</th>\n",
       "      <th>wbcc</th>\n",
       "      <th>rbcc</th>\n",
       "      <th>htn</th>\n",
       "      <th>dm</th>\n",
       "      <th>cad</th>\n",
       "      <th>appet</th>\n",
       "      <th>pe</th>\n",
       "      <th>ane</th>\n",
       "      <th>class</th>\n",
       "      <th>no_name</th>\n",
       "    </tr>\n",
       "  </thead>\n",
       "  <tbody>\n",
       "    <tr>\n",
       "      <th>133</th>\n",
       "      <td>70.0</td>\n",
       "      <td>100.0</td>\n",
       "      <td>1.015</td>\n",
       "      <td>4</td>\n",
       "      <td>0</td>\n",
       "      <td>normal</td>\n",
       "      <td>normal</td>\n",
       "      <td>notpresent</td>\n",
       "      <td>notpresent</td>\n",
       "      <td>118.0</td>\n",
       "      <td>...</td>\n",
       "      <td>8400.0</td>\n",
       "      <td>8.0</td>\n",
       "      <td>yes</td>\n",
       "      <td>no</td>\n",
       "      <td>no</td>\n",
       "      <td>good</td>\n",
       "      <td>no</td>\n",
       "      <td>no</td>\n",
       "      <td>ckd</td>\n",
       "      <td>None</td>\n",
       "    </tr>\n",
       "  </tbody>\n",
       "</table>\n",
       "<p>1 rows × 26 columns</p>\n",
       "</div>"
      ],
      "text/plain": [
       "      age     bp     sg al su     rbc      pc         pcc          ba    bgr  \\\n",
       "133  70.0  100.0  1.015  4  0  normal  normal  notpresent  notpresent  118.0   \n",
       "\n",
       "     ...    wbcc  rbcc  htn  dm  cad  appet  pe  ane class no_name  \n",
       "133  ...  8400.0   8.0  yes  no   no   good  no   no   ckd    None  \n",
       "\n",
       "[1 rows x 26 columns]"
      ]
     },
     "execution_count": 42,
     "metadata": {},
     "output_type": "execute_result"
    }
   ],
   "source": [
    "df.query(\"rbcc>7\")"
   ]
  },
  {
   "cell_type": "code",
   "execution_count": 43,
   "id": "0d4a278c",
   "metadata": {},
   "outputs": [
    {
     "name": "stderr",
     "output_type": "stream",
     "text": [
      "C:\\Users\\MSI\\AppData\\Local\\Temp\\ipykernel_10952\\1971051929.py:1: SettingWithCopyWarning: \n",
      "A value is trying to be set on a copy of a slice from a DataFrame.\n",
      "Try using .loc[row_indexer,col_indexer] = value instead\n",
      "\n",
      "See the caveats in the documentation: https://pandas.pydata.org/pandas-docs/stable/user_guide/indexing.html#returning-a-view-versus-a-copy\n",
      "  df[133:134][['rbcc']]=df['rbcc'].mean()\n"
     ]
    }
   ],
   "source": [
    "df[133:134][['rbcc']]=df['rbcc'].mean()"
   ]
  },
  {
   "cell_type": "markdown",
   "id": "c4a85e72",
   "metadata": {},
   "source": [
    "Verification que la valeur a été changée:"
   ]
  },
  {
   "cell_type": "code",
   "execution_count": 44,
   "id": "3968ea5b",
   "metadata": {},
   "outputs": [
    {
     "data": {
      "text/html": [
       "<div>\n",
       "<style scoped>\n",
       "    .dataframe tbody tr th:only-of-type {\n",
       "        vertical-align: middle;\n",
       "    }\n",
       "\n",
       "    .dataframe tbody tr th {\n",
       "        vertical-align: top;\n",
       "    }\n",
       "\n",
       "    .dataframe thead th {\n",
       "        text-align: right;\n",
       "    }\n",
       "</style>\n",
       "<table border=\"1\" class=\"dataframe\">\n",
       "  <thead>\n",
       "    <tr style=\"text-align: right;\">\n",
       "      <th></th>\n",
       "      <th>rbcc</th>\n",
       "    </tr>\n",
       "  </thead>\n",
       "  <tbody>\n",
       "    <tr>\n",
       "      <th>133</th>\n",
       "      <td>8.0</td>\n",
       "    </tr>\n",
       "  </tbody>\n",
       "</table>\n",
       "</div>"
      ],
      "text/plain": [
       "     rbcc\n",
       "133   8.0"
      ]
     },
     "execution_count": 44,
     "metadata": {},
     "output_type": "execute_result"
    }
   ],
   "source": [
    "df[133:134][['rbcc']]"
   ]
  },
  {
   "cell_type": "markdown",
   "id": "9dcdb97d",
   "metadata": {},
   "source": [
    "#### On doit fixer le décalage qu'on a déja mentionné dans la partie exploration des données."
   ]
  },
  {
   "cell_type": "code",
   "execution_count": 45,
   "id": "094a48da",
   "metadata": {},
   "outputs": [
    {
     "data": {
      "text/html": [
       "<div>\n",
       "<style scoped>\n",
       "    .dataframe tbody tr th:only-of-type {\n",
       "        vertical-align: middle;\n",
       "    }\n",
       "\n",
       "    .dataframe tbody tr th {\n",
       "        vertical-align: top;\n",
       "    }\n",
       "\n",
       "    .dataframe thead th {\n",
       "        text-align: right;\n",
       "    }\n",
       "</style>\n",
       "<table border=\"1\" class=\"dataframe\">\n",
       "  <thead>\n",
       "    <tr style=\"text-align: right;\">\n",
       "      <th></th>\n",
       "      <th>age</th>\n",
       "      <th>bp</th>\n",
       "      <th>sg</th>\n",
       "      <th>al</th>\n",
       "      <th>su</th>\n",
       "      <th>rbc</th>\n",
       "      <th>pc</th>\n",
       "      <th>pcc</th>\n",
       "      <th>ba</th>\n",
       "      <th>bgr</th>\n",
       "      <th>...</th>\n",
       "      <th>wbcc</th>\n",
       "      <th>rbcc</th>\n",
       "      <th>htn</th>\n",
       "      <th>dm</th>\n",
       "      <th>cad</th>\n",
       "      <th>appet</th>\n",
       "      <th>pe</th>\n",
       "      <th>ane</th>\n",
       "      <th>class</th>\n",
       "      <th>no_name</th>\n",
       "    </tr>\n",
       "  </thead>\n",
       "  <tbody>\n",
       "    <tr>\n",
       "      <th>69</th>\n",
       "      <td>26.0</td>\n",
       "      <td>70.0</td>\n",
       "      <td>1.015</td>\n",
       "      <td>0</td>\n",
       "      <td>4</td>\n",
       "      <td>NaN</td>\n",
       "      <td>normal</td>\n",
       "      <td>notpresent</td>\n",
       "      <td>notpresent</td>\n",
       "      <td>250.0</td>\n",
       "      <td>...</td>\n",
       "      <td>6900.0</td>\n",
       "      <td>6.0</td>\n",
       "      <td>no</td>\n",
       "      <td>yes</td>\n",
       "      <td>no</td>\n",
       "      <td>good</td>\n",
       "      <td>no</td>\n",
       "      <td>no</td>\n",
       "      <td>ckd</td>\n",
       "      <td></td>\n",
       "    </tr>\n",
       "    <tr>\n",
       "      <th>72</th>\n",
       "      <td>64.0</td>\n",
       "      <td>90.0</td>\n",
       "      <td>1.010</td>\n",
       "      <td>3</td>\n",
       "      <td>3</td>\n",
       "      <td>NaN</td>\n",
       "      <td>abnormal</td>\n",
       "      <td>present</td>\n",
       "      <td>notpresent</td>\n",
       "      <td>NaN</td>\n",
       "      <td>...</td>\n",
       "      <td>NaN</td>\n",
       "      <td>NaN</td>\n",
       "      <td>yes</td>\n",
       "      <td>yes</td>\n",
       "      <td>no</td>\n",
       "      <td>good</td>\n",
       "      <td>yes</td>\n",
       "      <td>no</td>\n",
       "      <td>ckd</td>\n",
       "      <td></td>\n",
       "    </tr>\n",
       "    <tr>\n",
       "      <th>369</th>\n",
       "      <td>75.0</td>\n",
       "      <td>70.0</td>\n",
       "      <td>1.020</td>\n",
       "      <td>0</td>\n",
       "      <td>0</td>\n",
       "      <td>normal</td>\n",
       "      <td>normal</td>\n",
       "      <td>notpresent</td>\n",
       "      <td>notpresent</td>\n",
       "      <td>107.0</td>\n",
       "      <td>...</td>\n",
       "      <td>10300.0</td>\n",
       "      <td>4.8</td>\n",
       "      <td>no</td>\n",
       "      <td></td>\n",
       "      <td>no</td>\n",
       "      <td>no</td>\n",
       "      <td>good</td>\n",
       "      <td>no</td>\n",
       "      <td>no</td>\n",
       "      <td>notckd</td>\n",
       "    </tr>\n",
       "  </tbody>\n",
       "</table>\n",
       "<p>3 rows × 26 columns</p>\n",
       "</div>"
      ],
      "text/plain": [
       "      age    bp     sg al su     rbc        pc         pcc          ba    bgr  \\\n",
       "69   26.0  70.0  1.015  0  4     NaN    normal  notpresent  notpresent  250.0   \n",
       "72   64.0  90.0  1.010  3  3     NaN  abnormal     present  notpresent    NaN   \n",
       "369  75.0  70.0  1.020  0  0  normal    normal  notpresent  notpresent  107.0   \n",
       "\n",
       "     ...     wbcc  rbcc  htn   dm  cad  appet    pe  ane class no_name  \n",
       "69   ...   6900.0   6.0   no  yes   no   good    no   no   ckd          \n",
       "72   ...      NaN   NaN  yes  yes   no   good   yes   no   ckd          \n",
       "369  ...  10300.0   4.8   no        no     no  good   no    no  notckd  \n",
       "\n",
       "[3 rows x 26 columns]"
      ]
     },
     "execution_count": 45,
     "metadata": {},
     "output_type": "execute_result"
    }
   ],
   "source": [
    "df[df[\"no_name\"].notnull()]"
   ]
  },
  {
   "cell_type": "code",
   "execution_count": 46,
   "id": "8f48eb6f",
   "metadata": {},
   "outputs": [],
   "source": [
    "#df[369:370][['dm','cad','appet','pe','ane','class']]='no','no','good','no','no','notckd'\n",
    "#df[369:370]"
   ]
  },
  {
   "cell_type": "code",
   "execution_count": 47,
   "id": "a57a15f9",
   "metadata": {},
   "outputs": [
    {
     "data": {
      "text/html": [
       "<div>\n",
       "<style scoped>\n",
       "    .dataframe tbody tr th:only-of-type {\n",
       "        vertical-align: middle;\n",
       "    }\n",
       "\n",
       "    .dataframe tbody tr th {\n",
       "        vertical-align: top;\n",
       "    }\n",
       "\n",
       "    .dataframe thead th {\n",
       "        text-align: right;\n",
       "    }\n",
       "</style>\n",
       "<table border=\"1\" class=\"dataframe\">\n",
       "  <thead>\n",
       "    <tr style=\"text-align: right;\">\n",
       "      <th></th>\n",
       "      <th>age</th>\n",
       "      <th>bp</th>\n",
       "      <th>sg</th>\n",
       "      <th>al</th>\n",
       "      <th>su</th>\n",
       "      <th>rbc</th>\n",
       "      <th>pc</th>\n",
       "      <th>pcc</th>\n",
       "      <th>ba</th>\n",
       "      <th>bgr</th>\n",
       "      <th>...</th>\n",
       "      <th>wbcc</th>\n",
       "      <th>rbcc</th>\n",
       "      <th>htn</th>\n",
       "      <th>dm</th>\n",
       "      <th>cad</th>\n",
       "      <th>appet</th>\n",
       "      <th>pe</th>\n",
       "      <th>ane</th>\n",
       "      <th>class</th>\n",
       "      <th>no_name</th>\n",
       "    </tr>\n",
       "  </thead>\n",
       "  <tbody>\n",
       "    <tr>\n",
       "      <th>369</th>\n",
       "      <td>75.0</td>\n",
       "      <td>70.0</td>\n",
       "      <td>1.020</td>\n",
       "      <td>0</td>\n",
       "      <td>0</td>\n",
       "      <td>normal</td>\n",
       "      <td>normal</td>\n",
       "      <td>notpresent</td>\n",
       "      <td>notpresent</td>\n",
       "      <td>107.0</td>\n",
       "      <td>...</td>\n",
       "      <td>10300.0</td>\n",
       "      <td>4.8</td>\n",
       "      <td>no</td>\n",
       "      <td>no</td>\n",
       "      <td>no</td>\n",
       "      <td>good</td>\n",
       "      <td>no</td>\n",
       "      <td>no</td>\n",
       "      <td>notckd</td>\n",
       "      <td>notckd</td>\n",
       "    </tr>\n",
       "  </tbody>\n",
       "</table>\n",
       "<p>1 rows × 26 columns</p>\n",
       "</div>"
      ],
      "text/plain": [
       "      age    bp     sg al su     rbc      pc         pcc          ba    bgr  \\\n",
       "369  75.0  70.0  1.020  0  0  normal  normal  notpresent  notpresent  107.0   \n",
       "\n",
       "     ...     wbcc  rbcc  htn  dm  cad  appet  pe  ane   class no_name  \n",
       "369  ...  10300.0   4.8   no  no   no   good  no   no  notckd  notckd  \n",
       "\n",
       "[1 rows x 26 columns]"
      ]
     },
     "execution_count": 47,
     "metadata": {},
     "output_type": "execute_result"
    }
   ],
   "source": [
    "df.at[369,'dm']='no'\n",
    "df.at[369,'cad']='no'\n",
    "df.at[369,'appet']='good'\n",
    "df.at[369,'pe']='no'\n",
    "df.at[369,'ane']='no'\n",
    "df.at[369,'class']='notckd'\n",
    "df[369:370]"
   ]
  },
  {
   "cell_type": "markdown",
   "id": "d93f3b05",
   "metadata": {},
   "source": [
    "#### Aprés avoir fixer ce décalage, on supprime cette colonne inutile."
   ]
  },
  {
   "cell_type": "code",
   "execution_count": 48,
   "id": "f0dc4101",
   "metadata": {},
   "outputs": [
    {
     "data": {
      "text/html": [
       "<div>\n",
       "<style scoped>\n",
       "    .dataframe tbody tr th:only-of-type {\n",
       "        vertical-align: middle;\n",
       "    }\n",
       "\n",
       "    .dataframe tbody tr th {\n",
       "        vertical-align: top;\n",
       "    }\n",
       "\n",
       "    .dataframe thead th {\n",
       "        text-align: right;\n",
       "    }\n",
       "</style>\n",
       "<table border=\"1\" class=\"dataframe\">\n",
       "  <thead>\n",
       "    <tr style=\"text-align: right;\">\n",
       "      <th></th>\n",
       "      <th>age</th>\n",
       "      <th>bp</th>\n",
       "      <th>sg</th>\n",
       "      <th>al</th>\n",
       "      <th>su</th>\n",
       "      <th>rbc</th>\n",
       "      <th>pc</th>\n",
       "      <th>pcc</th>\n",
       "      <th>ba</th>\n",
       "      <th>bgr</th>\n",
       "      <th>...</th>\n",
       "      <th>pcv</th>\n",
       "      <th>wbcc</th>\n",
       "      <th>rbcc</th>\n",
       "      <th>htn</th>\n",
       "      <th>dm</th>\n",
       "      <th>cad</th>\n",
       "      <th>appet</th>\n",
       "      <th>pe</th>\n",
       "      <th>ane</th>\n",
       "      <th>class</th>\n",
       "    </tr>\n",
       "  </thead>\n",
       "  <tbody>\n",
       "    <tr>\n",
       "      <th>0</th>\n",
       "      <td>48.0</td>\n",
       "      <td>80.0</td>\n",
       "      <td>1.020</td>\n",
       "      <td>1</td>\n",
       "      <td>0</td>\n",
       "      <td>NaN</td>\n",
       "      <td>normal</td>\n",
       "      <td>notpresent</td>\n",
       "      <td>notpresent</td>\n",
       "      <td>121.0</td>\n",
       "      <td>...</td>\n",
       "      <td>44.0</td>\n",
       "      <td>7800.0</td>\n",
       "      <td>5.2</td>\n",
       "      <td>yes</td>\n",
       "      <td>yes</td>\n",
       "      <td>no</td>\n",
       "      <td>good</td>\n",
       "      <td>no</td>\n",
       "      <td>no</td>\n",
       "      <td>ckd</td>\n",
       "    </tr>\n",
       "    <tr>\n",
       "      <th>1</th>\n",
       "      <td>7.0</td>\n",
       "      <td>50.0</td>\n",
       "      <td>1.020</td>\n",
       "      <td>4</td>\n",
       "      <td>0</td>\n",
       "      <td>NaN</td>\n",
       "      <td>normal</td>\n",
       "      <td>notpresent</td>\n",
       "      <td>notpresent</td>\n",
       "      <td>NaN</td>\n",
       "      <td>...</td>\n",
       "      <td>38.0</td>\n",
       "      <td>6000.0</td>\n",
       "      <td>NaN</td>\n",
       "      <td>no</td>\n",
       "      <td>no</td>\n",
       "      <td>no</td>\n",
       "      <td>good</td>\n",
       "      <td>no</td>\n",
       "      <td>no</td>\n",
       "      <td>ckd</td>\n",
       "    </tr>\n",
       "    <tr>\n",
       "      <th>2</th>\n",
       "      <td>62.0</td>\n",
       "      <td>80.0</td>\n",
       "      <td>1.010</td>\n",
       "      <td>2</td>\n",
       "      <td>3</td>\n",
       "      <td>normal</td>\n",
       "      <td>normal</td>\n",
       "      <td>notpresent</td>\n",
       "      <td>notpresent</td>\n",
       "      <td>423.0</td>\n",
       "      <td>...</td>\n",
       "      <td>31.0</td>\n",
       "      <td>7500.0</td>\n",
       "      <td>NaN</td>\n",
       "      <td>no</td>\n",
       "      <td>yes</td>\n",
       "      <td>no</td>\n",
       "      <td>poor</td>\n",
       "      <td>no</td>\n",
       "      <td>yes</td>\n",
       "      <td>ckd</td>\n",
       "    </tr>\n",
       "    <tr>\n",
       "      <th>3</th>\n",
       "      <td>48.0</td>\n",
       "      <td>70.0</td>\n",
       "      <td>1.005</td>\n",
       "      <td>4</td>\n",
       "      <td>0</td>\n",
       "      <td>normal</td>\n",
       "      <td>abnormal</td>\n",
       "      <td>present</td>\n",
       "      <td>notpresent</td>\n",
       "      <td>117.0</td>\n",
       "      <td>...</td>\n",
       "      <td>32.0</td>\n",
       "      <td>6700.0</td>\n",
       "      <td>3.9</td>\n",
       "      <td>yes</td>\n",
       "      <td>no</td>\n",
       "      <td>no</td>\n",
       "      <td>poor</td>\n",
       "      <td>yes</td>\n",
       "      <td>yes</td>\n",
       "      <td>ckd</td>\n",
       "    </tr>\n",
       "    <tr>\n",
       "      <th>4</th>\n",
       "      <td>51.0</td>\n",
       "      <td>80.0</td>\n",
       "      <td>1.010</td>\n",
       "      <td>2</td>\n",
       "      <td>0</td>\n",
       "      <td>normal</td>\n",
       "      <td>normal</td>\n",
       "      <td>notpresent</td>\n",
       "      <td>notpresent</td>\n",
       "      <td>106.0</td>\n",
       "      <td>...</td>\n",
       "      <td>35.0</td>\n",
       "      <td>7300.0</td>\n",
       "      <td>4.6</td>\n",
       "      <td>no</td>\n",
       "      <td>no</td>\n",
       "      <td>no</td>\n",
       "      <td>good</td>\n",
       "      <td>no</td>\n",
       "      <td>no</td>\n",
       "      <td>ckd</td>\n",
       "    </tr>\n",
       "    <tr>\n",
       "      <th>...</th>\n",
       "      <td>...</td>\n",
       "      <td>...</td>\n",
       "      <td>...</td>\n",
       "      <td>...</td>\n",
       "      <td>...</td>\n",
       "      <td>...</td>\n",
       "      <td>...</td>\n",
       "      <td>...</td>\n",
       "      <td>...</td>\n",
       "      <td>...</td>\n",
       "      <td>...</td>\n",
       "      <td>...</td>\n",
       "      <td>...</td>\n",
       "      <td>...</td>\n",
       "      <td>...</td>\n",
       "      <td>...</td>\n",
       "      <td>...</td>\n",
       "      <td>...</td>\n",
       "      <td>...</td>\n",
       "      <td>...</td>\n",
       "      <td>...</td>\n",
       "    </tr>\n",
       "    <tr>\n",
       "      <th>395</th>\n",
       "      <td>55.0</td>\n",
       "      <td>80.0</td>\n",
       "      <td>1.020</td>\n",
       "      <td>0</td>\n",
       "      <td>0</td>\n",
       "      <td>normal</td>\n",
       "      <td>normal</td>\n",
       "      <td>notpresent</td>\n",
       "      <td>notpresent</td>\n",
       "      <td>140.0</td>\n",
       "      <td>...</td>\n",
       "      <td>47.0</td>\n",
       "      <td>6700.0</td>\n",
       "      <td>4.9</td>\n",
       "      <td>no</td>\n",
       "      <td>no</td>\n",
       "      <td>no</td>\n",
       "      <td>good</td>\n",
       "      <td>no</td>\n",
       "      <td>no</td>\n",
       "      <td>notckd</td>\n",
       "    </tr>\n",
       "    <tr>\n",
       "      <th>396</th>\n",
       "      <td>42.0</td>\n",
       "      <td>70.0</td>\n",
       "      <td>1.025</td>\n",
       "      <td>0</td>\n",
       "      <td>0</td>\n",
       "      <td>normal</td>\n",
       "      <td>normal</td>\n",
       "      <td>notpresent</td>\n",
       "      <td>notpresent</td>\n",
       "      <td>75.0</td>\n",
       "      <td>...</td>\n",
       "      <td>54.0</td>\n",
       "      <td>7800.0</td>\n",
       "      <td>6.2</td>\n",
       "      <td>no</td>\n",
       "      <td>no</td>\n",
       "      <td>no</td>\n",
       "      <td>good</td>\n",
       "      <td>no</td>\n",
       "      <td>no</td>\n",
       "      <td>notckd</td>\n",
       "    </tr>\n",
       "    <tr>\n",
       "      <th>397</th>\n",
       "      <td>12.0</td>\n",
       "      <td>80.0</td>\n",
       "      <td>1.020</td>\n",
       "      <td>0</td>\n",
       "      <td>0</td>\n",
       "      <td>normal</td>\n",
       "      <td>normal</td>\n",
       "      <td>notpresent</td>\n",
       "      <td>notpresent</td>\n",
       "      <td>100.0</td>\n",
       "      <td>...</td>\n",
       "      <td>49.0</td>\n",
       "      <td>6600.0</td>\n",
       "      <td>5.4</td>\n",
       "      <td>no</td>\n",
       "      <td>no</td>\n",
       "      <td>no</td>\n",
       "      <td>good</td>\n",
       "      <td>no</td>\n",
       "      <td>no</td>\n",
       "      <td>notckd</td>\n",
       "    </tr>\n",
       "    <tr>\n",
       "      <th>398</th>\n",
       "      <td>17.0</td>\n",
       "      <td>60.0</td>\n",
       "      <td>1.025</td>\n",
       "      <td>0</td>\n",
       "      <td>0</td>\n",
       "      <td>normal</td>\n",
       "      <td>normal</td>\n",
       "      <td>notpresent</td>\n",
       "      <td>notpresent</td>\n",
       "      <td>114.0</td>\n",
       "      <td>...</td>\n",
       "      <td>51.0</td>\n",
       "      <td>7200.0</td>\n",
       "      <td>5.9</td>\n",
       "      <td>no</td>\n",
       "      <td>no</td>\n",
       "      <td>no</td>\n",
       "      <td>good</td>\n",
       "      <td>no</td>\n",
       "      <td>no</td>\n",
       "      <td>notckd</td>\n",
       "    </tr>\n",
       "    <tr>\n",
       "      <th>399</th>\n",
       "      <td>58.0</td>\n",
       "      <td>80.0</td>\n",
       "      <td>1.025</td>\n",
       "      <td>0</td>\n",
       "      <td>0</td>\n",
       "      <td>normal</td>\n",
       "      <td>normal</td>\n",
       "      <td>notpresent</td>\n",
       "      <td>notpresent</td>\n",
       "      <td>131.0</td>\n",
       "      <td>...</td>\n",
       "      <td>53.0</td>\n",
       "      <td>6800.0</td>\n",
       "      <td>6.1</td>\n",
       "      <td>no</td>\n",
       "      <td>no</td>\n",
       "      <td>no</td>\n",
       "      <td>good</td>\n",
       "      <td>no</td>\n",
       "      <td>no</td>\n",
       "      <td>notckd</td>\n",
       "    </tr>\n",
       "  </tbody>\n",
       "</table>\n",
       "<p>400 rows × 25 columns</p>\n",
       "</div>"
      ],
      "text/plain": [
       "      age    bp     sg al su     rbc        pc         pcc          ba    bgr  \\\n",
       "0    48.0  80.0  1.020  1  0     NaN    normal  notpresent  notpresent  121.0   \n",
       "1     7.0  50.0  1.020  4  0     NaN    normal  notpresent  notpresent    NaN   \n",
       "2    62.0  80.0  1.010  2  3  normal    normal  notpresent  notpresent  423.0   \n",
       "3    48.0  70.0  1.005  4  0  normal  abnormal     present  notpresent  117.0   \n",
       "4    51.0  80.0  1.010  2  0  normal    normal  notpresent  notpresent  106.0   \n",
       "..    ...   ...    ... .. ..     ...       ...         ...         ...    ...   \n",
       "395  55.0  80.0  1.020  0  0  normal    normal  notpresent  notpresent  140.0   \n",
       "396  42.0  70.0  1.025  0  0  normal    normal  notpresent  notpresent   75.0   \n",
       "397  12.0  80.0  1.020  0  0  normal    normal  notpresent  notpresent  100.0   \n",
       "398  17.0  60.0  1.025  0  0  normal    normal  notpresent  notpresent  114.0   \n",
       "399  58.0  80.0  1.025  0  0  normal    normal  notpresent  notpresent  131.0   \n",
       "\n",
       "     ...   pcv    wbcc  rbcc  htn   dm  cad  appet   pe  ane   class  \n",
       "0    ...  44.0  7800.0   5.2  yes  yes   no   good   no   no     ckd  \n",
       "1    ...  38.0  6000.0   NaN   no   no   no   good   no   no     ckd  \n",
       "2    ...  31.0  7500.0   NaN   no  yes   no   poor   no  yes     ckd  \n",
       "3    ...  32.0  6700.0   3.9  yes   no   no   poor  yes  yes     ckd  \n",
       "4    ...  35.0  7300.0   4.6   no   no   no   good   no   no     ckd  \n",
       "..   ...   ...     ...   ...  ...  ...  ...    ...  ...  ...     ...  \n",
       "395  ...  47.0  6700.0   4.9   no   no   no   good   no   no  notckd  \n",
       "396  ...  54.0  7800.0   6.2   no   no   no   good   no   no  notckd  \n",
       "397  ...  49.0  6600.0   5.4   no   no   no   good   no   no  notckd  \n",
       "398  ...  51.0  7200.0   5.9   no   no   no   good   no   no  notckd  \n",
       "399  ...  53.0  6800.0   6.1   no   no   no   good   no   no  notckd  \n",
       "\n",
       "[400 rows x 25 columns]"
      ]
     },
     "execution_count": 48,
     "metadata": {},
     "output_type": "execute_result"
    }
   ],
   "source": [
    "df=df.drop([\"no_name\"],axis=1)\n",
    "df"
   ]
  },
  {
   "cell_type": "markdown",
   "id": "aed50bfe",
   "metadata": {},
   "source": [
    "#### Remplaçons les valeurs nulles des variables numériques par la moyenne."
   ]
  },
  {
   "cell_type": "code",
   "execution_count": 49,
   "id": "39f7f177",
   "metadata": {},
   "outputs": [],
   "source": [
    "NumericCols=[\"age\",\"bp\",\"bgr\",\"bu\",\"sc\",\"sod\",\"pot\",\"hemo\",\"pcv\",\"wbcc\",\"rbcc\"]\n",
    "for col in NumericCols:\n",
    "    df[col].fillna(value=df[col].mean(), inplace=True)"
   ]
  },
  {
   "cell_type": "code",
   "execution_count": 50,
   "id": "806b94ff",
   "metadata": {},
   "outputs": [
    {
     "name": "stdout",
     "output_type": "stream",
     "text": [
      "<class 'pandas.core.frame.DataFrame'>\n",
      "RangeIndex: 400 entries, 0 to 399\n",
      "Data columns (total 25 columns):\n",
      " #   Column  Non-Null Count  Dtype  \n",
      "---  ------  --------------  -----  \n",
      " 0   age     400 non-null    float64\n",
      " 1   bp      400 non-null    float64\n",
      " 2   sg      353 non-null    object \n",
      " 3   al      354 non-null    object \n",
      " 4   su      351 non-null    object \n",
      " 5   rbc     248 non-null    object \n",
      " 6   pc      335 non-null    object \n",
      " 7   pcc     396 non-null    object \n",
      " 8   ba      396 non-null    object \n",
      " 9   bgr     400 non-null    float64\n",
      " 10  bu      400 non-null    float64\n",
      " 11  sc      400 non-null    float64\n",
      " 12  sod     400 non-null    float64\n",
      " 13  pot     400 non-null    float64\n",
      " 14  hemo    400 non-null    float64\n",
      " 15  pcv     400 non-null    float64\n",
      " 16  wbcc    400 non-null    float64\n",
      " 17  rbcc    400 non-null    float64\n",
      " 18  htn     398 non-null    object \n",
      " 19  dm      398 non-null    object \n",
      " 20  cad     398 non-null    object \n",
      " 21  appet   399 non-null    object \n",
      " 22  pe      399 non-null    object \n",
      " 23  ane     399 non-null    object \n",
      " 24  class   400 non-null    object \n",
      "dtypes: float64(11), object(14)\n",
      "memory usage: 78.2+ KB\n"
     ]
    }
   ],
   "source": [
    "#affiche des informations sur le Dataframe\n",
    "df.info()"
   ]
  },
  {
   "cell_type": "markdown",
   "id": "4e100500",
   "metadata": {},
   "source": [
    "#### Remplaçons les valeurs nulles des variables catégorielles par le mode."
   ]
  },
  {
   "cell_type": "code",
   "execution_count": 51,
   "id": "91f51b56",
   "metadata": {},
   "outputs": [
    {
     "data": {
      "text/html": [
       "<div>\n",
       "<style scoped>\n",
       "    .dataframe tbody tr th:only-of-type {\n",
       "        vertical-align: middle;\n",
       "    }\n",
       "\n",
       "    .dataframe tbody tr th {\n",
       "        vertical-align: top;\n",
       "    }\n",
       "\n",
       "    .dataframe thead th {\n",
       "        text-align: right;\n",
       "    }\n",
       "</style>\n",
       "<table border=\"1\" class=\"dataframe\">\n",
       "  <thead>\n",
       "    <tr style=\"text-align: right;\">\n",
       "      <th></th>\n",
       "      <th>age</th>\n",
       "      <th>bp</th>\n",
       "      <th>sg</th>\n",
       "      <th>al</th>\n",
       "      <th>su</th>\n",
       "      <th>rbc</th>\n",
       "      <th>pc</th>\n",
       "      <th>pcc</th>\n",
       "      <th>ba</th>\n",
       "      <th>bgr</th>\n",
       "      <th>...</th>\n",
       "      <th>pcv</th>\n",
       "      <th>wbcc</th>\n",
       "      <th>rbcc</th>\n",
       "      <th>htn</th>\n",
       "      <th>dm</th>\n",
       "      <th>cad</th>\n",
       "      <th>appet</th>\n",
       "      <th>pe</th>\n",
       "      <th>ane</th>\n",
       "      <th>class</th>\n",
       "    </tr>\n",
       "  </thead>\n",
       "  <tbody>\n",
       "    <tr>\n",
       "      <th>0</th>\n",
       "      <td>48.0</td>\n",
       "      <td>80.0</td>\n",
       "      <td>1.020</td>\n",
       "      <td>1</td>\n",
       "      <td>0</td>\n",
       "      <td>normal</td>\n",
       "      <td>normal</td>\n",
       "      <td>notpresent</td>\n",
       "      <td>notpresent</td>\n",
       "      <td>121.000000</td>\n",
       "      <td>...</td>\n",
       "      <td>44.0</td>\n",
       "      <td>7800.0</td>\n",
       "      <td>5.200000</td>\n",
       "      <td>yes</td>\n",
       "      <td>yes</td>\n",
       "      <td>no</td>\n",
       "      <td>good</td>\n",
       "      <td>no</td>\n",
       "      <td>no</td>\n",
       "      <td>ckd</td>\n",
       "    </tr>\n",
       "    <tr>\n",
       "      <th>1</th>\n",
       "      <td>7.0</td>\n",
       "      <td>50.0</td>\n",
       "      <td>1.020</td>\n",
       "      <td>4</td>\n",
       "      <td>0</td>\n",
       "      <td>normal</td>\n",
       "      <td>normal</td>\n",
       "      <td>notpresent</td>\n",
       "      <td>notpresent</td>\n",
       "      <td>148.036517</td>\n",
       "      <td>...</td>\n",
       "      <td>38.0</td>\n",
       "      <td>6000.0</td>\n",
       "      <td>4.707435</td>\n",
       "      <td>no</td>\n",
       "      <td>no</td>\n",
       "      <td>no</td>\n",
       "      <td>good</td>\n",
       "      <td>no</td>\n",
       "      <td>no</td>\n",
       "      <td>ckd</td>\n",
       "    </tr>\n",
       "    <tr>\n",
       "      <th>2</th>\n",
       "      <td>62.0</td>\n",
       "      <td>80.0</td>\n",
       "      <td>1.010</td>\n",
       "      <td>2</td>\n",
       "      <td>3</td>\n",
       "      <td>normal</td>\n",
       "      <td>normal</td>\n",
       "      <td>notpresent</td>\n",
       "      <td>notpresent</td>\n",
       "      <td>423.000000</td>\n",
       "      <td>...</td>\n",
       "      <td>31.0</td>\n",
       "      <td>7500.0</td>\n",
       "      <td>4.707435</td>\n",
       "      <td>no</td>\n",
       "      <td>yes</td>\n",
       "      <td>no</td>\n",
       "      <td>poor</td>\n",
       "      <td>no</td>\n",
       "      <td>yes</td>\n",
       "      <td>ckd</td>\n",
       "    </tr>\n",
       "    <tr>\n",
       "      <th>3</th>\n",
       "      <td>48.0</td>\n",
       "      <td>70.0</td>\n",
       "      <td>1.005</td>\n",
       "      <td>4</td>\n",
       "      <td>0</td>\n",
       "      <td>normal</td>\n",
       "      <td>abnormal</td>\n",
       "      <td>present</td>\n",
       "      <td>notpresent</td>\n",
       "      <td>117.000000</td>\n",
       "      <td>...</td>\n",
       "      <td>32.0</td>\n",
       "      <td>6700.0</td>\n",
       "      <td>3.900000</td>\n",
       "      <td>yes</td>\n",
       "      <td>no</td>\n",
       "      <td>no</td>\n",
       "      <td>poor</td>\n",
       "      <td>yes</td>\n",
       "      <td>yes</td>\n",
       "      <td>ckd</td>\n",
       "    </tr>\n",
       "    <tr>\n",
       "      <th>4</th>\n",
       "      <td>51.0</td>\n",
       "      <td>80.0</td>\n",
       "      <td>1.010</td>\n",
       "      <td>2</td>\n",
       "      <td>0</td>\n",
       "      <td>normal</td>\n",
       "      <td>normal</td>\n",
       "      <td>notpresent</td>\n",
       "      <td>notpresent</td>\n",
       "      <td>106.000000</td>\n",
       "      <td>...</td>\n",
       "      <td>35.0</td>\n",
       "      <td>7300.0</td>\n",
       "      <td>4.600000</td>\n",
       "      <td>no</td>\n",
       "      <td>no</td>\n",
       "      <td>no</td>\n",
       "      <td>good</td>\n",
       "      <td>no</td>\n",
       "      <td>no</td>\n",
       "      <td>ckd</td>\n",
       "    </tr>\n",
       "    <tr>\n",
       "      <th>...</th>\n",
       "      <td>...</td>\n",
       "      <td>...</td>\n",
       "      <td>...</td>\n",
       "      <td>...</td>\n",
       "      <td>...</td>\n",
       "      <td>...</td>\n",
       "      <td>...</td>\n",
       "      <td>...</td>\n",
       "      <td>...</td>\n",
       "      <td>...</td>\n",
       "      <td>...</td>\n",
       "      <td>...</td>\n",
       "      <td>...</td>\n",
       "      <td>...</td>\n",
       "      <td>...</td>\n",
       "      <td>...</td>\n",
       "      <td>...</td>\n",
       "      <td>...</td>\n",
       "      <td>...</td>\n",
       "      <td>...</td>\n",
       "      <td>...</td>\n",
       "    </tr>\n",
       "    <tr>\n",
       "      <th>395</th>\n",
       "      <td>55.0</td>\n",
       "      <td>80.0</td>\n",
       "      <td>1.020</td>\n",
       "      <td>0</td>\n",
       "      <td>0</td>\n",
       "      <td>normal</td>\n",
       "      <td>normal</td>\n",
       "      <td>notpresent</td>\n",
       "      <td>notpresent</td>\n",
       "      <td>140.000000</td>\n",
       "      <td>...</td>\n",
       "      <td>47.0</td>\n",
       "      <td>6700.0</td>\n",
       "      <td>4.900000</td>\n",
       "      <td>no</td>\n",
       "      <td>no</td>\n",
       "      <td>no</td>\n",
       "      <td>good</td>\n",
       "      <td>no</td>\n",
       "      <td>no</td>\n",
       "      <td>notckd</td>\n",
       "    </tr>\n",
       "    <tr>\n",
       "      <th>396</th>\n",
       "      <td>42.0</td>\n",
       "      <td>70.0</td>\n",
       "      <td>1.025</td>\n",
       "      <td>0</td>\n",
       "      <td>0</td>\n",
       "      <td>normal</td>\n",
       "      <td>normal</td>\n",
       "      <td>notpresent</td>\n",
       "      <td>notpresent</td>\n",
       "      <td>75.000000</td>\n",
       "      <td>...</td>\n",
       "      <td>54.0</td>\n",
       "      <td>7800.0</td>\n",
       "      <td>6.200000</td>\n",
       "      <td>no</td>\n",
       "      <td>no</td>\n",
       "      <td>no</td>\n",
       "      <td>good</td>\n",
       "      <td>no</td>\n",
       "      <td>no</td>\n",
       "      <td>notckd</td>\n",
       "    </tr>\n",
       "    <tr>\n",
       "      <th>397</th>\n",
       "      <td>12.0</td>\n",
       "      <td>80.0</td>\n",
       "      <td>1.020</td>\n",
       "      <td>0</td>\n",
       "      <td>0</td>\n",
       "      <td>normal</td>\n",
       "      <td>normal</td>\n",
       "      <td>notpresent</td>\n",
       "      <td>notpresent</td>\n",
       "      <td>100.000000</td>\n",
       "      <td>...</td>\n",
       "      <td>49.0</td>\n",
       "      <td>6600.0</td>\n",
       "      <td>5.400000</td>\n",
       "      <td>no</td>\n",
       "      <td>no</td>\n",
       "      <td>no</td>\n",
       "      <td>good</td>\n",
       "      <td>no</td>\n",
       "      <td>no</td>\n",
       "      <td>notckd</td>\n",
       "    </tr>\n",
       "    <tr>\n",
       "      <th>398</th>\n",
       "      <td>17.0</td>\n",
       "      <td>60.0</td>\n",
       "      <td>1.025</td>\n",
       "      <td>0</td>\n",
       "      <td>0</td>\n",
       "      <td>normal</td>\n",
       "      <td>normal</td>\n",
       "      <td>notpresent</td>\n",
       "      <td>notpresent</td>\n",
       "      <td>114.000000</td>\n",
       "      <td>...</td>\n",
       "      <td>51.0</td>\n",
       "      <td>7200.0</td>\n",
       "      <td>5.900000</td>\n",
       "      <td>no</td>\n",
       "      <td>no</td>\n",
       "      <td>no</td>\n",
       "      <td>good</td>\n",
       "      <td>no</td>\n",
       "      <td>no</td>\n",
       "      <td>notckd</td>\n",
       "    </tr>\n",
       "    <tr>\n",
       "      <th>399</th>\n",
       "      <td>58.0</td>\n",
       "      <td>80.0</td>\n",
       "      <td>1.025</td>\n",
       "      <td>0</td>\n",
       "      <td>0</td>\n",
       "      <td>normal</td>\n",
       "      <td>normal</td>\n",
       "      <td>notpresent</td>\n",
       "      <td>notpresent</td>\n",
       "      <td>131.000000</td>\n",
       "      <td>...</td>\n",
       "      <td>53.0</td>\n",
       "      <td>6800.0</td>\n",
       "      <td>6.100000</td>\n",
       "      <td>no</td>\n",
       "      <td>no</td>\n",
       "      <td>no</td>\n",
       "      <td>good</td>\n",
       "      <td>no</td>\n",
       "      <td>no</td>\n",
       "      <td>notckd</td>\n",
       "    </tr>\n",
       "  </tbody>\n",
       "</table>\n",
       "<p>400 rows × 25 columns</p>\n",
       "</div>"
      ],
      "text/plain": [
       "      age    bp     sg al su     rbc        pc         pcc          ba  \\\n",
       "0    48.0  80.0  1.020  1  0  normal    normal  notpresent  notpresent   \n",
       "1     7.0  50.0  1.020  4  0  normal    normal  notpresent  notpresent   \n",
       "2    62.0  80.0  1.010  2  3  normal    normal  notpresent  notpresent   \n",
       "3    48.0  70.0  1.005  4  0  normal  abnormal     present  notpresent   \n",
       "4    51.0  80.0  1.010  2  0  normal    normal  notpresent  notpresent   \n",
       "..    ...   ...    ... .. ..     ...       ...         ...         ...   \n",
       "395  55.0  80.0  1.020  0  0  normal    normal  notpresent  notpresent   \n",
       "396  42.0  70.0  1.025  0  0  normal    normal  notpresent  notpresent   \n",
       "397  12.0  80.0  1.020  0  0  normal    normal  notpresent  notpresent   \n",
       "398  17.0  60.0  1.025  0  0  normal    normal  notpresent  notpresent   \n",
       "399  58.0  80.0  1.025  0  0  normal    normal  notpresent  notpresent   \n",
       "\n",
       "            bgr  ...   pcv    wbcc      rbcc  htn   dm  cad  appet   pe  ane  \\\n",
       "0    121.000000  ...  44.0  7800.0  5.200000  yes  yes   no   good   no   no   \n",
       "1    148.036517  ...  38.0  6000.0  4.707435   no   no   no   good   no   no   \n",
       "2    423.000000  ...  31.0  7500.0  4.707435   no  yes   no   poor   no  yes   \n",
       "3    117.000000  ...  32.0  6700.0  3.900000  yes   no   no   poor  yes  yes   \n",
       "4    106.000000  ...  35.0  7300.0  4.600000   no   no   no   good   no   no   \n",
       "..          ...  ...   ...     ...       ...  ...  ...  ...    ...  ...  ...   \n",
       "395  140.000000  ...  47.0  6700.0  4.900000   no   no   no   good   no   no   \n",
       "396   75.000000  ...  54.0  7800.0  6.200000   no   no   no   good   no   no   \n",
       "397  100.000000  ...  49.0  6600.0  5.400000   no   no   no   good   no   no   \n",
       "398  114.000000  ...  51.0  7200.0  5.900000   no   no   no   good   no   no   \n",
       "399  131.000000  ...  53.0  6800.0  6.100000   no   no   no   good   no   no   \n",
       "\n",
       "      class  \n",
       "0       ckd  \n",
       "1       ckd  \n",
       "2       ckd  \n",
       "3       ckd  \n",
       "4       ckd  \n",
       "..      ...  \n",
       "395  notckd  \n",
       "396  notckd  \n",
       "397  notckd  \n",
       "398  notckd  \n",
       "399  notckd  \n",
       "\n",
       "[400 rows x 25 columns]"
      ]
     },
     "execution_count": 51,
     "metadata": {},
     "output_type": "execute_result"
    }
   ],
   "source": [
    "df = df.fillna(df.mode().iloc[0])\n",
    "df"
   ]
  },
  {
   "cell_type": "markdown",
   "id": "b8cc1038",
   "metadata": {},
   "source": [
    "### Conversion type des variables catégorielles qui ont quelques valeurs réelles et encodage du reste."
   ]
  },
  {
   "cell_type": "code",
   "execution_count": 52,
   "id": "c01a8cd7",
   "metadata": {},
   "outputs": [],
   "source": [
    "df[\"su\"]=df[\"su\"].astype('float')\n",
    "df[\"al\"]=df[\"al\"].astype('float')\n",
    "df[\"sg\"]=df[\"sg\"].astype('float')"
   ]
  },
  {
   "cell_type": "code",
   "execution_count": 53,
   "id": "53c96cb6",
   "metadata": {},
   "outputs": [],
   "source": [
    "Yes_No_Cols=[\"ane\",\"pe\",\"cad\",\"dm\",\"htn\"]\n",
    "for col in Yes_No_Cols:\n",
    "    df[col] = df[col].map({'yes': 1,'\\tyes': 1,' yes':1, 'no': 0, '\\tno':0})"
   ]
  },
  {
   "cell_type": "code",
   "execution_count": 54,
   "id": "4e9a3d79",
   "metadata": {},
   "outputs": [],
   "source": [
    "df[\"class\"] = df[\"class\"].map({'ckd': 1,'ckd\\t':1, 'notckd': 0})"
   ]
  },
  {
   "cell_type": "code",
   "execution_count": 55,
   "id": "3dee152f",
   "metadata": {},
   "outputs": [],
   "source": [
    "df[\"appet\"] = df[\"appet\"].map({'good': 1, 'poor': 0})"
   ]
  },
  {
   "cell_type": "code",
   "execution_count": 56,
   "id": "27368ba7",
   "metadata": {},
   "outputs": [],
   "source": [
    "df[\"rbc\"] = df[\"rbc\"].map({'normal': 1,'abnormal': 0})\n",
    "df[\"pc\"] = df[\"pc\"].map({'normal': 1,'abnormal': 0})"
   ]
  },
  {
   "cell_type": "code",
   "execution_count": 57,
   "id": "b2922ee3",
   "metadata": {},
   "outputs": [],
   "source": [
    "df[\"pcc\"] = df[\"pcc\"].map({'present': 1,'notpresent': 0})\n",
    "df[\"ba\"] = df[\"ba\"].map({'present': 1,'notpresent': 0})"
   ]
  },
  {
   "cell_type": "markdown",
   "id": "c9850d08",
   "metadata": {},
   "source": [
    "### Normalisation"
   ]
  },
  {
   "cell_type": "code",
   "execution_count": 58,
   "id": "26bad2dd",
   "metadata": {},
   "outputs": [],
   "source": [
    "from sklearn.preprocessing import StandardScaler\n",
    "sc = StandardScaler()\n",
    "NumericCols=[\"age\",\"bp\",\"bgr\",\"bu\",\"sc\",\"sod\",\"pot\",\"hemo\",\"pcv\",\"wbcc\",\"rbcc\"]\n",
    "df[NumericCols] = sc.fit_transform(df[NumericCols])"
   ]
  },
  {
   "cell_type": "code",
   "execution_count": 59,
   "id": "096df9af",
   "metadata": {},
   "outputs": [
    {
     "data": {
      "text/html": [
       "<div>\n",
       "<style scoped>\n",
       "    .dataframe tbody tr th:only-of-type {\n",
       "        vertical-align: middle;\n",
       "    }\n",
       "\n",
       "    .dataframe tbody tr th {\n",
       "        vertical-align: top;\n",
       "    }\n",
       "\n",
       "    .dataframe thead th {\n",
       "        text-align: right;\n",
       "    }\n",
       "</style>\n",
       "<table border=\"1\" class=\"dataframe\">\n",
       "  <thead>\n",
       "    <tr style=\"text-align: right;\">\n",
       "      <th></th>\n",
       "      <th>age</th>\n",
       "      <th>bp</th>\n",
       "      <th>sg</th>\n",
       "      <th>al</th>\n",
       "      <th>su</th>\n",
       "      <th>rbc</th>\n",
       "      <th>pc</th>\n",
       "      <th>pcc</th>\n",
       "      <th>ba</th>\n",
       "      <th>bgr</th>\n",
       "      <th>...</th>\n",
       "      <th>pcv</th>\n",
       "      <th>wbcc</th>\n",
       "      <th>rbcc</th>\n",
       "      <th>htn</th>\n",
       "      <th>dm</th>\n",
       "      <th>cad</th>\n",
       "      <th>appet</th>\n",
       "      <th>pe</th>\n",
       "      <th>ane</th>\n",
       "      <th>class</th>\n",
       "    </tr>\n",
       "  </thead>\n",
       "  <tbody>\n",
       "    <tr>\n",
       "      <th>0</th>\n",
       "      <td>-0.205464</td>\n",
       "      <td>0.262338</td>\n",
       "      <td>1.020</td>\n",
       "      <td>1.0</td>\n",
       "      <td>0.0</td>\n",
       "      <td>1</td>\n",
       "      <td>1</td>\n",
       "      <td>0</td>\n",
       "      <td>0</td>\n",
       "      <td>-0.361987</td>\n",
       "      <td>...</td>\n",
       "      <td>0.628372</td>\n",
       "      <td>-0.240519</td>\n",
       "      <td>5.869017e-01</td>\n",
       "      <td>1</td>\n",
       "      <td>1</td>\n",
       "      <td>0</td>\n",
       "      <td>1</td>\n",
       "      <td>0</td>\n",
       "      <td>0</td>\n",
       "      <td>1</td>\n",
       "    </tr>\n",
       "    <tr>\n",
       "      <th>1</th>\n",
       "      <td>-2.623810</td>\n",
       "      <td>-1.966580</td>\n",
       "      <td>1.020</td>\n",
       "      <td>4.0</td>\n",
       "      <td>0.0</td>\n",
       "      <td>1</td>\n",
       "      <td>1</td>\n",
       "      <td>0</td>\n",
       "      <td>0</td>\n",
       "      <td>0.000000</td>\n",
       "      <td>...</td>\n",
       "      <td>-0.108649</td>\n",
       "      <td>-0.954786</td>\n",
       "      <td>1.058283e-15</td>\n",
       "      <td>0</td>\n",
       "      <td>0</td>\n",
       "      <td>0</td>\n",
       "      <td>1</td>\n",
       "      <td>0</td>\n",
       "      <td>0</td>\n",
       "      <td>1</td>\n",
       "    </tr>\n",
       "    <tr>\n",
       "      <th>2</th>\n",
       "      <td>0.620313</td>\n",
       "      <td>0.262338</td>\n",
       "      <td>1.010</td>\n",
       "      <td>2.0</td>\n",
       "      <td>3.0</td>\n",
       "      <td>1</td>\n",
       "      <td>1</td>\n",
       "      <td>0</td>\n",
       "      <td>0</td>\n",
       "      <td>3.681441</td>\n",
       "      <td>...</td>\n",
       "      <td>-0.968506</td>\n",
       "      <td>-0.359563</td>\n",
       "      <td>1.058283e-15</td>\n",
       "      <td>0</td>\n",
       "      <td>1</td>\n",
       "      <td>0</td>\n",
       "      <td>0</td>\n",
       "      <td>0</td>\n",
       "      <td>1</td>\n",
       "      <td>1</td>\n",
       "    </tr>\n",
       "    <tr>\n",
       "      <th>3</th>\n",
       "      <td>-0.205464</td>\n",
       "      <td>-0.480635</td>\n",
       "      <td>1.005</td>\n",
       "      <td>4.0</td>\n",
       "      <td>0.0</td>\n",
       "      <td>1</td>\n",
       "      <td>0</td>\n",
       "      <td>1</td>\n",
       "      <td>0</td>\n",
       "      <td>-0.415543</td>\n",
       "      <td>...</td>\n",
       "      <td>-0.845669</td>\n",
       "      <td>-0.677016</td>\n",
       "      <td>-9.620759e-01</td>\n",
       "      <td>1</td>\n",
       "      <td>0</td>\n",
       "      <td>0</td>\n",
       "      <td>0</td>\n",
       "      <td>1</td>\n",
       "      <td>1</td>\n",
       "      <td>1</td>\n",
       "    </tr>\n",
       "    <tr>\n",
       "      <th>4</th>\n",
       "      <td>-0.028511</td>\n",
       "      <td>0.262338</td>\n",
       "      <td>1.010</td>\n",
       "      <td>2.0</td>\n",
       "      <td>0.0</td>\n",
       "      <td>1</td>\n",
       "      <td>1</td>\n",
       "      <td>0</td>\n",
       "      <td>0</td>\n",
       "      <td>-0.562820</td>\n",
       "      <td>...</td>\n",
       "      <td>-0.477159</td>\n",
       "      <td>-0.438926</td>\n",
       "      <td>-1.280110e-01</td>\n",
       "      <td>0</td>\n",
       "      <td>0</td>\n",
       "      <td>0</td>\n",
       "      <td>1</td>\n",
       "      <td>0</td>\n",
       "      <td>0</td>\n",
       "      <td>1</td>\n",
       "    </tr>\n",
       "    <tr>\n",
       "      <th>...</th>\n",
       "      <td>...</td>\n",
       "      <td>...</td>\n",
       "      <td>...</td>\n",
       "      <td>...</td>\n",
       "      <td>...</td>\n",
       "      <td>...</td>\n",
       "      <td>...</td>\n",
       "      <td>...</td>\n",
       "      <td>...</td>\n",
       "      <td>...</td>\n",
       "      <td>...</td>\n",
       "      <td>...</td>\n",
       "      <td>...</td>\n",
       "      <td>...</td>\n",
       "      <td>...</td>\n",
       "      <td>...</td>\n",
       "      <td>...</td>\n",
       "      <td>...</td>\n",
       "      <td>...</td>\n",
       "      <td>...</td>\n",
       "      <td>...</td>\n",
       "    </tr>\n",
       "    <tr>\n",
       "      <th>395</th>\n",
       "      <td>0.207425</td>\n",
       "      <td>0.262338</td>\n",
       "      <td>1.020</td>\n",
       "      <td>0.0</td>\n",
       "      <td>0.0</td>\n",
       "      <td>1</td>\n",
       "      <td>1</td>\n",
       "      <td>0</td>\n",
       "      <td>0</td>\n",
       "      <td>-0.107600</td>\n",
       "      <td>...</td>\n",
       "      <td>0.996882</td>\n",
       "      <td>-0.677016</td>\n",
       "      <td>2.294454e-01</td>\n",
       "      <td>0</td>\n",
       "      <td>0</td>\n",
       "      <td>0</td>\n",
       "      <td>1</td>\n",
       "      <td>0</td>\n",
       "      <td>0</td>\n",
       "      <td>0</td>\n",
       "    </tr>\n",
       "    <tr>\n",
       "      <th>396</th>\n",
       "      <td>-0.559368</td>\n",
       "      <td>-0.480635</td>\n",
       "      <td>1.025</td>\n",
       "      <td>0.0</td>\n",
       "      <td>0.0</td>\n",
       "      <td>1</td>\n",
       "      <td>1</td>\n",
       "      <td>0</td>\n",
       "      <td>0</td>\n",
       "      <td>-0.977874</td>\n",
       "      <td>...</td>\n",
       "      <td>1.856739</td>\n",
       "      <td>-0.240519</td>\n",
       "      <td>1.778423e+00</td>\n",
       "      <td>0</td>\n",
       "      <td>0</td>\n",
       "      <td>0</td>\n",
       "      <td>1</td>\n",
       "      <td>0</td>\n",
       "      <td>0</td>\n",
       "      <td>0</td>\n",
       "    </tr>\n",
       "    <tr>\n",
       "      <th>397</th>\n",
       "      <td>-2.328890</td>\n",
       "      <td>0.262338</td>\n",
       "      <td>1.020</td>\n",
       "      <td>0.0</td>\n",
       "      <td>0.0</td>\n",
       "      <td>1</td>\n",
       "      <td>1</td>\n",
       "      <td>0</td>\n",
       "      <td>0</td>\n",
       "      <td>-0.643153</td>\n",
       "      <td>...</td>\n",
       "      <td>1.242555</td>\n",
       "      <td>-0.716697</td>\n",
       "      <td>8.252060e-01</td>\n",
       "      <td>0</td>\n",
       "      <td>0</td>\n",
       "      <td>0</td>\n",
       "      <td>1</td>\n",
       "      <td>0</td>\n",
       "      <td>0</td>\n",
       "      <td>0</td>\n",
       "    </tr>\n",
       "    <tr>\n",
       "      <th>398</th>\n",
       "      <td>-2.033969</td>\n",
       "      <td>-1.223607</td>\n",
       "      <td>1.025</td>\n",
       "      <td>0.0</td>\n",
       "      <td>0.0</td>\n",
       "      <td>1</td>\n",
       "      <td>1</td>\n",
       "      <td>0</td>\n",
       "      <td>0</td>\n",
       "      <td>-0.455709</td>\n",
       "      <td>...</td>\n",
       "      <td>1.488229</td>\n",
       "      <td>-0.478608</td>\n",
       "      <td>1.420967e+00</td>\n",
       "      <td>0</td>\n",
       "      <td>0</td>\n",
       "      <td>0</td>\n",
       "      <td>1</td>\n",
       "      <td>0</td>\n",
       "      <td>0</td>\n",
       "      <td>0</td>\n",
       "    </tr>\n",
       "    <tr>\n",
       "      <th>399</th>\n",
       "      <td>0.384377</td>\n",
       "      <td>0.262338</td>\n",
       "      <td>1.025</td>\n",
       "      <td>0.0</td>\n",
       "      <td>0.0</td>\n",
       "      <td>1</td>\n",
       "      <td>1</td>\n",
       "      <td>0</td>\n",
       "      <td>0</td>\n",
       "      <td>-0.228099</td>\n",
       "      <td>...</td>\n",
       "      <td>1.733902</td>\n",
       "      <td>-0.637334</td>\n",
       "      <td>1.659271e+00</td>\n",
       "      <td>0</td>\n",
       "      <td>0</td>\n",
       "      <td>0</td>\n",
       "      <td>1</td>\n",
       "      <td>0</td>\n",
       "      <td>0</td>\n",
       "      <td>0</td>\n",
       "    </tr>\n",
       "  </tbody>\n",
       "</table>\n",
       "<p>400 rows × 25 columns</p>\n",
       "</div>"
      ],
      "text/plain": [
       "          age        bp     sg   al   su  rbc  pc  pcc  ba       bgr  ...  \\\n",
       "0   -0.205464  0.262338  1.020  1.0  0.0    1   1    0   0 -0.361987  ...   \n",
       "1   -2.623810 -1.966580  1.020  4.0  0.0    1   1    0   0  0.000000  ...   \n",
       "2    0.620313  0.262338  1.010  2.0  3.0    1   1    0   0  3.681441  ...   \n",
       "3   -0.205464 -0.480635  1.005  4.0  0.0    1   0    1   0 -0.415543  ...   \n",
       "4   -0.028511  0.262338  1.010  2.0  0.0    1   1    0   0 -0.562820  ...   \n",
       "..        ...       ...    ...  ...  ...  ...  ..  ...  ..       ...  ...   \n",
       "395  0.207425  0.262338  1.020  0.0  0.0    1   1    0   0 -0.107600  ...   \n",
       "396 -0.559368 -0.480635  1.025  0.0  0.0    1   1    0   0 -0.977874  ...   \n",
       "397 -2.328890  0.262338  1.020  0.0  0.0    1   1    0   0 -0.643153  ...   \n",
       "398 -2.033969 -1.223607  1.025  0.0  0.0    1   1    0   0 -0.455709  ...   \n",
       "399  0.384377  0.262338  1.025  0.0  0.0    1   1    0   0 -0.228099  ...   \n",
       "\n",
       "          pcv      wbcc          rbcc  htn  dm  cad  appet  pe  ane  class  \n",
       "0    0.628372 -0.240519  5.869017e-01    1   1    0      1   0    0      1  \n",
       "1   -0.108649 -0.954786  1.058283e-15    0   0    0      1   0    0      1  \n",
       "2   -0.968506 -0.359563  1.058283e-15    0   1    0      0   0    1      1  \n",
       "3   -0.845669 -0.677016 -9.620759e-01    1   0    0      0   1    1      1  \n",
       "4   -0.477159 -0.438926 -1.280110e-01    0   0    0      1   0    0      1  \n",
       "..        ...       ...           ...  ...  ..  ...    ...  ..  ...    ...  \n",
       "395  0.996882 -0.677016  2.294454e-01    0   0    0      1   0    0      0  \n",
       "396  1.856739 -0.240519  1.778423e+00    0   0    0      1   0    0      0  \n",
       "397  1.242555 -0.716697  8.252060e-01    0   0    0      1   0    0      0  \n",
       "398  1.488229 -0.478608  1.420967e+00    0   0    0      1   0    0      0  \n",
       "399  1.733902 -0.637334  1.659271e+00    0   0    0      1   0    0      0  \n",
       "\n",
       "[400 rows x 25 columns]"
      ]
     },
     "execution_count": 59,
     "metadata": {},
     "output_type": "execute_result"
    }
   ],
   "source": [
    "df"
   ]
  },
  {
   "cell_type": "code",
   "execution_count": 60,
   "id": "b9a3d998",
   "metadata": {},
   "outputs": [
    {
     "data": {
      "text/plain": [
       "0"
      ]
     },
     "execution_count": 60,
     "metadata": {},
     "output_type": "execute_result"
    }
   ],
   "source": [
    "df.isna().sum().sum()\n"
   ]
  },
  {
   "cell_type": "code",
   "execution_count": 61,
   "id": "f8a05467",
   "metadata": {},
   "outputs": [
    {
     "name": "stdout",
     "output_type": "stream",
     "text": [
      "[]\n"
     ]
    }
   ],
   "source": [
    "rows_with_nan = []\n",
    "for index, row in df.iterrows():\n",
    "    is_nan_series = row.isnull()\n",
    "    if is_nan_series.any():\n",
    "        rows_with_nan.append(index)\n",
    "\n",
    "print(rows_with_nan)"
   ]
  },
  {
   "cell_type": "markdown",
   "id": "a8c26e05",
   "metadata": {},
   "source": [
    "### Feature Selection"
   ]
  },
  {
   "cell_type": "markdown",
   "id": "c50dae90",
   "metadata": {},
   "source": [
    "### Correlation-based feature selection :"
   ]
  },
  {
   "cell_type": "code",
   "execution_count": 62,
   "id": "e472968b",
   "metadata": {},
   "outputs": [
    {
     "data": {
      "text/plain": [
       "['age',\n",
       " 'bp',\n",
       " 'sg',\n",
       " 'al',\n",
       " 'su',\n",
       " 'rbc',\n",
       " 'pc',\n",
       " 'pcc',\n",
       " 'ba',\n",
       " 'bgr',\n",
       " 'bu',\n",
       " 'sc',\n",
       " 'sod',\n",
       " 'pot',\n",
       " 'hemo',\n",
       " 'pcv',\n",
       " 'wbcc',\n",
       " 'rbcc',\n",
       " 'htn',\n",
       " 'dm',\n",
       " 'cad',\n",
       " 'appet',\n",
       " 'pe',\n",
       " 'ane']"
      ]
     },
     "execution_count": 62,
     "metadata": {},
     "output_type": "execute_result"
    }
   ],
   "source": [
    "features = df.columns.tolist()\n",
    "features.remove('class')\n",
    "features\n"
   ]
  },
  {
   "cell_type": "code",
   "execution_count": 63,
   "id": "f9a1cb3d",
   "metadata": {},
   "outputs": [],
   "source": [
    "from scipy.stats import pointbiserialr\n",
    "from math import sqrt\n",
    "\n",
    "def getMerit(subset, label):\n",
    "    k = len(subset)\n",
    "\n",
    "    # average feature-class correlation\n",
    "    rcf_all = []\n",
    "    for feature in subset:\n",
    "        coeff = pointbiserialr( df[label], df[feature] )\n",
    "        rcf_all.append( abs( coeff.correlation ) )\n",
    "    rcf = np.mean( rcf_all )\n",
    "\n",
    "    # average feature-feature correlation\n",
    "    corr = df[subset].corr()\n",
    "    corr.values[np.tril_indices_from(corr.values)] = np.nan\n",
    "    corr = abs(corr)\n",
    "    rff = corr.unstack().mean()\n",
    "\n",
    "    return (k * rcf) / sqrt(k + k * (k-1) * rff)"
   ]
  },
  {
   "cell_type": "code",
   "execution_count": 64,
   "id": "00ee90cb",
   "metadata": {},
   "outputs": [
    {
     "name": "stdout",
     "output_type": "stream",
     "text": [
      "Feature hemo with merit 0.7296\n"
     ]
    }
   ],
   "source": [
    "best_value = -1\n",
    "best_feature = ''\n",
    "for feature in features:\n",
    "    coeff = pointbiserialr( df['class'], df[feature] )\n",
    "    abs_coeff = abs( coeff.correlation )\n",
    "    if abs_coeff > best_value:\n",
    "        best_value = abs_coeff\n",
    "        best_feature = feature\n",
    "\n",
    "print(\"Feature %s with merit %.4f\"%(best_feature, best_value))"
   ]
  },
  {
   "cell_type": "code",
   "execution_count": 65,
   "id": "4808f2a6",
   "metadata": {},
   "outputs": [],
   "source": [
    "class PriorityQueue:\n",
    "    def  __init__(self):\n",
    "        self.queue = []\n",
    "\n",
    "    def isEmpty(self):\n",
    "        return len(self.queue) == 0\n",
    "    \n",
    "    def push(self, item, priority):\n",
    "        \"\"\"\n",
    "        item already in priority queue with smaller priority:\n",
    "        -> update its priority\n",
    "        item already in priority queue with higher priority:\n",
    "        -> do nothing\n",
    "        if item not in priority queue:\n",
    "        -> push it\n",
    "        \"\"\"\n",
    "        for index, (i, p) in enumerate(self.queue):\n",
    "            if (set(i) == set(item)):\n",
    "                if (p >= priority):\n",
    "                    break\n",
    "                del self.queue[index]\n",
    "                self.queue.append( (item, priority) )\n",
    "                break\n",
    "        else:\n",
    "            self.queue.append( (item, priority) )\n",
    "        \n",
    "    def pop(self):\n",
    "        # return item with highest priority and remove it from queue\n",
    "        max_idx = 0\n",
    "        for index, (i, p) in enumerate(self.queue):\n",
    "            if (self.queue[max_idx][1] < p):\n",
    "                max_idx = index\n",
    "        (item, priority) = self.queue[max_idx]\n",
    "        del self.queue[max_idx]\n",
    "        return (item, priority)"
   ]
  },
  {
   "cell_type": "code",
   "execution_count": 66,
   "id": "f7d76286",
   "metadata": {},
   "outputs": [],
   "source": [
    "# initialize queue\n",
    "queue = PriorityQueue()\n",
    "\n",
    "# push first tuple (subset, merit)\n",
    "queue.push([best_feature], best_value)"
   ]
  },
  {
   "cell_type": "code",
   "execution_count": 67,
   "id": "36e8ca45",
   "metadata": {},
   "outputs": [],
   "source": [
    "# list for visited nodes\n",
    "visited = []\n",
    "\n",
    "# counter for backtracks\n",
    "n_backtrack = 0\n",
    "\n",
    "# limit of backtracks\n",
    "max_backtrack = 5"
   ]
  },
  {
   "cell_type": "code",
   "execution_count": 68,
   "id": "c57c93a1",
   "metadata": {},
   "outputs": [],
   "source": [
    "# repeat until queue is empty\n",
    "# or the maximum number of backtracks is reached\n",
    "while not queue.isEmpty():\n",
    "    # get element of queue with highest merit\n",
    "    subset, priority = queue.pop()\n",
    "    \n",
    "    # check whether the priority of this subset\n",
    "    # is higher than the current best subset\n",
    "    if (priority < best_value):\n",
    "        n_backtrack += 1\n",
    "    else:\n",
    "        best_value = priority\n",
    "        best_subset = subset\n",
    "\n",
    "    # goal condition\n",
    "    if (n_backtrack == max_backtrack):\n",
    "        break\n",
    "    \n",
    "    # iterate through all features and look of one can\n",
    "    # increase the merit\n",
    "    for feature in features:\n",
    "        temp_subset = subset + [feature]\n",
    "        \n",
    "        # check if this subset has already been evaluated\n",
    "        for node in visited:\n",
    "            if (set(node) == set(temp_subset)):\n",
    "                break\n",
    "        # if not, ...\n",
    "        else:\n",
    "            # ... mark it as visited\n",
    "            visited.append( temp_subset )\n",
    "            # ... compute merit\n",
    "            merit = getMerit(temp_subset, 'class')\n",
    "            # and push it to the queue\n",
    "            queue.push(temp_subset, merit)\n",
    "        "
   ]
  },
  {
   "cell_type": "code",
   "execution_count": 69,
   "id": "a67e190f",
   "metadata": {},
   "outputs": [
    {
     "name": "stdout",
     "output_type": "stream",
     "text": [
      "['hemo', 'sg', 'dm', 'pcv', 'al', 'htn']\n"
     ]
    }
   ],
   "source": [
    "print(best_subset)"
   ]
  },
  {
   "cell_type": "code",
   "execution_count": 70,
   "id": "a230655e",
   "metadata": {},
   "outputs": [],
   "source": [
    "df1=df[list(best_subset)+['class']]"
   ]
  },
  {
   "cell_type": "code",
   "execution_count": 71,
   "id": "71745108",
   "metadata": {},
   "outputs": [
    {
     "data": {
      "text/html": [
       "<div>\n",
       "<style scoped>\n",
       "    .dataframe tbody tr th:only-of-type {\n",
       "        vertical-align: middle;\n",
       "    }\n",
       "\n",
       "    .dataframe tbody tr th {\n",
       "        vertical-align: top;\n",
       "    }\n",
       "\n",
       "    .dataframe thead th {\n",
       "        text-align: right;\n",
       "    }\n",
       "</style>\n",
       "<table border=\"1\" class=\"dataframe\">\n",
       "  <thead>\n",
       "    <tr style=\"text-align: right;\">\n",
       "      <th></th>\n",
       "      <th>hemo</th>\n",
       "      <th>sg</th>\n",
       "      <th>dm</th>\n",
       "      <th>pcv</th>\n",
       "      <th>al</th>\n",
       "      <th>htn</th>\n",
       "      <th>class</th>\n",
       "    </tr>\n",
       "  </thead>\n",
       "  <tbody>\n",
       "    <tr>\n",
       "      <th>0</th>\n",
       "      <td>1.059271</td>\n",
       "      <td>1.020</td>\n",
       "      <td>1</td>\n",
       "      <td>0.628372</td>\n",
       "      <td>1.0</td>\n",
       "      <td>1</td>\n",
       "      <td>1</td>\n",
       "    </tr>\n",
       "    <tr>\n",
       "      <th>1</th>\n",
       "      <td>-0.452097</td>\n",
       "      <td>1.020</td>\n",
       "      <td>0</td>\n",
       "      <td>-0.108649</td>\n",
       "      <td>4.0</td>\n",
       "      <td>0</td>\n",
       "      <td>1</td>\n",
       "    </tr>\n",
       "    <tr>\n",
       "      <th>2</th>\n",
       "      <td>-1.078762</td>\n",
       "      <td>1.010</td>\n",
       "      <td>1</td>\n",
       "      <td>-0.968506</td>\n",
       "      <td>2.0</td>\n",
       "      <td>0</td>\n",
       "      <td>1</td>\n",
       "    </tr>\n",
       "    <tr>\n",
       "      <th>3</th>\n",
       "      <td>-0.488960</td>\n",
       "      <td>1.005</td>\n",
       "      <td>0</td>\n",
       "      <td>-0.845669</td>\n",
       "      <td>4.0</td>\n",
       "      <td>1</td>\n",
       "      <td>1</td>\n",
       "    </tr>\n",
       "    <tr>\n",
       "      <th>4</th>\n",
       "      <td>-0.341509</td>\n",
       "      <td>1.010</td>\n",
       "      <td>0</td>\n",
       "      <td>-0.477159</td>\n",
       "      <td>2.0</td>\n",
       "      <td>0</td>\n",
       "      <td>1</td>\n",
       "    </tr>\n",
       "    <tr>\n",
       "      <th>...</th>\n",
       "      <td>...</td>\n",
       "      <td>...</td>\n",
       "      <td>...</td>\n",
       "      <td>...</td>\n",
       "      <td>...</td>\n",
       "      <td>...</td>\n",
       "      <td>...</td>\n",
       "    </tr>\n",
       "    <tr>\n",
       "      <th>395</th>\n",
       "      <td>1.169859</td>\n",
       "      <td>1.020</td>\n",
       "      <td>0</td>\n",
       "      <td>0.996882</td>\n",
       "      <td>0.0</td>\n",
       "      <td>0</td>\n",
       "      <td>0</td>\n",
       "    </tr>\n",
       "    <tr>\n",
       "      <th>396</th>\n",
       "      <td>1.464760</td>\n",
       "      <td>1.025</td>\n",
       "      <td>0</td>\n",
       "      <td>1.856739</td>\n",
       "      <td>0.0</td>\n",
       "      <td>0</td>\n",
       "      <td>0</td>\n",
       "    </tr>\n",
       "    <tr>\n",
       "      <th>397</th>\n",
       "      <td>1.206722</td>\n",
       "      <td>1.020</td>\n",
       "      <td>0</td>\n",
       "      <td>1.242555</td>\n",
       "      <td>0.0</td>\n",
       "      <td>0</td>\n",
       "      <td>0</td>\n",
       "    </tr>\n",
       "    <tr>\n",
       "      <th>398</th>\n",
       "      <td>0.616920</td>\n",
       "      <td>1.025</td>\n",
       "      <td>0</td>\n",
       "      <td>1.488229</td>\n",
       "      <td>0.0</td>\n",
       "      <td>0</td>\n",
       "      <td>0</td>\n",
       "    </tr>\n",
       "    <tr>\n",
       "      <th>399</th>\n",
       "      <td>1.206722</td>\n",
       "      <td>1.025</td>\n",
       "      <td>0</td>\n",
       "      <td>1.733902</td>\n",
       "      <td>0.0</td>\n",
       "      <td>0</td>\n",
       "      <td>0</td>\n",
       "    </tr>\n",
       "  </tbody>\n",
       "</table>\n",
       "<p>400 rows × 7 columns</p>\n",
       "</div>"
      ],
      "text/plain": [
       "         hemo     sg  dm       pcv   al  htn  class\n",
       "0    1.059271  1.020   1  0.628372  1.0    1      1\n",
       "1   -0.452097  1.020   0 -0.108649  4.0    0      1\n",
       "2   -1.078762  1.010   1 -0.968506  2.0    0      1\n",
       "3   -0.488960  1.005   0 -0.845669  4.0    1      1\n",
       "4   -0.341509  1.010   0 -0.477159  2.0    0      1\n",
       "..        ...    ...  ..       ...  ...  ...    ...\n",
       "395  1.169859  1.020   0  0.996882  0.0    0      0\n",
       "396  1.464760  1.025   0  1.856739  0.0    0      0\n",
       "397  1.206722  1.020   0  1.242555  0.0    0      0\n",
       "398  0.616920  1.025   0  1.488229  0.0    0      0\n",
       "399  1.206722  1.025   0  1.733902  0.0    0      0\n",
       "\n",
       "[400 rows x 7 columns]"
      ]
     },
     "execution_count": 71,
     "metadata": {},
     "output_type": "execute_result"
    }
   ],
   "source": [
    "df1"
   ]
  },
  {
   "cell_type": "code",
   "execution_count": 72,
   "id": "6821945d",
   "metadata": {},
   "outputs": [],
   "source": [
    "n=len(best_subset)"
   ]
  },
  {
   "cell_type": "markdown",
   "id": "3a384b01",
   "metadata": {},
   "source": [
    "### Oversampling"
   ]
  },
  {
   "cell_type": "code",
   "execution_count": 73,
   "id": "b828ef26",
   "metadata": {},
   "outputs": [],
   "source": [
    "from sklearn.model_selection import train_test_split\n",
    "X = df.loc[:, df.columns != 'class']\n",
    "y = df.loc[:, df.columns == 'class']\n",
    "from imblearn.over_sampling import SMOTE\n",
    "os = SMOTE(random_state=0)\n",
    "X_train, X_test, y_train, y_test = train_test_split(X, y, test_size=0.25, random_state=0)\n",
    "columns = X_train.columns\n",
    "os_data_X,os_data_y=os.fit_resample(X_train, y_train)\n",
    "os_data_X = pd.DataFrame(data=os_data_X,columns=columns )\n",
    "os_data_y= pd.DataFrame(data=os_data_y,columns=['class'])"
   ]
  },
  {
   "cell_type": "code",
   "execution_count": 74,
   "id": "361379de",
   "metadata": {},
   "outputs": [],
   "source": [
    "os_data_X1=os_data_X\n",
    "os_data_X=os_data_X[list(best_subset)]\n",
    "X_test = pd.DataFrame(data=X_test,columns=columns)\n",
    "X_test1=X_test\n",
    "X_test=X_test[list(best_subset)]"
   ]
  },
  {
   "cell_type": "code",
   "execution_count": 75,
   "id": "875ce5d9",
   "metadata": {},
   "outputs": [
    {
     "data": {
      "text/plain": [
       "class\n",
       "0    188\n",
       "1    188\n",
       "Name: class, dtype: int64"
      ]
     },
     "execution_count": 75,
     "metadata": {},
     "output_type": "execute_result"
    }
   ],
   "source": [
    "os_data_y.groupby(['class'])['class'].count()"
   ]
  },
  {
   "cell_type": "code",
   "execution_count": 76,
   "id": "66b7ebee",
   "metadata": {
    "scrolled": false
   },
   "outputs": [
    {
     "data": {
      "text/html": [
       "<div>\n",
       "<style scoped>\n",
       "    .dataframe tbody tr th:only-of-type {\n",
       "        vertical-align: middle;\n",
       "    }\n",
       "\n",
       "    .dataframe tbody tr th {\n",
       "        vertical-align: top;\n",
       "    }\n",
       "\n",
       "    .dataframe thead th {\n",
       "        text-align: right;\n",
       "    }\n",
       "</style>\n",
       "<table border=\"1\" class=\"dataframe\">\n",
       "  <thead>\n",
       "    <tr style=\"text-align: right;\">\n",
       "      <th></th>\n",
       "      <th>class</th>\n",
       "    </tr>\n",
       "  </thead>\n",
       "  <tbody>\n",
       "    <tr>\n",
       "      <th>0</th>\n",
       "      <td>0</td>\n",
       "    </tr>\n",
       "    <tr>\n",
       "      <th>1</th>\n",
       "      <td>1</td>\n",
       "    </tr>\n",
       "    <tr>\n",
       "      <th>2</th>\n",
       "      <td>0</td>\n",
       "    </tr>\n",
       "    <tr>\n",
       "      <th>3</th>\n",
       "      <td>1</td>\n",
       "    </tr>\n",
       "    <tr>\n",
       "      <th>4</th>\n",
       "      <td>0</td>\n",
       "    </tr>\n",
       "    <tr>\n",
       "      <th>...</th>\n",
       "      <td>...</td>\n",
       "    </tr>\n",
       "    <tr>\n",
       "      <th>371</th>\n",
       "      <td>0</td>\n",
       "    </tr>\n",
       "    <tr>\n",
       "      <th>372</th>\n",
       "      <td>0</td>\n",
       "    </tr>\n",
       "    <tr>\n",
       "      <th>373</th>\n",
       "      <td>0</td>\n",
       "    </tr>\n",
       "    <tr>\n",
       "      <th>374</th>\n",
       "      <td>0</td>\n",
       "    </tr>\n",
       "    <tr>\n",
       "      <th>375</th>\n",
       "      <td>0</td>\n",
       "    </tr>\n",
       "  </tbody>\n",
       "</table>\n",
       "<p>376 rows × 1 columns</p>\n",
       "</div>"
      ],
      "text/plain": [
       "     class\n",
       "0        0\n",
       "1        1\n",
       "2        0\n",
       "3        1\n",
       "4        0\n",
       "..     ...\n",
       "371      0\n",
       "372      0\n",
       "373      0\n",
       "374      0\n",
       "375      0\n",
       "\n",
       "[376 rows x 1 columns]"
      ]
     },
     "execution_count": 76,
     "metadata": {},
     "output_type": "execute_result"
    }
   ],
   "source": [
    "os_data_y"
   ]
  },
  {
   "cell_type": "markdown",
   "id": "7d4c5c1f",
   "metadata": {},
   "source": [
    "## Creating and testing the models (without feature selection)"
   ]
  },
  {
   "cell_type": "markdown",
   "id": "5eb5c7ae",
   "metadata": {},
   "source": [
    "### KNN"
   ]
  },
  {
   "cell_type": "code",
   "execution_count": 77,
   "id": "be09eb8b",
   "metadata": {},
   "outputs": [
    {
     "name": "stdout",
     "output_type": "stream",
     "text": [
      "Best leaf_size: 2\n",
      "Best p: 2\n",
      "Best n_neighbors: 1\n"
     ]
    }
   ],
   "source": [
    "from sklearn.neighbors import KNeighborsClassifier\n",
    "from sklearn.model_selection import GridSearchCV\n",
    "leaf_size = list(range(2,20))# Par défaut c'est 30\n",
    "n_neighbors = list(range(1,25))\n",
    "p=[1,2] #p = 1 manhattan_distance/p=2 euclidean_distance\n",
    "#Convert to dictionary\n",
    "hyperparameters = dict(leaf_size=leaf_size, n_neighbors=n_neighbors, p=p)\n",
    "#Create new KNN object\n",
    "knn_2 = KNeighborsClassifier()\n",
    "#Use GridSearch\n",
    "clf = GridSearchCV(knn_2, hyperparameters, cv=10, n_jobs=-1)\n",
    "#n_jobs: number of CPU'sfor execution.\n",
    "#cv: number of folds of the cross validation\n",
    "\n",
    "#Fit the model\n",
    "best_model = clf.fit(os_data_X1, os_data_y.values.ravel())\n",
    "#Print The value of best Hyperparameters\n",
    "print('Best leaf_size:', best_model.best_estimator_.get_params()['leaf_size'])\n",
    "print('Best p:', best_model.best_estimator_.get_params()['p'])\n",
    "print('Best n_neighbors:', best_model.best_estimator_.get_params()['n_neighbors'])"
   ]
  },
  {
   "cell_type": "code",
   "execution_count": 78,
   "id": "12c88a80",
   "metadata": {},
   "outputs": [
    {
     "name": "stdout",
     "output_type": "stream",
     "text": [
      "{'leaf_size': 2, 'n_neighbors': 1, 'p': 2}\n"
     ]
    }
   ],
   "source": [
    "# Afficher les paramètres qui donnent les meilleurs performances\n",
    "best_parameters = clf.best_params_\n",
    "print(best_parameters)"
   ]
  },
  {
   "cell_type": "code",
   "execution_count": 79,
   "id": "4974fdb3",
   "metadata": {},
   "outputs": [],
   "source": [
    "knn = KNeighborsClassifier(n_neighbors=1,p=2,leaf_size=2)\n",
    "knn_model = knn.fit(os_data_X1, os_data_y.values.ravel())\n",
    "y_pred_knn = knn_model.predict(X_test1)"
   ]
  },
  {
   "cell_type": "code",
   "execution_count": 80,
   "id": "588d2075",
   "metadata": {},
   "outputs": [
    {
     "name": "stdout",
     "output_type": "stream",
     "text": [
      "Accuracy of K-NN classifier on training set: 1.00\n",
      "Accuracy of K-NN classifier on test set: 0.96\n"
     ]
    }
   ],
   "source": [
    "print('Accuracy of K-NN classifier on training set: {:.2f}'\n",
    "     .format(knn.score(os_data_X1, os_data_y)))\n",
    "print('Accuracy of K-NN classifier on test set: {:.2f}'\n",
    "     .format(knn.score(X_test1, y_test)))"
   ]
  },
  {
   "cell_type": "code",
   "execution_count": 81,
   "id": "fa7da2db",
   "metadata": {},
   "outputs": [
    {
     "name": "stderr",
     "output_type": "stream",
     "text": [
      "C:\\Users\\MSI\\anaconda3\\lib\\site-packages\\sklearn\\base.py:450: UserWarning: X does not have valid feature names, but KNeighborsClassifier was fitted with feature names\n",
      "  warnings.warn(\n"
     ]
    },
    {
     "data": {
      "image/png": "[encoded data removed]",
      "text/plain": [
       "<Figure size 576x396 with 2 Axes>"
      ]
     },
     "metadata": {},
     "output_type": "display_data"
    },
    {
     "data": {
      "text/plain": [
       "<AxesSubplot:title={'center':'KNeighborsClassifier Classification Report'}>"
      ]
     },
     "execution_count": 81,
     "metadata": {},
     "output_type": "execute_result"
    }
   ],
   "source": [
    "from sklearn.model_selection import TimeSeriesSplit\n",
    "import yellowbrick\n",
    "from yellowbrick.classifier import ClassificationReport\n",
    "from yellowbrick.datasets import load_occupancy\n",
    "\n",
    "# Specify the target classes\n",
    "classes = [\"Not CKD\", \"CKD\"]\n",
    "\n",
    "visualizer = ClassificationReport(knn_model, classes=classes, support=True)\n",
    "visualizer.fit(os_data_X1, os_data_y) \n",
    "visualizer.score(X_test1, y_test)    # Evaluate the model on the test data\n",
    "visualizer.show()   "
   ]
  },
  {
   "cell_type": "markdown",
   "id": "e5fdc82e",
   "metadata": {},
   "source": [
    "### Naive Bayes"
   ]
  },
  {
   "cell_type": "code",
   "execution_count": 82,
   "id": "9efd7416",
   "metadata": {
    "scrolled": true
   },
   "outputs": [
    {
     "data": {
      "text/html": [
       "<style>#sk-container-id-1 {color: black;background-color: white;}#sk-container-id-1 pre{padding: 0;}#sk-container-id-1 div.sk-toggleable {background-color: white;}#sk-container-id-1 label.sk-toggleable__label {cursor: pointer;display: block;width: 100%;margin-bottom: 0;padding: 0.3em;box-sizing: border-box;text-align: center;}#sk-container-id-1 label.sk-toggleable__label-arrow:before {content: \"▸\";float: left;margin-right: 0.25em;color: #696969;}#sk-container-id-1 label.sk-toggleable__label-arrow:hover:before {color: black;}#sk-container-id-1 div.sk-estimator:hover label.sk-toggleable__label-arrow:before {color: black;}#sk-container-id-1 div.sk-toggleable__content {max-height: 0;max-width: 0;overflow: hidden;text-align: left;background-color: #f0f8ff;}#sk-container-id-1 div.sk-toggleable__content pre {margin: 0.2em;color: black;border-radius: 0.25em;background-color: #f0f8ff;}#sk-container-id-1 input.sk-toggleable__control:checked~div.sk-toggleable__content {max-height: 200px;max-width: 100%;overflow: auto;}#sk-container-id-1 input.sk-toggleable__control:checked~label.sk-toggleable__label-arrow:before {content: \"▾\";}#sk-container-id-1 div.sk-estimator input.sk-toggleable__control:checked~label.sk-toggleable__label {background-color: #d4ebff;}#sk-container-id-1 div.sk-label input.sk-toggleable__control:checked~label.sk-toggleable__label {background-color: #d4ebff;}#sk-container-id-1 input.sk-hidden--visually {border: 0;clip: rect(1px 1px 1px 1px);clip: rect(1px, 1px, 1px, 1px);height: 1px;margin: -1px;overflow: hidden;padding: 0;position: absolute;width: 1px;}#sk-container-id-1 div.sk-estimator {font-family: monospace;background-color: #f0f8ff;border: 1px dotted black;border-radius: 0.25em;box-sizing: border-box;margin-bottom: 0.5em;}#sk-container-id-1 div.sk-estimator:hover {background-color: #d4ebff;}#sk-container-id-1 div.sk-parallel-item::after {content: \"\";width: 100%;border-bottom: 1px solid gray;flex-grow: 1;}#sk-container-id-1 div.sk-label:hover label.sk-toggleable__label {background-color: #d4ebff;}#sk-container-id-1 div.sk-serial::before {content: \"\";position: absolute;border-left: 1px solid gray;box-sizing: border-box;top: 0;bottom: 0;left: 50%;z-index: 0;}#sk-container-id-1 div.sk-serial {display: flex;flex-direction: column;align-items: center;background-color: white;padding-right: 0.2em;padding-left: 0.2em;position: relative;}#sk-container-id-1 div.sk-item {position: relative;z-index: 1;}#sk-container-id-1 div.sk-parallel {display: flex;align-items: stretch;justify-content: center;background-color: white;position: relative;}#sk-container-id-1 div.sk-item::before, #sk-container-id-1 div.sk-parallel-item::before {content: \"\";position: absolute;border-left: 1px solid gray;box-sizing: border-box;top: 0;bottom: 0;left: 50%;z-index: -1;}#sk-container-id-1 div.sk-parallel-item {display: flex;flex-direction: column;z-index: 1;position: relative;background-color: white;}#sk-container-id-1 div.sk-parallel-item:first-child::after {align-self: flex-end;width: 50%;}#sk-container-id-1 div.sk-parallel-item:last-child::after {align-self: flex-start;width: 50%;}#sk-container-id-1 div.sk-parallel-item:only-child::after {width: 0;}#sk-container-id-1 div.sk-dashed-wrapped {border: 1px dashed gray;margin: 0 0.4em 0.5em 0.4em;box-sizing: border-box;padding-bottom: 0.4em;background-color: white;}#sk-container-id-1 div.sk-label label {font-family: monospace;font-weight: bold;display: inline-block;line-height: 1.2em;}#sk-container-id-1 div.sk-label-container {text-align: center;}#sk-container-id-1 div.sk-container {/* jupyter's `normalize.less` sets `[hidden] { display: none; }` but bootstrap.min.css set `[hidden] { display: none !important; }` so we also need the `!important` here to be able to override the default hidden behavior on the sphinx rendered scikit-learn.org. See: https://github.com/scikit-learn/scikit-learn/issues/21755 */display: inline-block !important;position: relative;}#sk-container-id-1 div.sk-text-repr-fallback {display: none;}</style><div id=\"sk-container-id-1\" class=\"sk-top-container\"><div class=\"sk-text-repr-fallback\"><pre>GaussianNB()</pre><b>In a Jupyter environment, please rerun this cell to show the HTML representation or trust the notebook. <br />On GitHub, the HTML representation is unable to render, please try loading this page with nbviewer.org.</b></div><div class=\"sk-container\" hidden><div class=\"sk-item\"><div class=\"sk-estimator sk-toggleable\"><input class=\"sk-toggleable__control sk-hidden--visually\" id=\"sk-estimator-id-1\" type=\"checkbox\" checked><label for=\"sk-estimator-id-1\" class=\"sk-toggleable__label sk-toggleable__label-arrow\">GaussianNB</label><div class=\"sk-toggleable__content\"><pre>GaussianNB()</pre></div></div></div></div></div>"
      ],
      "text/plain": [
       "GaussianNB()"
      ]
     },
     "execution_count": 82,
     "metadata": {},
     "output_type": "execute_result"
    }
   ],
   "source": [
    "from sklearn.naive_bayes import GaussianNB\n",
    "gnb = GaussianNB()\n",
    "gnb.fit(os_data_X1, os_data_y.values.ravel())"
   ]
  },
  {
   "cell_type": "code",
   "execution_count": 83,
   "id": "3600657e",
   "metadata": {},
   "outputs": [],
   "source": [
    "# making predictions on the testing set\n",
    "y_pred = gnb.predict(X_test1) "
   ]
  },
  {
   "cell_type": "code",
   "execution_count": 84,
   "id": "ee15dbaa",
   "metadata": {},
   "outputs": [
    {
     "name": "stdout",
     "output_type": "stream",
     "text": [
      "Gaussian Naive Bayes model accuracy: 0.98\n"
     ]
    }
   ],
   "source": [
    "# comparing actual response values (y_test) with predicted response values (y_pred)\n",
    "from sklearn import metrics\n",
    "print(\"Gaussian Naive Bayes model accuracy:\", metrics.accuracy_score(y_test, y_pred))"
   ]
  },
  {
   "cell_type": "code",
   "execution_count": 85,
   "id": "d8bac391",
   "metadata": {
    "scrolled": false
   },
   "outputs": [
    {
     "name": "stderr",
     "output_type": "stream",
     "text": [
      "C:\\Users\\MSI\\anaconda3\\lib\\site-packages\\sklearn\\base.py:450: UserWarning: X does not have valid feature names, but GaussianNB was fitted with feature names\n",
      "  warnings.warn(\n"
     ]
    },
    {
     "data": {
      "image/png": "[encoded data removed]",
      "text/plain": [
       "<Figure size 576x396 with 2 Axes>"
      ]
     },
     "metadata": {},
     "output_type": "display_data"
    },
    {
     "data": {
      "text/plain": [
       "<AxesSubplot:title={'center':'GaussianNB Classification Report'}>"
      ]
     },
     "execution_count": 85,
     "metadata": {},
     "output_type": "execute_result"
    }
   ],
   "source": [
    "from sklearn.model_selection import TimeSeriesSplit\n",
    "import yellowbrick\n",
    "from yellowbrick.classifier import ClassificationReport\n",
    "from yellowbrick.datasets import load_occupancy\n",
    "\n",
    "# Specify the target classes\n",
    "classes = [\"Not CKD\", \"CKD\"]\n",
    "\n",
    "visualizer = ClassificationReport(gnb, classes=classes, support=True)\n",
    "visualizer.fit(os_data_X1, os_data_y) \n",
    "visualizer.score(X_test1, y_test)    # Evaluate the model on the test data\n",
    "visualizer.show()   "
   ]
  },
  {
   "cell_type": "markdown",
   "id": "82a5b417",
   "metadata": {},
   "source": [
    "### SVM"
   ]
  },
  {
   "cell_type": "code",
   "execution_count": 86,
   "id": "bd9182d7",
   "metadata": {},
   "outputs": [
    {
     "data": {
      "text/html": [
       "<style>#sk-container-id-2 {color: black;background-color: white;}#sk-container-id-2 pre{padding: 0;}#sk-container-id-2 div.sk-toggleable {background-color: white;}#sk-container-id-2 label.sk-toggleable__label {cursor: pointer;display: block;width: 100%;margin-bottom: 0;padding: 0.3em;box-sizing: border-box;text-align: center;}#sk-container-id-2 label.sk-toggleable__label-arrow:before {content: \"▸\";float: left;margin-right: 0.25em;color: #696969;}#sk-container-id-2 label.sk-toggleable__label-arrow:hover:before {color: black;}#sk-container-id-2 div.sk-estimator:hover label.sk-toggleable__label-arrow:before {color: black;}#sk-container-id-2 div.sk-toggleable__content {max-height: 0;max-width: 0;overflow: hidden;text-align: left;background-color: #f0f8ff;}#sk-container-id-2 div.sk-toggleable__content pre {margin: 0.2em;color: black;border-radius: 0.25em;background-color: #f0f8ff;}#sk-container-id-2 input.sk-toggleable__control:checked~div.sk-toggleable__content {max-height: 200px;max-width: 100%;overflow: auto;}#sk-container-id-2 input.sk-toggleable__control:checked~label.sk-toggleable__label-arrow:before {content: \"▾\";}#sk-container-id-2 div.sk-estimator input.sk-toggleable__control:checked~label.sk-toggleable__label {background-color: #d4ebff;}#sk-container-id-2 div.sk-label input.sk-toggleable__control:checked~label.sk-toggleable__label {background-color: #d4ebff;}#sk-container-id-2 input.sk-hidden--visually {border: 0;clip: rect(1px 1px 1px 1px);clip: rect(1px, 1px, 1px, 1px);height: 1px;margin: -1px;overflow: hidden;padding: 0;position: absolute;width: 1px;}#sk-container-id-2 div.sk-estimator {font-family: monospace;background-color: #f0f8ff;border: 1px dotted black;border-radius: 0.25em;box-sizing: border-box;margin-bottom: 0.5em;}#sk-container-id-2 div.sk-estimator:hover {background-color: #d4ebff;}#sk-container-id-2 div.sk-parallel-item::after {content: \"\";width: 100%;border-bottom: 1px solid gray;flex-grow: 1;}#sk-container-id-2 div.sk-label:hover label.sk-toggleable__label {background-color: #d4ebff;}#sk-container-id-2 div.sk-serial::before {content: \"\";position: absolute;border-left: 1px solid gray;box-sizing: border-box;top: 0;bottom: 0;left: 50%;z-index: 0;}#sk-container-id-2 div.sk-serial {display: flex;flex-direction: column;align-items: center;background-color: white;padding-right: 0.2em;padding-left: 0.2em;position: relative;}#sk-container-id-2 div.sk-item {position: relative;z-index: 1;}#sk-container-id-2 div.sk-parallel {display: flex;align-items: stretch;justify-content: center;background-color: white;position: relative;}#sk-container-id-2 div.sk-item::before, #sk-container-id-2 div.sk-parallel-item::before {content: \"\";position: absolute;border-left: 1px solid gray;box-sizing: border-box;top: 0;bottom: 0;left: 50%;z-index: -1;}#sk-container-id-2 div.sk-parallel-item {display: flex;flex-direction: column;z-index: 1;position: relative;background-color: white;}#sk-container-id-2 div.sk-parallel-item:first-child::after {align-self: flex-end;width: 50%;}#sk-container-id-2 div.sk-parallel-item:last-child::after {align-self: flex-start;width: 50%;}#sk-container-id-2 div.sk-parallel-item:only-child::after {width: 0;}#sk-container-id-2 div.sk-dashed-wrapped {border: 1px dashed gray;margin: 0 0.4em 0.5em 0.4em;box-sizing: border-box;padding-bottom: 0.4em;background-color: white;}#sk-container-id-2 div.sk-label label {font-family: monospace;font-weight: bold;display: inline-block;line-height: 1.2em;}#sk-container-id-2 div.sk-label-container {text-align: center;}#sk-container-id-2 div.sk-container {/* jupyter's `normalize.less` sets `[hidden] { display: none; }` but bootstrap.min.css set `[hidden] { display: none !important; }` so we also need the `!important` here to be able to override the default hidden behavior on the sphinx rendered scikit-learn.org. See: https://github.com/scikit-learn/scikit-learn/issues/21755 */display: inline-block !important;position: relative;}#sk-container-id-2 div.sk-text-repr-fallback {display: none;}</style><div id=\"sk-container-id-2\" class=\"sk-top-container\"><div class=\"sk-text-repr-fallback\"><pre>GridSearchCV(estimator=SVC(),\n",
       "             param_grid={&#x27;C&#x27;: [0.1, 1, 10, 100, 1000],\n",
       "                         &#x27;gamma&#x27;: [1, 0.1, 0.01, 0.001, 0.0001],\n",
       "                         &#x27;kernel&#x27;: [&#x27;rbf&#x27;, &#x27;sigmoid&#x27;, &#x27;poly&#x27;, &#x27;linear&#x27;]})</pre><b>In a Jupyter environment, please rerun this cell to show the HTML representation or trust the notebook. <br />On GitHub, the HTML representation is unable to render, please try loading this page with nbviewer.org.</b></div><div class=\"sk-container\" hidden><div class=\"sk-item sk-dashed-wrapped\"><div class=\"sk-label-container\"><div class=\"sk-label sk-toggleable\"><input class=\"sk-toggleable__control sk-hidden--visually\" id=\"sk-estimator-id-2\" type=\"checkbox\" ><label for=\"sk-estimator-id-2\" class=\"sk-toggleable__label sk-toggleable__label-arrow\">GridSearchCV</label><div class=\"sk-toggleable__content\"><pre>GridSearchCV(estimator=SVC(),\n",
       "             param_grid={&#x27;C&#x27;: [0.1, 1, 10, 100, 1000],\n",
       "                         &#x27;gamma&#x27;: [1, 0.1, 0.01, 0.001, 0.0001],\n",
       "                         &#x27;kernel&#x27;: [&#x27;rbf&#x27;, &#x27;sigmoid&#x27;, &#x27;poly&#x27;, &#x27;linear&#x27;]})</pre></div></div></div><div class=\"sk-parallel\"><div class=\"sk-parallel-item\"><div class=\"sk-item\"><div class=\"sk-label-container\"><div class=\"sk-label sk-toggleable\"><input class=\"sk-toggleable__control sk-hidden--visually\" id=\"sk-estimator-id-3\" type=\"checkbox\" ><label for=\"sk-estimator-id-3\" class=\"sk-toggleable__label sk-toggleable__label-arrow\">estimator: SVC</label><div class=\"sk-toggleable__content\"><pre>SVC()</pre></div></div></div><div class=\"sk-serial\"><div class=\"sk-item\"><div class=\"sk-estimator sk-toggleable\"><input class=\"sk-toggleable__control sk-hidden--visually\" id=\"sk-estimator-id-4\" type=\"checkbox\" ><label for=\"sk-estimator-id-4\" class=\"sk-toggleable__label sk-toggleable__label-arrow\">SVC</label><div class=\"sk-toggleable__content\"><pre>SVC()</pre></div></div></div></div></div></div></div></div></div></div>"
      ],
      "text/plain": [
       "GridSearchCV(estimator=SVC(),\n",
       "             param_grid={'C': [0.1, 1, 10, 100, 1000],\n",
       "                         'gamma': [1, 0.1, 0.01, 0.001, 0.0001],\n",
       "                         'kernel': ['rbf', 'sigmoid', 'poly', 'linear']})"
      ]
     },
     "execution_count": 86,
     "metadata": {},
     "output_type": "execute_result"
    }
   ],
   "source": [
    "from sklearn.svm import SVC\n",
    "from sklearn.metrics import accuracy_score\n",
    "from sklearn.model_selection import GridSearchCV \n",
    "  \n",
    "# defining parameter range \n",
    "param_grid = {'C': [0.1, 1, 10, 100, 1000],  \n",
    "              'gamma': [1, 0.1, 0.01, 0.001, 0.0001], \n",
    "              'kernel': ['rbf','sigmoid','poly','linear']}  \n",
    "  \n",
    "grid = GridSearchCV(SVC(), param_grid, refit = True) \n",
    "  \n",
    "# fitting the model for grid search \n",
    "grid.fit(os_data_X1,  os_data_y.values.ravel())"
   ]
  },
  {
   "cell_type": "code",
   "execution_count": 87,
   "id": "040789db",
   "metadata": {},
   "outputs": [
    {
     "data": {
      "text/plain": [
       "{'C': 1, 'gamma': 0.1, 'kernel': 'rbf'}"
      ]
     },
     "execution_count": 87,
     "metadata": {},
     "output_type": "execute_result"
    }
   ],
   "source": [
    "best_parameters = grid.best_params_\n",
    "best_parameters"
   ]
  },
  {
   "cell_type": "code",
   "execution_count": 88,
   "id": "a7a01853",
   "metadata": {},
   "outputs": [],
   "source": [
    "# make predictions on test set\n",
    "y_pred1=grid.predict(X_test1)"
   ]
  },
  {
   "cell_type": "code",
   "execution_count": 89,
   "id": "3ed35b6f",
   "metadata": {
    "scrolled": false
   },
   "outputs": [
    {
     "name": "stdout",
     "output_type": "stream",
     "text": [
      "SVM model accuracy score with default hyperparameters: 0.9800\n"
     ]
    }
   ],
   "source": [
    "# compute and print accuracy score\n",
    "print('SVM model accuracy score with default hyperparameters: {0:0.4f}'. format(accuracy_score(y_test, y_pred1)))"
   ]
  },
  {
   "cell_type": "code",
   "execution_count": 90,
   "id": "0f8b775f",
   "metadata": {
    "scrolled": false
   },
   "outputs": [
    {
     "name": "stderr",
     "output_type": "stream",
     "text": [
      "C:\\Users\\MSI\\anaconda3\\lib\\site-packages\\sklearn\\base.py:450: UserWarning: X does not have valid feature names, but SVC was fitted with feature names\n",
      "  warnings.warn(\n"
     ]
    },
    {
     "data": {
      "image/png": "[encoded data removed]",
      "text/plain": [
       "<Figure size 576x396 with 2 Axes>"
      ]
     },
     "metadata": {},
     "output_type": "display_data"
    },
    {
     "data": {
      "text/plain": [
       "<AxesSubplot:title={'center':'GridSearchCV Classification Report'}>"
      ]
     },
     "execution_count": 90,
     "metadata": {},
     "output_type": "execute_result"
    }
   ],
   "source": [
    "from sklearn.model_selection import TimeSeriesSplit\n",
    "import yellowbrick\n",
    "from yellowbrick.classifier import ClassificationReport\n",
    "from yellowbrick.datasets import load_occupancy\n",
    "\n",
    "# Specify the target classes\n",
    "classes = [\"Not CKD\", \"CKD\"]\n",
    "\n",
    "visualizer = ClassificationReport(grid, classes=classes, support=True)\n",
    "visualizer.fit(os_data_X1, os_data_y) \n",
    "visualizer.score(X_test1, y_test)    # Evaluate the model on the test data\n",
    "visualizer.show()   "
   ]
  },
  {
   "cell_type": "markdown",
   "id": "a667d0ba",
   "metadata": {},
   "source": [
    "## Creating and testing the models with feature selection"
   ]
  },
  {
   "cell_type": "markdown",
   "id": "ed64a627",
   "metadata": {},
   "source": [
    "### KNN  (with feature selection)"
   ]
  },
  {
   "cell_type": "code",
   "execution_count": 91,
   "id": "13d81716",
   "metadata": {},
   "outputs": [
    {
     "name": "stdout",
     "output_type": "stream",
     "text": [
      "Best leaf_size: 2\n",
      "Best p: 1\n",
      "Best n_neighbors: 2\n"
     ]
    }
   ],
   "source": [
    "from sklearn.neighbors import KNeighborsClassifier\n",
    "from sklearn.model_selection import GridSearchCV\n",
    "leaf_size = list(range(2,20))# Par défaut c'est 30\n",
    "n_neighbors = list(range(1,25))\n",
    "p=[1,2] #p = 1 manhattan_distance/p=2 euclidean_distance\n",
    "#Convert to dictionary\n",
    "hyperparameters = dict(leaf_size=leaf_size, n_neighbors=n_neighbors, p=p)\n",
    "#Create new KNN object\n",
    "knn_2 = KNeighborsClassifier()\n",
    "#Use GridSearch\n",
    "clf = GridSearchCV(knn_2, hyperparameters, cv=10, n_jobs=-1)\n",
    "#n_jobs: number of CPU'sfor execution.\n",
    "#cv: number of folds of the cross validation\n",
    "\n",
    "#Fit the model\n",
    "best_model = clf.fit(os_data_X, os_data_y.values.ravel())\n",
    "#Print The value of best Hyperparameters\n",
    "print('Best leaf_size:', best_model.best_estimator_.get_params()['leaf_size'])\n",
    "print('Best p:', best_model.best_estimator_.get_params()['p'])\n",
    "print('Best n_neighbors:', best_model.best_estimator_.get_params()['n_neighbors'])"
   ]
  },
  {
   "cell_type": "code",
   "execution_count": 92,
   "id": "243cf691",
   "metadata": {},
   "outputs": [
    {
     "name": "stdout",
     "output_type": "stream",
     "text": [
      "{'leaf_size': 2, 'n_neighbors': 2, 'p': 1}\n"
     ]
    }
   ],
   "source": [
    "# Afficher les paramètres qui donnent les meilleurs performances\n",
    "best_parameters = clf.best_params_\n",
    "print(best_parameters)"
   ]
  },
  {
   "cell_type": "code",
   "execution_count": 93,
   "id": "0d494279",
   "metadata": {},
   "outputs": [],
   "source": [
    "knn = KNeighborsClassifier(n_neighbors=5,p=2,leaf_size=2 )\n",
    "knn_model = knn.fit(os_data_X, os_data_y.values.ravel())\n",
    "y_pred_knn1 = knn_model.predict(X_test)"
   ]
  },
  {
   "cell_type": "code",
   "execution_count": 94,
   "id": "28e6d529",
   "metadata": {},
   "outputs": [
    {
     "name": "stdout",
     "output_type": "stream",
     "text": [
      "Accuracy of K-NN classifier on training set: 0.98\n",
      "Accuracy of K-NN classifier on test set: 0.98\n"
     ]
    }
   ],
   "source": [
    "print('Accuracy of K-NN classifier on training set: {:.2f}'\n",
    "     .format(knn.score(os_data_X, os_data_y)))\n",
    "print('Accuracy of K-NN classifier on test set: {:.2f}'\n",
    "     .format(knn.score(X_test, y_test)))"
   ]
  },
  {
   "cell_type": "code",
   "execution_count": 95,
   "id": "33460b43",
   "metadata": {},
   "outputs": [
    {
     "name": "stderr",
     "output_type": "stream",
     "text": [
      "C:\\Users\\MSI\\anaconda3\\lib\\site-packages\\sklearn\\base.py:450: UserWarning: X does not have valid feature names, but KNeighborsClassifier was fitted with feature names\n",
      "  warnings.warn(\n"
     ]
    },
    {
     "data": {
      "image/png": "[encoded data removed]",
      "text/plain": [
       "<Figure size 576x396 with 2 Axes>"
      ]
     },
     "metadata": {},
     "output_type": "display_data"
    },
    {
     "data": {
      "text/plain": [
       "<AxesSubplot:title={'center':'KNeighborsClassifier Classification Report'}>"
      ]
     },
     "execution_count": 95,
     "metadata": {},
     "output_type": "execute_result"
    }
   ],
   "source": [
    "from sklearn.model_selection import TimeSeriesSplit\n",
    "import yellowbrick\n",
    "from yellowbrick.classifier import ClassificationReport\n",
    "from yellowbrick.datasets import load_occupancy\n",
    "\n",
    "# Specify the target classes\n",
    "classes = [\"Not CKD\", \"CKD\"]\n",
    "\n",
    "visualizer = ClassificationReport(knn_model, classes=classes, support=True)\n",
    "visualizer.fit(os_data_X, os_data_y) \n",
    "visualizer.score(X_test, y_test)    # Evaluate the model on the test data\n",
    "visualizer.show()   "
   ]
  },
  {
   "cell_type": "markdown",
   "id": "e0d91650",
   "metadata": {},
   "source": [
    "### Naive Bayes  (with feature selection)"
   ]
  },
  {
   "cell_type": "code",
   "execution_count": 96,
   "id": "669e5d3e",
   "metadata": {
    "scrolled": true
   },
   "outputs": [
    {
     "data": {
      "text/html": [
       "<style>#sk-container-id-3 {color: black;background-color: white;}#sk-container-id-3 pre{padding: 0;}#sk-container-id-3 div.sk-toggleable {background-color: white;}#sk-container-id-3 label.sk-toggleable__label {cursor: pointer;display: block;width: 100%;margin-bottom: 0;padding: 0.3em;box-sizing: border-box;text-align: center;}#sk-container-id-3 label.sk-toggleable__label-arrow:before {content: \"▸\";float: left;margin-right: 0.25em;color: #696969;}#sk-container-id-3 label.sk-toggleable__label-arrow:hover:before {color: black;}#sk-container-id-3 div.sk-estimator:hover label.sk-toggleable__label-arrow:before {color: black;}#sk-container-id-3 div.sk-toggleable__content {max-height: 0;max-width: 0;overflow: hidden;text-align: left;background-color: #f0f8ff;}#sk-container-id-3 div.sk-toggleable__content pre {margin: 0.2em;color: black;border-radius: 0.25em;background-color: #f0f8ff;}#sk-container-id-3 input.sk-toggleable__control:checked~div.sk-toggleable__content {max-height: 200px;max-width: 100%;overflow: auto;}#sk-container-id-3 input.sk-toggleable__control:checked~label.sk-toggleable__label-arrow:before {content: \"▾\";}#sk-container-id-3 div.sk-estimator input.sk-toggleable__control:checked~label.sk-toggleable__label {background-color: #d4ebff;}#sk-container-id-3 div.sk-label input.sk-toggleable__control:checked~label.sk-toggleable__label {background-color: #d4ebff;}#sk-container-id-3 input.sk-hidden--visually {border: 0;clip: rect(1px 1px 1px 1px);clip: rect(1px, 1px, 1px, 1px);height: 1px;margin: -1px;overflow: hidden;padding: 0;position: absolute;width: 1px;}#sk-container-id-3 div.sk-estimator {font-family: monospace;background-color: #f0f8ff;border: 1px dotted black;border-radius: 0.25em;box-sizing: border-box;margin-bottom: 0.5em;}#sk-container-id-3 div.sk-estimator:hover {background-color: #d4ebff;}#sk-container-id-3 div.sk-parallel-item::after {content: \"\";width: 100%;border-bottom: 1px solid gray;flex-grow: 1;}#sk-container-id-3 div.sk-label:hover label.sk-toggleable__label {background-color: #d4ebff;}#sk-container-id-3 div.sk-serial::before {content: \"\";position: absolute;border-left: 1px solid gray;box-sizing: border-box;top: 0;bottom: 0;left: 50%;z-index: 0;}#sk-container-id-3 div.sk-serial {display: flex;flex-direction: column;align-items: center;background-color: white;padding-right: 0.2em;padding-left: 0.2em;position: relative;}#sk-container-id-3 div.sk-item {position: relative;z-index: 1;}#sk-container-id-3 div.sk-parallel {display: flex;align-items: stretch;justify-content: center;background-color: white;position: relative;}#sk-container-id-3 div.sk-item::before, #sk-container-id-3 div.sk-parallel-item::before {content: \"\";position: absolute;border-left: 1px solid gray;box-sizing: border-box;top: 0;bottom: 0;left: 50%;z-index: -1;}#sk-container-id-3 div.sk-parallel-item {display: flex;flex-direction: column;z-index: 1;position: relative;background-color: white;}#sk-container-id-3 div.sk-parallel-item:first-child::after {align-self: flex-end;width: 50%;}#sk-container-id-3 div.sk-parallel-item:last-child::after {align-self: flex-start;width: 50%;}#sk-container-id-3 div.sk-parallel-item:only-child::after {width: 0;}#sk-container-id-3 div.sk-dashed-wrapped {border: 1px dashed gray;margin: 0 0.4em 0.5em 0.4em;box-sizing: border-box;padding-bottom: 0.4em;background-color: white;}#sk-container-id-3 div.sk-label label {font-family: monospace;font-weight: bold;display: inline-block;line-height: 1.2em;}#sk-container-id-3 div.sk-label-container {text-align: center;}#sk-container-id-3 div.sk-container {/* jupyter's `normalize.less` sets `[hidden] { display: none; }` but bootstrap.min.css set `[hidden] { display: none !important; }` so we also need the `!important` here to be able to override the default hidden behavior on the sphinx rendered scikit-learn.org. See: https://github.com/scikit-learn/scikit-learn/issues/21755 */display: inline-block !important;position: relative;}#sk-container-id-3 div.sk-text-repr-fallback {display: none;}</style><div id=\"sk-container-id-3\" class=\"sk-top-container\"><div class=\"sk-text-repr-fallback\"><pre>GaussianNB()</pre><b>In a Jupyter environment, please rerun this cell to show the HTML representation or trust the notebook. <br />On GitHub, the HTML representation is unable to render, please try loading this page with nbviewer.org.</b></div><div class=\"sk-container\" hidden><div class=\"sk-item\"><div class=\"sk-estimator sk-toggleable\"><input class=\"sk-toggleable__control sk-hidden--visually\" id=\"sk-estimator-id-5\" type=\"checkbox\" checked><label for=\"sk-estimator-id-5\" class=\"sk-toggleable__label sk-toggleable__label-arrow\">GaussianNB</label><div class=\"sk-toggleable__content\"><pre>GaussianNB()</pre></div></div></div></div></div>"
      ],
      "text/plain": [
       "GaussianNB()"
      ]
     },
     "execution_count": 96,
     "metadata": {},
     "output_type": "execute_result"
    }
   ],
   "source": [
    "from sklearn.naive_bayes import GaussianNB\n",
    "gnb = GaussianNB()\n",
    "gnb.fit(os_data_X, os_data_y.values.ravel())"
   ]
  },
  {
   "cell_type": "code",
   "execution_count": 97,
   "id": "bc872c45",
   "metadata": {},
   "outputs": [],
   "source": [
    "# making predictions on the testing set\n",
    "y_pred2 = gnb.predict(X_test) "
   ]
  },
  {
   "cell_type": "code",
   "execution_count": 98,
   "id": "194593a9",
   "metadata": {},
   "outputs": [
    {
     "name": "stdout",
     "output_type": "stream",
     "text": [
      "Gaussian Naive Bayes model accuracy: 0.95\n"
     ]
    }
   ],
   "source": [
    "# comparing actual response values (y_test) with predicted response values (y_pred)\n",
    "from sklearn import metrics\n",
    "print(\"Gaussian Naive Bayes model accuracy:\", metrics.accuracy_score(y_test, y_pred2))"
   ]
  },
  {
   "cell_type": "code",
   "execution_count": 99,
   "id": "c4bf1c9a",
   "metadata": {
    "scrolled": false
   },
   "outputs": [
    {
     "name": "stderr",
     "output_type": "stream",
     "text": [
      "C:\\Users\\MSI\\anaconda3\\lib\\site-packages\\sklearn\\base.py:450: UserWarning: X does not have valid feature names, but GaussianNB was fitted with feature names\n",
      "  warnings.warn(\n"
     ]
    },
    {
     "data": {
      "image/png": "[encoded data removed]",
      "text/plain": [
       "<Figure size 576x396 with 2 Axes>"
      ]
     },
     "metadata": {},
     "output_type": "display_data"
    },
    {
     "data": {
      "text/plain": [
       "<AxesSubplot:title={'center':'GaussianNB Classification Report'}>"
      ]
     },
     "execution_count": 99,
     "metadata": {},
     "output_type": "execute_result"
    }
   ],
   "source": [
    "#from sklearn.metrics import classification_report\n",
    "#print(classification_report(y_test, y_pred))\n",
    "from sklearn.model_selection import TimeSeriesSplit\n",
    "import yellowbrick\n",
    "from yellowbrick.classifier import ClassificationReport\n",
    "from yellowbrick.datasets import load_occupancy\n",
    "\n",
    "# Specify the target classes\n",
    "classes = [\"Not CKD\", \"CKD\"]\n",
    "\n",
    "visualizer = ClassificationReport(gnb, classes=classes, support=True)\n",
    "visualizer.fit(os_data_X, os_data_y) \n",
    "visualizer.score(X_test, y_test)    # Evaluate the model on the test data\n",
    "visualizer.show()   "
   ]
  },
  {
   "cell_type": "markdown",
   "id": "53110130",
   "metadata": {},
   "source": [
    "### SVM  (with feature selection)"
   ]
  },
  {
   "cell_type": "code",
   "execution_count": 100,
   "id": "32740870",
   "metadata": {},
   "outputs": [
    {
     "data": {
      "text/html": [
       "<style>#sk-container-id-4 {color: black;background-color: white;}#sk-container-id-4 pre{padding: 0;}#sk-container-id-4 div.sk-toggleable {background-color: white;}#sk-container-id-4 label.sk-toggleable__label {cursor: pointer;display: block;width: 100%;margin-bottom: 0;padding: 0.3em;box-sizing: border-box;text-align: center;}#sk-container-id-4 label.sk-toggleable__label-arrow:before {content: \"▸\";float: left;margin-right: 0.25em;color: #696969;}#sk-container-id-4 label.sk-toggleable__label-arrow:hover:before {color: black;}#sk-container-id-4 div.sk-estimator:hover label.sk-toggleable__label-arrow:before {color: black;}#sk-container-id-4 div.sk-toggleable__content {max-height: 0;max-width: 0;overflow: hidden;text-align: left;background-color: #f0f8ff;}#sk-container-id-4 div.sk-toggleable__content pre {margin: 0.2em;color: black;border-radius: 0.25em;background-color: #f0f8ff;}#sk-container-id-4 input.sk-toggleable__control:checked~div.sk-toggleable__content {max-height: 200px;max-width: 100%;overflow: auto;}#sk-container-id-4 input.sk-toggleable__control:checked~label.sk-toggleable__label-arrow:before {content: \"▾\";}#sk-container-id-4 div.sk-estimator input.sk-toggleable__control:checked~label.sk-toggleable__label {background-color: #d4ebff;}#sk-container-id-4 div.sk-label input.sk-toggleable__control:checked~label.sk-toggleable__label {background-color: #d4ebff;}#sk-container-id-4 input.sk-hidden--visually {border: 0;clip: rect(1px 1px 1px 1px);clip: rect(1px, 1px, 1px, 1px);height: 1px;margin: -1px;overflow: hidden;padding: 0;position: absolute;width: 1px;}#sk-container-id-4 div.sk-estimator {font-family: monospace;background-color: #f0f8ff;border: 1px dotted black;border-radius: 0.25em;box-sizing: border-box;margin-bottom: 0.5em;}#sk-container-id-4 div.sk-estimator:hover {background-color: #d4ebff;}#sk-container-id-4 div.sk-parallel-item::after {content: \"\";width: 100%;border-bottom: 1px solid gray;flex-grow: 1;}#sk-container-id-4 div.sk-label:hover label.sk-toggleable__label {background-color: #d4ebff;}#sk-container-id-4 div.sk-serial::before {content: \"\";position: absolute;border-left: 1px solid gray;box-sizing: border-box;top: 0;bottom: 0;left: 50%;z-index: 0;}#sk-container-id-4 div.sk-serial {display: flex;flex-direction: column;align-items: center;background-color: white;padding-right: 0.2em;padding-left: 0.2em;position: relative;}#sk-container-id-4 div.sk-item {position: relative;z-index: 1;}#sk-container-id-4 div.sk-parallel {display: flex;align-items: stretch;justify-content: center;background-color: white;position: relative;}#sk-container-id-4 div.sk-item::before, #sk-container-id-4 div.sk-parallel-item::before {content: \"\";position: absolute;border-left: 1px solid gray;box-sizing: border-box;top: 0;bottom: 0;left: 50%;z-index: -1;}#sk-container-id-4 div.sk-parallel-item {display: flex;flex-direction: column;z-index: 1;position: relative;background-color: white;}#sk-container-id-4 div.sk-parallel-item:first-child::after {align-self: flex-end;width: 50%;}#sk-container-id-4 div.sk-parallel-item:last-child::after {align-self: flex-start;width: 50%;}#sk-container-id-4 div.sk-parallel-item:only-child::after {width: 0;}#sk-container-id-4 div.sk-dashed-wrapped {border: 1px dashed gray;margin: 0 0.4em 0.5em 0.4em;box-sizing: border-box;padding-bottom: 0.4em;background-color: white;}#sk-container-id-4 div.sk-label label {font-family: monospace;font-weight: bold;display: inline-block;line-height: 1.2em;}#sk-container-id-4 div.sk-label-container {text-align: center;}#sk-container-id-4 div.sk-container {/* jupyter's `normalize.less` sets `[hidden] { display: none; }` but bootstrap.min.css set `[hidden] { display: none !important; }` so we also need the `!important` here to be able to override the default hidden behavior on the sphinx rendered scikit-learn.org. See: https://github.com/scikit-learn/scikit-learn/issues/21755 */display: inline-block !important;position: relative;}#sk-container-id-4 div.sk-text-repr-fallback {display: none;}</style><div id=\"sk-container-id-4\" class=\"sk-top-container\"><div class=\"sk-text-repr-fallback\"><pre>GridSearchCV(estimator=SVC(),\n",
       "             param_grid={&#x27;C&#x27;: [0.1, 1, 10, 100, 1000],\n",
       "                         &#x27;gamma&#x27;: [1, 0.1, 0.01, 0.001, 0.0001],\n",
       "                         &#x27;kernel&#x27;: [&#x27;rbf&#x27;, &#x27;sigmoid&#x27;, &#x27;poly&#x27;, &#x27;linear&#x27;]})</pre><b>In a Jupyter environment, please rerun this cell to show the HTML representation or trust the notebook. <br />On GitHub, the HTML representation is unable to render, please try loading this page with nbviewer.org.</b></div><div class=\"sk-container\" hidden><div class=\"sk-item sk-dashed-wrapped\"><div class=\"sk-label-container\"><div class=\"sk-label sk-toggleable\"><input class=\"sk-toggleable__control sk-hidden--visually\" id=\"sk-estimator-id-6\" type=\"checkbox\" ><label for=\"sk-estimator-id-6\" class=\"sk-toggleable__label sk-toggleable__label-arrow\">GridSearchCV</label><div class=\"sk-toggleable__content\"><pre>GridSearchCV(estimator=SVC(),\n",
       "             param_grid={&#x27;C&#x27;: [0.1, 1, 10, 100, 1000],\n",
       "                         &#x27;gamma&#x27;: [1, 0.1, 0.01, 0.001, 0.0001],\n",
       "                         &#x27;kernel&#x27;: [&#x27;rbf&#x27;, &#x27;sigmoid&#x27;, &#x27;poly&#x27;, &#x27;linear&#x27;]})</pre></div></div></div><div class=\"sk-parallel\"><div class=\"sk-parallel-item\"><div class=\"sk-item\"><div class=\"sk-label-container\"><div class=\"sk-label sk-toggleable\"><input class=\"sk-toggleable__control sk-hidden--visually\" id=\"sk-estimator-id-7\" type=\"checkbox\" ><label for=\"sk-estimator-id-7\" class=\"sk-toggleable__label sk-toggleable__label-arrow\">estimator: SVC</label><div class=\"sk-toggleable__content\"><pre>SVC()</pre></div></div></div><div class=\"sk-serial\"><div class=\"sk-item\"><div class=\"sk-estimator sk-toggleable\"><input class=\"sk-toggleable__control sk-hidden--visually\" id=\"sk-estimator-id-8\" type=\"checkbox\" ><label for=\"sk-estimator-id-8\" class=\"sk-toggleable__label sk-toggleable__label-arrow\">SVC</label><div class=\"sk-toggleable__content\"><pre>SVC()</pre></div></div></div></div></div></div></div></div></div></div>"
      ],
      "text/plain": [
       "GridSearchCV(estimator=SVC(),\n",
       "             param_grid={'C': [0.1, 1, 10, 100, 1000],\n",
       "                         'gamma': [1, 0.1, 0.01, 0.001, 0.0001],\n",
       "                         'kernel': ['rbf', 'sigmoid', 'poly', 'linear']})"
      ]
     },
     "execution_count": 100,
     "metadata": {},
     "output_type": "execute_result"
    }
   ],
   "source": [
    "from sklearn.svm import SVC\n",
    "from sklearn.metrics import accuracy_score\n",
    "from sklearn.model_selection import GridSearchCV \n",
    "  \n",
    "# defining parameter range \n",
    "param_grid = {'C': [0.1, 1, 10, 100, 1000],  \n",
    "              'gamma': [1, 0.1, 0.01, 0.001, 0.0001], \n",
    "              'kernel': ['rbf','sigmoid','poly','linear']}  \n",
    "  \n",
    "grid = GridSearchCV(SVC(), param_grid, refit = True) \n",
    "  \n",
    "# fitting the model for grid search \n",
    "grid.fit(os_data_X,  os_data_y.values.ravel())"
   ]
  },
  {
   "cell_type": "code",
   "execution_count": 101,
   "id": "b9609ca8",
   "metadata": {},
   "outputs": [],
   "source": [
    "# make predictions on test set\n",
    "y_pred3=grid.predict(X_test)"
   ]
  },
  {
   "cell_type": "code",
   "execution_count": 102,
   "id": "f24fc444",
   "metadata": {
    "scrolled": false
   },
   "outputs": [
    {
     "name": "stdout",
     "output_type": "stream",
     "text": [
      "SVM model accuracy score: 0.9900\n"
     ]
    }
   ],
   "source": [
    "# compute and print accuracy score\n",
    "print('SVM model accuracy score: {0:0.4f}'. format(accuracy_score(y_test, y_pred3)))"
   ]
  },
  {
   "cell_type": "code",
   "execution_count": 103,
   "id": "d1ed499f",
   "metadata": {
    "scrolled": false
   },
   "outputs": [
    {
     "name": "stderr",
     "output_type": "stream",
     "text": [
      "C:\\Users\\MSI\\anaconda3\\lib\\site-packages\\sklearn\\base.py:450: UserWarning: X does not have valid feature names, but SVC was fitted with feature names\n",
      "  warnings.warn(\n"
     ]
    },
    {
     "data": {
      "image/png": "[encoded data removed]",
      "text/plain": [
       "<Figure size 576x396 with 2 Axes>"
      ]
     },
     "metadata": {},
     "output_type": "display_data"
    },
    {
     "data": {
      "text/plain": [
       "<AxesSubplot:title={'center':'GridSearchCV Classification Report'}>"
      ]
     },
     "execution_count": 103,
     "metadata": {},
     "output_type": "execute_result"
    }
   ],
   "source": [
    "from sklearn.model_selection import TimeSeriesSplit\n",
    "import yellowbrick\n",
    "from yellowbrick.classifier import ClassificationReport\n",
    "from yellowbrick.datasets import load_occupancy\n",
    "\n",
    "# Specify the target classes\n",
    "classes = [\"Not CKD\", \"CKD\"]\n",
    "\n",
    "visualizer = ClassificationReport(grid, classes=classes, support=True)\n",
    "visualizer.fit(os_data_X, os_data_y) \n",
    "visualizer.score(X_test, y_test)    # Evaluate the model on the test data\n",
    "visualizer.show()   "
   ]
  },
  {
   "cell_type": "markdown",
   "id": "ecabfc54",
   "metadata": {},
   "source": [
    "## Creating and testing the models with adaboost (after feature selection)"
   ]
  },
  {
   "cell_type": "markdown",
   "id": "e03367a4",
   "metadata": {},
   "source": [
    "### SVM With AdaBoost (after feature selection)"
   ]
  },
  {
   "cell_type": "code",
   "execution_count": 104,
   "id": "d0d224d3",
   "metadata": {},
   "outputs": [],
   "source": [
    "from sklearn.ensemble import AdaBoostClassifier\n",
    "abcl = AdaBoostClassifier(base_estimator=SVC(),algorithm='SAMME',n_estimators=100,random_state=100)\n",
    "abcl = abcl.fit(os_data_X, os_data_y.values.ravel())\n",
    "y_predict = abcl.predict(X_test)"
   ]
  },
  {
   "cell_type": "code",
   "execution_count": 105,
   "id": "9801e3ea",
   "metadata": {},
   "outputs": [
    {
     "name": "stdout",
     "output_type": "stream",
     "text": [
      "Accuracy using AdaBoosting:  0.96\n",
      "Confusion Matrix: \n",
      " [[38  0]\n",
      " [ 4 58]]\n"
     ]
    }
   ],
   "source": [
    "from sklearn import metrics\n",
    "#Evaluate the model using accuracy and confusion matrix\n",
    "acc_AB=metrics.accuracy_score(y_test, y_predict)\n",
    "print('Accuracy using AdaBoosting: ',acc_AB)\n",
    "print('Confusion Matrix: \\n',metrics.confusion_matrix(y_test, y_predict))"
   ]
  },
  {
   "cell_type": "code",
   "execution_count": 106,
   "id": "476acf65",
   "metadata": {},
   "outputs": [
    {
     "name": "stderr",
     "output_type": "stream",
     "text": [
      "C:\\Users\\MSI\\anaconda3\\lib\\site-packages\\sklearn\\base.py:450: UserWarning: X does not have valid feature names, but AdaBoostClassifier was fitted with feature names\n",
      "  warnings.warn(\n"
     ]
    },
    {
     "data": {
      "image/png": "[encoded data removed]",
      "text/plain": [
       "<Figure size 576x396 with 2 Axes>"
      ]
     },
     "metadata": {},
     "output_type": "display_data"
    },
    {
     "data": {
      "text/plain": [
       "<AxesSubplot:title={'center':'AdaBoostClassifier Classification Report'}>"
      ]
     },
     "execution_count": 106,
     "metadata": {},
     "output_type": "execute_result"
    }
   ],
   "source": [
    "from sklearn.model_selection import TimeSeriesSplit\n",
    "import yellowbrick\n",
    "from yellowbrick.classifier import ClassificationReport\n",
    "from yellowbrick.datasets import load_occupancy\n",
    "\n",
    "# Specify the target classes\n",
    "classes = [\"Not CKD\", \"CKD\"]\n",
    "\n",
    "visualizer = ClassificationReport(abcl, classes=classes, support=True)\n",
    "visualizer.fit(os_data_X, os_data_y) \n",
    "visualizer.score(X_test, y_test)    # Evaluate the model on the test data\n",
    "visualizer.show()   "
   ]
  },
  {
   "cell_type": "markdown",
   "id": "c1fdf389",
   "metadata": {},
   "source": [
    "### Naive-Bayes With AdaBoost (after feature selection)"
   ]
  },
  {
   "cell_type": "code",
   "execution_count": 107,
   "id": "ba9c8b5f",
   "metadata": {},
   "outputs": [],
   "source": [
    "from sklearn.ensemble import AdaBoostClassifier\n",
    "abcl = AdaBoostClassifier(base_estimator=GaussianNB(),n_estimators=100,random_state=100)\n",
    "abcl = abcl.fit(os_data_X, os_data_y.values.ravel())\n",
    "y_predict1 = abcl.predict(X_test)"
   ]
  },
  {
   "cell_type": "code",
   "execution_count": 108,
   "id": "c0781316",
   "metadata": {},
   "outputs": [
    {
     "name": "stdout",
     "output_type": "stream",
     "text": [
      "Accuracy using AdaBoosting:  0.99\n",
      "Confusion Matrix: \n",
      " [[38  0]\n",
      " [ 1 61]]\n"
     ]
    }
   ],
   "source": [
    "from sklearn import metrics\n",
    "#Evaluate the model using accuracy and confusion matrix\n",
    "acc_AB=metrics.accuracy_score(y_test, y_predict1)\n",
    "print('Accuracy using AdaBoosting: ',acc_AB)\n",
    "print('Confusion Matrix: \\n',metrics.confusion_matrix(y_test, y_predict1))"
   ]
  },
  {
   "cell_type": "code",
   "execution_count": 109,
   "id": "ce143657",
   "metadata": {},
   "outputs": [
    {
     "name": "stderr",
     "output_type": "stream",
     "text": [
      "C:\\Users\\MSI\\anaconda3\\lib\\site-packages\\sklearn\\base.py:450: UserWarning: X does not have valid feature names, but AdaBoostClassifier was fitted with feature names\n",
      "  warnings.warn(\n"
     ]
    },
    {
     "data": {
      "image/png": "[encoded data removed]",
      "text/plain": [
       "<Figure size 576x396 with 2 Axes>"
      ]
     },
     "metadata": {},
     "output_type": "display_data"
    },
    {
     "data": {
      "text/plain": [
       "<AxesSubplot:title={'center':'AdaBoostClassifier Classification Report'}>"
      ]
     },
     "execution_count": 109,
     "metadata": {},
     "output_type": "execute_result"
    }
   ],
   "source": [
    "from sklearn.model_selection import TimeSeriesSplit\n",
    "import yellowbrick\n",
    "from yellowbrick.classifier import ClassificationReport\n",
    "from yellowbrick.datasets import load_occupancy\n",
    "\n",
    "# Specify the target classes\n",
    "classes = [\"Not CKD\", \"CKD\"]\n",
    "\n",
    "visualizer = ClassificationReport(abcl, classes=classes, support=True)\n",
    "visualizer.fit(os_data_X, os_data_y) \n",
    "visualizer.score(X_test, y_test)    # Evaluate the model on the test data\n",
    "visualizer.show()   "
   ]
  },
  {
   "cell_type": "code",
   "execution_count": 110,
   "id": "95414aba",
   "metadata": {},
   "outputs": [
    {
     "data": {
      "image/png": "[encoded data removed]",
      "text/plain": [
       "<Figure size 576x576 with 1 Axes>"
      ]
     },
     "metadata": {},
     "output_type": "display_data"
    }
   ],
   "source": [
    "from sklearn.metrics import roc_curve, auc\n",
    "fpr1, tpr1, threshold1 = roc_curve(y_test, y_pred_knn) \n",
    "roc_auc1 = auc(fpr1, tpr1)\n",
    "fpr2, tpr2, threshold2 = roc_curve(y_test, y_pred) \n",
    "roc_auc2 = auc(fpr2, tpr2)\n",
    "fpr3, tpr3, threshold3 = roc_curve(y_test, y_pred1)\n",
    "roc_auc3 = auc(fpr3, tpr3)\n",
    "fpr4, tpr4, threshold4 = roc_curve(y_test, y_pred_knn1) \n",
    "roc_auc4 = auc(fpr4, tpr4)\n",
    "fpr5, tpr5, threshold5 = roc_curve(y_test, y_pred2) \n",
    "roc_auc5 = auc(fpr5, tpr5)\n",
    "fpr6, tpr6, threshold6 = roc_curve(y_test, y_pred3) \n",
    "roc_auc6 = auc(fpr6, tpr6)\n",
    "fpr7, tpr7, threshold7 = roc_curve(y_test, y_predict) \n",
    "roc_auc7 = auc(fpr7, tpr7)\n",
    "fpr8, tpr8, threshold8 = roc_curve(y_test, y_predict1) \n",
    "roc_auc8 = auc(fpr8, tpr8)\n",
    "plt.figure(figsize=(8,8))\n",
    "plt.plot(fpr1, tpr1, color='black', lw=2, label='KNN (area = %0.2f)'% roc_auc1)\n",
    "plt.plot(fpr2, tpr2, color='orange', lw=2, label='Naive Bayes (area = %0.2f)'% roc_auc2)\n",
    "plt.plot(fpr3, tpr3, color='red', lw=2, label='SVM (area = %0.2f)'% roc_auc3)\n",
    "plt.plot(fpr4, tpr4, color='yellow', lw=2, label='KNN after CFS (area = %0.2f)'% roc_auc4)\n",
    "plt.plot(fpr5, tpr5, color='magenta', lw=2, label='Naive Bayes after CFS (area = %0.2f)'% roc_auc5)\n",
    "plt.plot(fpr6, tpr6, color='blue', lw=2, label='SVM after CFS (area = %0.2f)'% roc_auc6)\n",
    "plt.plot(fpr7, tpr7, color='cyan', lw=2, label='SVM after CFS + Adaboost (area = %0.2f)'% roc_auc7)\n",
    "plt.plot(fpr8, tpr8, color='green', lw=2, label=' Naive Bayes after CFS + Adaboost (area = %0.2f)'% roc_auc8)\n",
    "plt.plot([0, 1], [0, 1], color='red', lw=2, linestyle='--') \n",
    "plt.xlim([0.0, 1.0]) \n",
    "plt.ylim([0.0, 1.05]) \n",
    "plt.xlabel('False Positive Rate') \n",
    "plt.ylabel('True Positive Rate') \n",
    "plt.title('Classifiers ROC curves') \n",
    "plt.legend(loc = \"lower right\")\n",
    "plt.show()"
   ]
  }
 ],
 "metadata": {
  "kernelspec": {
   "display_name": "Python 3 (ipykernel)",
   "language": "python",
   "name": "python3"
  },
  "language_info": {
   "codemirror_mode": {
    "name": "ipython",
    "version": 3
   },
   "file_extension": ".py",
   "mimetype": "text/x-python",
   "name": "python",
   "nbconvert_exporter": "python",
   "pygments_lexer": "ipython3",
   "version": "3.9.7"
  }
 },
 "nbformat": 4,
 "nbformat_minor": 5
}
